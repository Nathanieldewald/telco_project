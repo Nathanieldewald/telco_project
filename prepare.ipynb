{
 "cells": [
  {
   "cell_type": "markdown",
   "source": [
    "# Prepare Telco Data"
   ],
   "metadata": {
    "collapsed": false
   }
  },
  {
   "cell_type": "markdown",
   "source": [
    "# Imports"
   ],
   "metadata": {
    "collapsed": false
   }
  },
  {
   "cell_type": "code",
   "execution_count": 1,
   "outputs": [],
   "source": [
    "import wrangle as w\n",
    "import pandas as pd\n",
    "import numpy as np\n",
    "import matplotlib.pyplot as plt\n",
    "import seaborn as sns\n",
    "from sklearn.model_selection import train_test_split\n"
   ],
   "metadata": {
    "collapsed": false,
    "ExecuteTime": {
     "start_time": "2023-04-27T11:54:36.792614Z",
     "end_time": "2023-04-27T11:54:36.867715Z"
    }
   }
  },
  {
   "cell_type": "markdown",
   "source": [
    "# Acquire Telco Data"
   ],
   "metadata": {
    "collapsed": false
   }
  },
  {
   "cell_type": "code",
   "execution_count": 10,
   "outputs": [],
   "source": [
    "# Acuire data from codeup database\n",
    "df = w.get_telco()\n"
   ],
   "metadata": {
    "collapsed": false,
    "ExecuteTime": {
     "start_time": "2023-04-27T11:55:01.054396Z",
     "end_time": "2023-04-27T11:55:01.075695Z"
    }
   }
  },
  {
   "cell_type": "code",
   "execution_count": 11,
   "outputs": [
    {
     "data": {
      "text/plain": "(7043, 24)"
     },
     "execution_count": 11,
     "metadata": {},
     "output_type": "execute_result"
    }
   ],
   "source": [
    "# Take a look at the shape of the dataframe\n",
    "df.shape"
   ],
   "metadata": {
    "collapsed": false,
    "ExecuteTime": {
     "start_time": "2023-04-27T11:55:03.915891Z",
     "end_time": "2023-04-27T11:55:03.919994Z"
    }
   }
  },
  {
   "cell_type": "code",
   "execution_count": 15,
   "outputs": [
    {
     "name": "stderr",
     "output_type": "stream",
     "text": [
      "/var/folders/53/yp563cbn3r7g84qqyk6nd4140000gn/T/ipykernel_13020/2309228067.py:2: FutureWarning: The default value of numeric_only in DataFrame.corr is deprecated. In a future version, it will default to False. Select only valid columns or specify the value of numeric_only to silence this warning.\n",
      "  df.corr()\n"
     ]
    },
    {
     "data": {
      "text/plain": "                          payment_type_id  internet_service_type_id  \\\npayment_type_id                  1.000000                  0.008124   \ninternet_service_type_id         0.008124                  1.000000   \ncontract_type_id                 0.358913                  0.099721   \nsenior_citizen                  -0.093704                 -0.032310   \ntenure                           0.340305                 -0.030359   \nmonthly_charges                 -0.074353                 -0.323260   \n\n                          contract_type_id  senior_citizen    tenure  \\\npayment_type_id                   0.358913       -0.093704  0.340305   \ninternet_service_type_id          0.099721       -0.032310 -0.030359   \ncontract_type_id                  1.000000       -0.142554  0.671607   \nsenior_citizen                   -0.142554        1.000000  0.016567   \ntenure                            0.671607        0.016567  1.000000   \nmonthly_charges                  -0.074195        0.220173  0.247900   \n\n                          monthly_charges  \npayment_type_id                 -0.074353  \ninternet_service_type_id        -0.323260  \ncontract_type_id                -0.074195  \nsenior_citizen                   0.220173  \ntenure                           0.247900  \nmonthly_charges                  1.000000  ",
      "text/html": "<div>\n<style scoped>\n    .dataframe tbody tr th:only-of-type {\n        vertical-align: middle;\n    }\n\n    .dataframe tbody tr th {\n        vertical-align: top;\n    }\n\n    .dataframe thead th {\n        text-align: right;\n    }\n</style>\n<table border=\"1\" class=\"dataframe\">\n  <thead>\n    <tr style=\"text-align: right;\">\n      <th></th>\n      <th>payment_type_id</th>\n      <th>internet_service_type_id</th>\n      <th>contract_type_id</th>\n      <th>senior_citizen</th>\n      <th>tenure</th>\n      <th>monthly_charges</th>\n    </tr>\n  </thead>\n  <tbody>\n    <tr>\n      <th>payment_type_id</th>\n      <td>1.000000</td>\n      <td>0.008124</td>\n      <td>0.358913</td>\n      <td>-0.093704</td>\n      <td>0.340305</td>\n      <td>-0.074353</td>\n    </tr>\n    <tr>\n      <th>internet_service_type_id</th>\n      <td>0.008124</td>\n      <td>1.000000</td>\n      <td>0.099721</td>\n      <td>-0.032310</td>\n      <td>-0.030359</td>\n      <td>-0.323260</td>\n    </tr>\n    <tr>\n      <th>contract_type_id</th>\n      <td>0.358913</td>\n      <td>0.099721</td>\n      <td>1.000000</td>\n      <td>-0.142554</td>\n      <td>0.671607</td>\n      <td>-0.074195</td>\n    </tr>\n    <tr>\n      <th>senior_citizen</th>\n      <td>-0.093704</td>\n      <td>-0.032310</td>\n      <td>-0.142554</td>\n      <td>1.000000</td>\n      <td>0.016567</td>\n      <td>0.220173</td>\n    </tr>\n    <tr>\n      <th>tenure</th>\n      <td>0.340305</td>\n      <td>-0.030359</td>\n      <td>0.671607</td>\n      <td>0.016567</td>\n      <td>1.000000</td>\n      <td>0.247900</td>\n    </tr>\n    <tr>\n      <th>monthly_charges</th>\n      <td>-0.074353</td>\n      <td>-0.323260</td>\n      <td>-0.074195</td>\n      <td>0.220173</td>\n      <td>0.247900</td>\n      <td>1.000000</td>\n    </tr>\n  </tbody>\n</table>\n</div>"
     },
     "execution_count": 15,
     "metadata": {},
     "output_type": "execute_result"
    }
   ],
   "source": [
    "# Take a look at the info of the dataframe\n",
    "df.info()"
   ],
   "metadata": {
    "collapsed": false,
    "ExecuteTime": {
     "start_time": "2023-04-27T11:55:49.212007Z",
     "end_time": "2023-04-27T11:55:49.220274Z"
    }
   }
  },
  {
   "cell_type": "code",
   "execution_count": 5,
   "outputs": [
    {
     "data": {
      "text/plain": "payment_type_id             0\ninternet_service_type_id    0\ncontract_type_id            0\ncustomer_id                 0\ngender                      0\nsenior_citizen              0\npartner                     0\ndependents                  0\ntenure                      0\nphone_service               0\nmultiple_lines              0\nonline_security             0\nonline_backup               0\ndevice_protection           0\ntech_support                0\nstreaming_tv                0\nstreaming_movies            0\npaperless_billing           0\nmonthly_charges             0\ntotal_charges               0\nchurn                       0\ncontract_type               0\ninternet_service_type       0\npayment_type                0\ndtype: int64"
     },
     "execution_count": 5,
     "metadata": {},
     "output_type": "execute_result"
    }
   ],
   "source": [
    "# Take a look at the amount of nulls in each column\n",
    "df.isnull().sum()\n",
    "# No nulls in the dataframe"
   ],
   "metadata": {
    "collapsed": false,
    "ExecuteTime": {
     "start_time": "2023-04-27T11:54:36.909649Z",
     "end_time": "2023-04-27T11:54:36.927243Z"
    }
   }
  },
  {
   "cell_type": "code",
   "execution_count": 6,
   "outputs": [
    {
     "name": "stdout",
     "output_type": "stream",
     "text": [
      "payment_type_id\n",
      "1    2365\n",
      "2    1612\n",
      "3    1544\n",
      "4    1522\n",
      "Name: payment_type_id, dtype: int64\n",
      "----------------------\n",
      "internet_service_type_id\n",
      "2    3096\n",
      "1    2421\n",
      "3    1526\n",
      "Name: internet_service_type_id, dtype: int64\n",
      "----------------------\n",
      "contract_type_id\n",
      "1    3875\n",
      "3    1695\n",
      "2    1473\n",
      "Name: contract_type_id, dtype: int64\n",
      "----------------------\n",
      "customer_id\n",
      "0002-ORFBO    1\n",
      "6616-AALSR    1\n",
      "6625-UTXEW    1\n",
      "6625-IUTTT    1\n",
      "6625-FLENO    1\n",
      "             ..\n",
      "3352-RICWQ    1\n",
      "3352-ALMCK    1\n",
      "3351-NQLDI    1\n",
      "3351-NGXYI    1\n",
      "9995-HOTOH    1\n",
      "Name: customer_id, Length: 7043, dtype: int64\n",
      "----------------------\n",
      "gender\n",
      "Male      3555\n",
      "Female    3488\n",
      "Name: gender, dtype: int64\n",
      "----------------------\n",
      "senior_citizen\n",
      "0    5901\n",
      "1    1142\n",
      "Name: senior_citizen, dtype: int64\n",
      "----------------------\n",
      "partner\n",
      "No     3641\n",
      "Yes    3402\n",
      "Name: partner, dtype: int64\n",
      "----------------------\n",
      "dependents\n",
      "No     4933\n",
      "Yes    2110\n",
      "Name: dependents, dtype: int64\n",
      "----------------------\n",
      "tenure\n",
      "1     613\n",
      "72    362\n",
      "2     238\n",
      "3     200\n",
      "4     176\n",
      "     ... \n",
      "28     57\n",
      "39     56\n",
      "44     51\n",
      "36     50\n",
      "0      11\n",
      "Name: tenure, Length: 73, dtype: int64\n",
      "----------------------\n",
      "phone_service\n",
      "Yes    6361\n",
      "No      682\n",
      "Name: phone_service, dtype: int64\n",
      "----------------------\n",
      "multiple_lines\n",
      "No                  3390\n",
      "Yes                 2971\n",
      "No phone service     682\n",
      "Name: multiple_lines, dtype: int64\n",
      "----------------------\n",
      "online_security\n",
      "No                     3498\n",
      "Yes                    2019\n",
      "No internet service    1526\n",
      "Name: online_security, dtype: int64\n",
      "----------------------\n",
      "online_backup\n",
      "No                     3088\n",
      "Yes                    2429\n",
      "No internet service    1526\n",
      "Name: online_backup, dtype: int64\n",
      "----------------------\n",
      "device_protection\n",
      "No                     3095\n",
      "Yes                    2422\n",
      "No internet service    1526\n",
      "Name: device_protection, dtype: int64\n",
      "----------------------\n",
      "tech_support\n",
      "No                     3473\n",
      "Yes                    2044\n",
      "No internet service    1526\n",
      "Name: tech_support, dtype: int64\n",
      "----------------------\n",
      "streaming_tv\n",
      "No                     2810\n",
      "Yes                    2707\n",
      "No internet service    1526\n",
      "Name: streaming_tv, dtype: int64\n",
      "----------------------\n",
      "streaming_movies\n",
      "No                     2785\n",
      "Yes                    2732\n",
      "No internet service    1526\n",
      "Name: streaming_movies, dtype: int64\n",
      "----------------------\n",
      "paperless_billing\n",
      "Yes    4171\n",
      "No     2872\n",
      "Name: paperless_billing, dtype: int64\n",
      "----------------------\n",
      "monthly_charges\n",
      "20.05     61\n",
      "19.85     45\n",
      "19.95     44\n",
      "19.90     44\n",
      "20.00     43\n",
      "          ..\n",
      "116.55     1\n",
      "106.85     1\n",
      "68.55      1\n",
      "108.80     1\n",
      "67.85      1\n",
      "Name: monthly_charges, Length: 1585, dtype: int64\n",
      "----------------------\n",
      "total_charges\n",
      "           11\n",
      "20.2       11\n",
      "19.75       9\n",
      "19.9        8\n",
      "20.05       8\n",
      "           ..\n",
      "2387.75     1\n",
      "6302.8      1\n",
      "2058.5      1\n",
      "829.55      1\n",
      "3707.6      1\n",
      "Name: total_charges, Length: 6531, dtype: int64\n",
      "----------------------\n",
      "churn\n",
      "No     5174\n",
      "Yes    1869\n",
      "Name: churn, dtype: int64\n",
      "----------------------\n",
      "contract_type\n",
      "Month-to-month    3875\n",
      "Two year          1695\n",
      "One year          1473\n",
      "Name: contract_type, dtype: int64\n",
      "----------------------\n",
      "internet_service_type\n",
      "Fiber optic    3096\n",
      "DSL            2421\n",
      "None           1526\n",
      "Name: internet_service_type, dtype: int64\n",
      "----------------------\n",
      "payment_type\n",
      "Electronic check             2365\n",
      "Mailed check                 1612\n",
      "Bank transfer (automatic)    1544\n",
      "Credit card (automatic)      1522\n",
      "Name: payment_type, dtype: int64\n",
      "----------------------\n"
     ]
    }
   ],
   "source": [
    "# Take a look at the value counts of each column\n",
    "for col in df.columns:\n",
    "    print(col)\n",
    "    print(df[col].value_counts())\n",
    "    print('----------------------')"
   ],
   "metadata": {
    "collapsed": false,
    "ExecuteTime": {
     "start_time": "2023-04-27T11:54:36.915001Z",
     "end_time": "2023-04-27T11:54:36.929433Z"
    }
   }
  },
  {
   "cell_type": "code",
   "execution_count": 17,
   "outputs": [
    {
     "ename": "KeyError",
     "evalue": "\"['payment_type_id', 'internet_service_type_id', 'contract_type_id'] not found in axis\"",
     "output_type": "error",
     "traceback": [
      "\u001B[0;31m---------------------------------------------------------------------------\u001B[0m",
      "\u001B[0;31mKeyError\u001B[0m                                  Traceback (most recent call last)",
      "Cell \u001B[0;32mIn[17], line 2\u001B[0m\n\u001B[1;32m      1\u001B[0m \u001B[38;5;66;03m#clean with wrangle_telco function\u001B[39;00m\n\u001B[0;32m----> 2\u001B[0m df \u001B[38;5;241m=\u001B[39m \u001B[43mw\u001B[49m\u001B[38;5;241;43m.\u001B[39;49m\u001B[43mwrangle_telco_encoded\u001B[49m\u001B[43m(\u001B[49m\u001B[43mdf\u001B[49m\u001B[43m)\u001B[49m\n\u001B[1;32m      3\u001B[0m \u001B[38;5;28mabs\u001B[39m(df\u001B[38;5;241m.\u001B[39mcorr())\n",
      "File \u001B[0;32m~/codeup-data-science/telco_project/wrangle.py:79\u001B[0m, in \u001B[0;36mwrangle_telco_encoded\u001B[0;34m(df)\u001B[0m\n\u001B[1;32m     72\u001B[0m \u001B[38;5;250m\u001B[39m\u001B[38;5;124;03m'''\u001B[39;00m\n\u001B[1;32m     73\u001B[0m \u001B[38;5;124;03mThis function will acquire the telco data from the codeup database,\u001B[39;00m\n\u001B[1;32m     74\u001B[0m \u001B[38;5;124;03mclean the data by dropping nulls, and convert the total_charges column\u001B[39;00m\n\u001B[1;32m     75\u001B[0m \u001B[38;5;124;03mto a float.\u001B[39;00m\n\u001B[1;32m     76\u001B[0m \u001B[38;5;124;03m'''\u001B[39;00m\n\u001B[1;32m     77\u001B[0m \u001B[38;5;66;03m# Acuire data from codeup database\u001B[39;00m\n\u001B[0;32m---> 79\u001B[0m telco \u001B[38;5;241m=\u001B[39m \u001B[43mdf\u001B[49m\u001B[38;5;241;43m.\u001B[39;49m\u001B[43mdrop\u001B[49m\u001B[43m(\u001B[49m\u001B[43mcolumns\u001B[49m\u001B[38;5;241;43m=\u001B[39;49m\u001B[43m[\u001B[49m\u001B[38;5;124;43m'\u001B[39;49m\u001B[38;5;124;43mpayment_type_id\u001B[39;49m\u001B[38;5;124;43m'\u001B[39;49m\u001B[43m,\u001B[49m\u001B[43m \u001B[49m\u001B[38;5;124;43m'\u001B[39;49m\u001B[38;5;124;43minternet_service_type_id\u001B[39;49m\u001B[38;5;124;43m'\u001B[39;49m\u001B[43m,\u001B[49m\u001B[43m \u001B[49m\u001B[38;5;124;43m'\u001B[39;49m\u001B[38;5;124;43mcontract_type_id\u001B[39;49m\u001B[38;5;124;43m'\u001B[39;49m\u001B[43m]\u001B[49m\u001B[43m)\u001B[49m\n\u001B[1;32m     80\u001B[0m \u001B[38;5;66;03m# Replace yes and no with 1 and 0\u001B[39;00m\n\u001B[1;32m     81\u001B[0m telco[\u001B[38;5;124m'\u001B[39m\u001B[38;5;124mchurn\u001B[39m\u001B[38;5;124m'\u001B[39m] \u001B[38;5;241m=\u001B[39m telco[\u001B[38;5;124m'\u001B[39m\u001B[38;5;124mchurn\u001B[39m\u001B[38;5;124m'\u001B[39m]\u001B[38;5;241m.\u001B[39mreplace({\u001B[38;5;124m'\u001B[39m\u001B[38;5;124mYes\u001B[39m\u001B[38;5;124m'\u001B[39m: \u001B[38;5;241m1\u001B[39m, \u001B[38;5;124m'\u001B[39m\u001B[38;5;124mNo\u001B[39m\u001B[38;5;124m'\u001B[39m: \u001B[38;5;241m0\u001B[39m})\n",
      "File \u001B[0;32m~/anaconda3/lib/python3.10/site-packages/pandas/util/_decorators.py:331\u001B[0m, in \u001B[0;36mdeprecate_nonkeyword_arguments.<locals>.decorate.<locals>.wrapper\u001B[0;34m(*args, **kwargs)\u001B[0m\n\u001B[1;32m    325\u001B[0m \u001B[38;5;28;01mif\u001B[39;00m \u001B[38;5;28mlen\u001B[39m(args) \u001B[38;5;241m>\u001B[39m num_allow_args:\n\u001B[1;32m    326\u001B[0m     warnings\u001B[38;5;241m.\u001B[39mwarn(\n\u001B[1;32m    327\u001B[0m         msg\u001B[38;5;241m.\u001B[39mformat(arguments\u001B[38;5;241m=\u001B[39m_format_argument_list(allow_args)),\n\u001B[1;32m    328\u001B[0m         \u001B[38;5;167;01mFutureWarning\u001B[39;00m,\n\u001B[1;32m    329\u001B[0m         stacklevel\u001B[38;5;241m=\u001B[39mfind_stack_level(),\n\u001B[1;32m    330\u001B[0m     )\n\u001B[0;32m--> 331\u001B[0m \u001B[38;5;28;01mreturn\u001B[39;00m \u001B[43mfunc\u001B[49m\u001B[43m(\u001B[49m\u001B[38;5;241;43m*\u001B[39;49m\u001B[43margs\u001B[49m\u001B[43m,\u001B[49m\u001B[43m \u001B[49m\u001B[38;5;241;43m*\u001B[39;49m\u001B[38;5;241;43m*\u001B[39;49m\u001B[43mkwargs\u001B[49m\u001B[43m)\u001B[49m\n",
      "File \u001B[0;32m~/anaconda3/lib/python3.10/site-packages/pandas/core/frame.py:5399\u001B[0m, in \u001B[0;36mDataFrame.drop\u001B[0;34m(self, labels, axis, index, columns, level, inplace, errors)\u001B[0m\n\u001B[1;32m   5251\u001B[0m \u001B[38;5;129m@deprecate_nonkeyword_arguments\u001B[39m(version\u001B[38;5;241m=\u001B[39m\u001B[38;5;28;01mNone\u001B[39;00m, allowed_args\u001B[38;5;241m=\u001B[39m[\u001B[38;5;124m\"\u001B[39m\u001B[38;5;124mself\u001B[39m\u001B[38;5;124m\"\u001B[39m, \u001B[38;5;124m\"\u001B[39m\u001B[38;5;124mlabels\u001B[39m\u001B[38;5;124m\"\u001B[39m])\n\u001B[1;32m   5252\u001B[0m \u001B[38;5;28;01mdef\u001B[39;00m \u001B[38;5;21mdrop\u001B[39m(  \u001B[38;5;66;03m# type: ignore[override]\u001B[39;00m\n\u001B[1;32m   5253\u001B[0m     \u001B[38;5;28mself\u001B[39m,\n\u001B[0;32m   (...)\u001B[0m\n\u001B[1;32m   5260\u001B[0m     errors: IgnoreRaise \u001B[38;5;241m=\u001B[39m \u001B[38;5;124m\"\u001B[39m\u001B[38;5;124mraise\u001B[39m\u001B[38;5;124m\"\u001B[39m,\n\u001B[1;32m   5261\u001B[0m ) \u001B[38;5;241m-\u001B[39m\u001B[38;5;241m>\u001B[39m DataFrame \u001B[38;5;241m|\u001B[39m \u001B[38;5;28;01mNone\u001B[39;00m:\n\u001B[1;32m   5262\u001B[0m \u001B[38;5;250m    \u001B[39m\u001B[38;5;124;03m\"\"\"\u001B[39;00m\n\u001B[1;32m   5263\u001B[0m \u001B[38;5;124;03m    Drop specified labels from rows or columns.\u001B[39;00m\n\u001B[1;32m   5264\u001B[0m \n\u001B[0;32m   (...)\u001B[0m\n\u001B[1;32m   5397\u001B[0m \u001B[38;5;124;03m            weight  1.0     0.8\u001B[39;00m\n\u001B[1;32m   5398\u001B[0m \u001B[38;5;124;03m    \"\"\"\u001B[39;00m\n\u001B[0;32m-> 5399\u001B[0m     \u001B[38;5;28;01mreturn\u001B[39;00m \u001B[38;5;28;43msuper\u001B[39;49m\u001B[43m(\u001B[49m\u001B[43m)\u001B[49m\u001B[38;5;241;43m.\u001B[39;49m\u001B[43mdrop\u001B[49m\u001B[43m(\u001B[49m\n\u001B[1;32m   5400\u001B[0m \u001B[43m        \u001B[49m\u001B[43mlabels\u001B[49m\u001B[38;5;241;43m=\u001B[39;49m\u001B[43mlabels\u001B[49m\u001B[43m,\u001B[49m\n\u001B[1;32m   5401\u001B[0m \u001B[43m        \u001B[49m\u001B[43maxis\u001B[49m\u001B[38;5;241;43m=\u001B[39;49m\u001B[43maxis\u001B[49m\u001B[43m,\u001B[49m\n\u001B[1;32m   5402\u001B[0m \u001B[43m        \u001B[49m\u001B[43mindex\u001B[49m\u001B[38;5;241;43m=\u001B[39;49m\u001B[43mindex\u001B[49m\u001B[43m,\u001B[49m\n\u001B[1;32m   5403\u001B[0m \u001B[43m        \u001B[49m\u001B[43mcolumns\u001B[49m\u001B[38;5;241;43m=\u001B[39;49m\u001B[43mcolumns\u001B[49m\u001B[43m,\u001B[49m\n\u001B[1;32m   5404\u001B[0m \u001B[43m        \u001B[49m\u001B[43mlevel\u001B[49m\u001B[38;5;241;43m=\u001B[39;49m\u001B[43mlevel\u001B[49m\u001B[43m,\u001B[49m\n\u001B[1;32m   5405\u001B[0m \u001B[43m        \u001B[49m\u001B[43minplace\u001B[49m\u001B[38;5;241;43m=\u001B[39;49m\u001B[43minplace\u001B[49m\u001B[43m,\u001B[49m\n\u001B[1;32m   5406\u001B[0m \u001B[43m        \u001B[49m\u001B[43merrors\u001B[49m\u001B[38;5;241;43m=\u001B[39;49m\u001B[43merrors\u001B[49m\u001B[43m,\u001B[49m\n\u001B[1;32m   5407\u001B[0m \u001B[43m    \u001B[49m\u001B[43m)\u001B[49m\n",
      "File \u001B[0;32m~/anaconda3/lib/python3.10/site-packages/pandas/util/_decorators.py:331\u001B[0m, in \u001B[0;36mdeprecate_nonkeyword_arguments.<locals>.decorate.<locals>.wrapper\u001B[0;34m(*args, **kwargs)\u001B[0m\n\u001B[1;32m    325\u001B[0m \u001B[38;5;28;01mif\u001B[39;00m \u001B[38;5;28mlen\u001B[39m(args) \u001B[38;5;241m>\u001B[39m num_allow_args:\n\u001B[1;32m    326\u001B[0m     warnings\u001B[38;5;241m.\u001B[39mwarn(\n\u001B[1;32m    327\u001B[0m         msg\u001B[38;5;241m.\u001B[39mformat(arguments\u001B[38;5;241m=\u001B[39m_format_argument_list(allow_args)),\n\u001B[1;32m    328\u001B[0m         \u001B[38;5;167;01mFutureWarning\u001B[39;00m,\n\u001B[1;32m    329\u001B[0m         stacklevel\u001B[38;5;241m=\u001B[39mfind_stack_level(),\n\u001B[1;32m    330\u001B[0m     )\n\u001B[0;32m--> 331\u001B[0m \u001B[38;5;28;01mreturn\u001B[39;00m \u001B[43mfunc\u001B[49m\u001B[43m(\u001B[49m\u001B[38;5;241;43m*\u001B[39;49m\u001B[43margs\u001B[49m\u001B[43m,\u001B[49m\u001B[43m \u001B[49m\u001B[38;5;241;43m*\u001B[39;49m\u001B[38;5;241;43m*\u001B[39;49m\u001B[43mkwargs\u001B[49m\u001B[43m)\u001B[49m\n",
      "File \u001B[0;32m~/anaconda3/lib/python3.10/site-packages/pandas/core/generic.py:4505\u001B[0m, in \u001B[0;36mNDFrame.drop\u001B[0;34m(self, labels, axis, index, columns, level, inplace, errors)\u001B[0m\n\u001B[1;32m   4503\u001B[0m \u001B[38;5;28;01mfor\u001B[39;00m axis, labels \u001B[38;5;129;01min\u001B[39;00m axes\u001B[38;5;241m.\u001B[39mitems():\n\u001B[1;32m   4504\u001B[0m     \u001B[38;5;28;01mif\u001B[39;00m labels \u001B[38;5;129;01mis\u001B[39;00m \u001B[38;5;129;01mnot\u001B[39;00m \u001B[38;5;28;01mNone\u001B[39;00m:\n\u001B[0;32m-> 4505\u001B[0m         obj \u001B[38;5;241m=\u001B[39m \u001B[43mobj\u001B[49m\u001B[38;5;241;43m.\u001B[39;49m\u001B[43m_drop_axis\u001B[49m\u001B[43m(\u001B[49m\u001B[43mlabels\u001B[49m\u001B[43m,\u001B[49m\u001B[43m \u001B[49m\u001B[43maxis\u001B[49m\u001B[43m,\u001B[49m\u001B[43m \u001B[49m\u001B[43mlevel\u001B[49m\u001B[38;5;241;43m=\u001B[39;49m\u001B[43mlevel\u001B[49m\u001B[43m,\u001B[49m\u001B[43m \u001B[49m\u001B[43merrors\u001B[49m\u001B[38;5;241;43m=\u001B[39;49m\u001B[43merrors\u001B[49m\u001B[43m)\u001B[49m\n\u001B[1;32m   4507\u001B[0m \u001B[38;5;28;01mif\u001B[39;00m inplace:\n\u001B[1;32m   4508\u001B[0m     \u001B[38;5;28mself\u001B[39m\u001B[38;5;241m.\u001B[39m_update_inplace(obj)\n",
      "File \u001B[0;32m~/anaconda3/lib/python3.10/site-packages/pandas/core/generic.py:4546\u001B[0m, in \u001B[0;36mNDFrame._drop_axis\u001B[0;34m(self, labels, axis, level, errors, only_slice)\u001B[0m\n\u001B[1;32m   4544\u001B[0m         new_axis \u001B[38;5;241m=\u001B[39m axis\u001B[38;5;241m.\u001B[39mdrop(labels, level\u001B[38;5;241m=\u001B[39mlevel, errors\u001B[38;5;241m=\u001B[39merrors)\n\u001B[1;32m   4545\u001B[0m     \u001B[38;5;28;01melse\u001B[39;00m:\n\u001B[0;32m-> 4546\u001B[0m         new_axis \u001B[38;5;241m=\u001B[39m \u001B[43maxis\u001B[49m\u001B[38;5;241;43m.\u001B[39;49m\u001B[43mdrop\u001B[49m\u001B[43m(\u001B[49m\u001B[43mlabels\u001B[49m\u001B[43m,\u001B[49m\u001B[43m \u001B[49m\u001B[43merrors\u001B[49m\u001B[38;5;241;43m=\u001B[39;49m\u001B[43merrors\u001B[49m\u001B[43m)\u001B[49m\n\u001B[1;32m   4547\u001B[0m     indexer \u001B[38;5;241m=\u001B[39m axis\u001B[38;5;241m.\u001B[39mget_indexer(new_axis)\n\u001B[1;32m   4549\u001B[0m \u001B[38;5;66;03m# Case for non-unique axis\u001B[39;00m\n\u001B[1;32m   4550\u001B[0m \u001B[38;5;28;01melse\u001B[39;00m:\n",
      "File \u001B[0;32m~/anaconda3/lib/python3.10/site-packages/pandas/core/indexes/base.py:6934\u001B[0m, in \u001B[0;36mIndex.drop\u001B[0;34m(self, labels, errors)\u001B[0m\n\u001B[1;32m   6932\u001B[0m \u001B[38;5;28;01mif\u001B[39;00m mask\u001B[38;5;241m.\u001B[39many():\n\u001B[1;32m   6933\u001B[0m     \u001B[38;5;28;01mif\u001B[39;00m errors \u001B[38;5;241m!=\u001B[39m \u001B[38;5;124m\"\u001B[39m\u001B[38;5;124mignore\u001B[39m\u001B[38;5;124m\"\u001B[39m:\n\u001B[0;32m-> 6934\u001B[0m         \u001B[38;5;28;01mraise\u001B[39;00m \u001B[38;5;167;01mKeyError\u001B[39;00m(\u001B[38;5;124mf\u001B[39m\u001B[38;5;124m\"\u001B[39m\u001B[38;5;132;01m{\u001B[39;00m\u001B[38;5;28mlist\u001B[39m(labels[mask])\u001B[38;5;132;01m}\u001B[39;00m\u001B[38;5;124m not found in axis\u001B[39m\u001B[38;5;124m\"\u001B[39m)\n\u001B[1;32m   6935\u001B[0m     indexer \u001B[38;5;241m=\u001B[39m indexer[\u001B[38;5;241m~\u001B[39mmask]\n\u001B[1;32m   6936\u001B[0m \u001B[38;5;28;01mreturn\u001B[39;00m \u001B[38;5;28mself\u001B[39m\u001B[38;5;241m.\u001B[39mdelete(indexer)\n",
      "\u001B[0;31mKeyError\u001B[0m: \"['payment_type_id', 'internet_service_type_id', 'contract_type_id'] not found in axis\""
     ]
    }
   ],
   "source": [
    "#clean with wrangle_telco function\n",
    "df = w.wrangle_telco_encoded(df)\n",
    "abs(df.corr())"
   ],
   "metadata": {
    "collapsed": false,
    "ExecuteTime": {
     "start_time": "2023-04-27T11:56:11.167883Z",
     "end_time": "2023-04-27T11:56:11.218288Z"
    }
   }
  },
  {
   "cell_type": "code",
   "execution_count": 8,
   "outputs": [],
   "source": [
    "# split the data\n",
    "train, validate, test = w.train_validate_test(df, 'churn')"
   ],
   "metadata": {
    "collapsed": false,
    "ExecuteTime": {
     "start_time": "2023-04-27T11:54:36.953632Z",
     "end_time": "2023-04-27T11:54:36.994581Z"
    }
   }
  },
  {
   "cell_type": "code",
   "execution_count": 8,
   "outputs": [],
   "source": [],
   "metadata": {
    "collapsed": false,
    "ExecuteTime": {
     "start_time": "2023-04-27T11:54:36.959801Z",
     "end_time": "2023-04-27T11:54:36.994746Z"
    }
   }
  },
  {
   "cell_type": "code",
   "execution_count": 9,
   "outputs": [
    {
     "name": "stderr",
     "output_type": "stream",
     "text": [
      "/var/folders/53/yp563cbn3r7g84qqyk6nd4140000gn/T/ipykernel_13020/2761984288.py:1: FutureWarning: The default value of numeric_only in DataFrame.corr is deprecated. In a future version, it will default to False. Select only valid columns or specify the value of numeric_only to silence this warning.\n",
      "  abs(df.corr())\n"
     ]
    },
    {
     "data": {
      "text/plain": "                                       senior_citizen   partner  dependents  \\\nsenior_citizen                               1.000000  0.016479    0.211185   \npartner                                      0.016479  1.000000    0.452676   \ndependents                                   0.211185  0.452676    1.000000   \ntenure                                       0.016567  0.379697    0.159712   \nphone_service                                0.008576  0.017706    0.001762   \npaperless_billing                            0.156530  0.014877    0.111377   \nmonthly_charges                              0.220173  0.096848    0.113890   \ntotal_charges                                0.103006  0.317504    0.062078   \nchurn                                        0.150889  0.150448    0.164221   \ninternet_service_type_fiber_optic            0.255338  0.000304    0.165818   \ninternet_service_type_dsl                    0.108322  0.000851    0.052010   \ninternet_service_type_none                   0.182742  0.000615    0.139812   \ngender_Male                                  0.001874  0.001808    0.010517   \nmultiple_lines_No phone service              0.008576  0.017706    0.001762   \nmultiple_lines_Yes                           0.142948  0.142057    0.024526   \nonline_security_No internet service          0.182742  0.000615    0.139812   \nonline_security_Yes                          0.038653  0.143106    0.080972   \nonline_backup_No internet service            0.182742  0.000615    0.139812   \nonline_backup_Yes                            0.066572  0.141498    0.023671   \ndevice_protection_No internet service        0.182742  0.000615    0.139812   \ndevice_protection_Yes                        0.059428  0.153786    0.013963   \ntech_support_No internet service             0.182742  0.000615    0.139812   \ntech_support_Yes                             0.060625  0.119999    0.063268   \nstreaming_tv_No internet service             0.182742  0.000615    0.139812   \nstreaming_tv_Yes                             0.105378  0.124666    0.016558   \nstreaming_movies_No internet service         0.182742  0.000615    0.139812   \nstreaming_movies_Yes                         0.120176  0.117412    0.039741   \ncontract_type_One year                       0.046262  0.082783    0.068368   \ncontract_type_Two year                       0.117000  0.248091    0.204613   \npayment_type_Credit card (automatic)         0.024135  0.082029    0.060267   \npayment_type_Electronic check                0.171718  0.083852    0.150642   \npayment_type_Mailed check                    0.153477  0.095125    0.059071   \n\n                                         tenure  phone_service  \\\nsenior_citizen                         0.016567       0.008576   \npartner                                0.379697       0.017706   \ndependents                             0.159712       0.001762   \ntenure                                 1.000000       0.008448   \nphone_service                          0.008448       1.000000   \npaperless_billing                      0.006152       0.016505   \nmonthly_charges                        0.247900       0.247398   \ntotal_charges                          0.826178       0.113214   \nchurn                                  0.352229       0.011942   \ninternet_service_type_fiber_optic      0.019720       0.289999   \ninternet_service_type_dsl              0.013274       0.452425   \ninternet_service_type_none             0.039062       0.172209   \ngender_Male                            0.005106       0.006488   \nmultiple_lines_No phone service        0.008448       1.000000   \nmultiple_lines_Yes                     0.331941       0.279690   \nonline_security_No internet service    0.039062       0.172209   \nonline_security_Yes                    0.327203       0.092893   \nonline_backup_No internet service      0.039062       0.172209   \nonline_backup_Yes                      0.360277       0.052312   \ndevice_protection_No internet service  0.039062       0.172209   \ndevice_protection_Yes                  0.360653       0.071227   \ntech_support_No internet service       0.039062       0.172209   \ntech_support_Yes                       0.324221       0.096340   \nstreaming_tv_No internet service       0.039062       0.172209   \nstreaming_tv_Yes                       0.279756       0.022574   \nstreaming_movies_No internet service   0.039062       0.172209   \nstreaming_movies_Yes                   0.286111       0.032959   \ncontract_type_One year                 0.202570       0.002791   \ncontract_type_Two year                 0.558533       0.003519   \npayment_type_Credit card (automatic)   0.233006       0.007721   \npayment_type_Electronic check          0.208363       0.003062   \npayment_type_Mailed check              0.233852       0.003319   \n\n                                       paperless_billing  monthly_charges  \\\nsenior_citizen                                  0.156530         0.220173   \npartner                                         0.014877         0.096848   \ndependents                                      0.111377         0.113890   \ntenure                                          0.006152         0.247900   \nphone_service                                   0.016505         0.247398   \npaperless_billing                               1.000000         0.352150   \nmonthly_charges                                 0.352150         1.000000   \ntotal_charges                                   0.158574         0.651174   \nchurn                                           0.191825         0.193356   \ninternet_service_type_fiber_optic               0.326853         0.787066   \ninternet_service_type_dsl                       0.063121         0.160189   \ninternet_service_type_none                      0.321013         0.763557   \ngender_Male                                     0.011754         0.014569   \nmultiple_lines_No phone service                 0.016505         0.247398   \nmultiple_lines_Yes                              0.163530         0.490434   \nonline_security_No internet service             0.321013         0.763557   \nonline_security_Yes                             0.003636         0.296594   \nonline_backup_No internet service               0.321013         0.763557   \nonline_backup_Yes                               0.126735         0.441780   \ndevice_protection_No internet service           0.321013         0.763557   \ndevice_protection_Yes                           0.103797         0.482692   \ntech_support_No internet service                0.321013         0.763557   \ntech_support_Yes                                0.037880         0.338304   \nstreaming_tv_No internet service                0.321013         0.763557   \nstreaming_tv_Yes                                0.223841         0.629603   \nstreaming_movies_No internet service            0.321013         0.763557   \nstreaming_movies_Yes                            0.211716         0.627429   \ncontract_type_One year                          0.051391         0.004904   \ncontract_type_Two year                          0.147889         0.074681   \npayment_type_Credit card (automatic)            0.013589         0.030550   \npayment_type_Electronic check                   0.208865         0.271625   \npayment_type_Mailed check                       0.205398         0.377437   \n\n                                       total_charges     churn  \\\nsenior_citizen                              0.103006  0.150889   \npartner                                     0.317504  0.150448   \ndependents                                  0.062078  0.164221   \ntenure                                      0.826178  0.352229   \nphone_service                               0.113214  0.011942   \npaperless_billing                           0.158574  0.191825   \nmonthly_charges                             0.651174  0.193356   \ntotal_charges                               1.000000  0.198324   \nchurn                                       0.198324  1.000000   \ninternet_service_type_fiber_optic           0.361655  0.308020   \ninternet_service_type_dsl                   0.052469  0.124214   \ninternet_service_type_none                  0.375223  0.227890   \ngender_Male                                 0.000080  0.008612   \nmultiple_lines_No phone service             0.113214  0.011942   \nmultiple_lines_Yes                          0.468504  0.040102   \nonline_security_No internet service         0.375223  0.227890   \nonline_security_Yes                         0.411651  0.171226   \nonline_backup_No internet service           0.375223  0.227890   \nonline_backup_Yes                           0.509226  0.082255   \ndevice_protection_No internet service       0.375223  0.227890   \ndevice_protection_Yes                       0.521983  0.066160   \ntech_support_No internet service            0.375223  0.227890   \ntech_support_Yes                            0.431883  0.164674   \nstreaming_tv_No internet service            0.375223  0.227890   \nstreaming_tv_Yes                            0.514973  0.063228   \nstreaming_movies_No internet service        0.375223  0.227890   \nstreaming_movies_Yes                        0.520122  0.061382   \ncontract_type_One year                      0.170814  0.177820   \ncontract_type_Two year                      0.354481  0.302253   \npayment_type_Credit card (automatic)        0.182915  0.134302   \npayment_type_Electronic check               0.059246  0.301919   \npayment_type_Mailed check                   0.295758  0.091683   \n\n                                       internet_service_type_fiber_optic  ...  \\\nsenior_citizen                                                  0.255338  ...   \npartner                                                         0.000304  ...   \ndependents                                                      0.165818  ...   \ntenure                                                          0.019720  ...   \nphone_service                                                   0.289999  ...   \npaperless_billing                                               0.326853  ...   \nmonthly_charges                                                 0.787066  ...   \ntotal_charges                                                   0.361655  ...   \nchurn                                                           0.308020  ...   \ninternet_service_type_fiber_optic                               1.000000  ...   \ninternet_service_type_dsl                                       0.640987  ...   \ninternet_service_type_none                                      0.465793  ...   \ngender_Male                                                     0.011286  ...   \nmultiple_lines_No phone service                                 0.289999  ...   \nmultiple_lines_Yes                                              0.366083  ...   \nonline_security_No internet service                             0.465793  ...   \nonline_security_Yes                                             0.030696  ...   \nonline_backup_No internet service                               0.465793  ...   \nonline_backup_Yes                                               0.165651  ...   \ndevice_protection_No internet service                           0.465793  ...   \ndevice_protection_Yes                                           0.176049  ...   \ntech_support_No internet service                                0.465793  ...   \ntech_support_Yes                                                0.020492  ...   \nstreaming_tv_No internet service                                0.465793  ...   \nstreaming_tv_Yes                                                0.329349  ...   \nstreaming_movies_No internet service                            0.465793  ...   \nstreaming_movies_Yes                                            0.322923  ...   \ncontract_type_One year                                          0.076324  ...   \ncontract_type_Two year                                          0.211526  ...   \npayment_type_Credit card (automatic)                            0.050077  ...   \npayment_type_Electronic check                                   0.336410  ...   \npayment_type_Mailed check                                       0.306834  ...   \n\n                                       tech_support_Yes  \\\nsenior_citizen                                 0.060625   \npartner                                        0.119999   \ndependents                                     0.063268   \ntenure                                         0.324221   \nphone_service                                  0.096340   \npaperless_billing                              0.037880   \nmonthly_charges                                0.338304   \ntotal_charges                                  0.431883   \nchurn                                          0.164674   \ninternet_service_type_fiber_optic              0.020492   \ninternet_service_type_dsl                      0.313118   \ninternet_service_type_none                     0.336298   \ngender_Male                                    0.009212   \nmultiple_lines_No phone service                0.096340   \nmultiple_lines_Yes                             0.100571   \nonline_security_No internet service            0.336298   \nonline_security_Yes                            0.354931   \nonline_backup_No internet service              0.336298   \nonline_backup_Yes                              0.294233   \ndevice_protection_No internet service          0.336298   \ndevice_protection_Yes                          0.333313   \ntech_support_No internet service               0.336298   \ntech_support_Yes                               1.000000   \nstreaming_tv_No internet service               0.336298   \nstreaming_tv_Yes                               0.278070   \nstreaming_movies_No internet service           0.336298   \nstreaming_movies_Yes                           0.279358   \ncontract_type_One year                         0.095775   \ncontract_type_Two year                         0.240824   \npayment_type_Credit card (automatic)           0.117272   \npayment_type_Electronic check                  0.114839   \npayment_type_Mailed check                      0.085509   \n\n                                       streaming_tv_No internet service  \\\nsenior_citizen                                                 0.182742   \npartner                                                        0.000615   \ndependents                                                     0.139812   \ntenure                                                         0.039062   \nphone_service                                                  0.172209   \npaperless_billing                                              0.321013   \nmonthly_charges                                                0.763557   \ntotal_charges                                                  0.375223   \nchurn                                                          0.227890   \ninternet_service_type_fiber_optic                              0.465793   \ninternet_service_type_dsl                                      0.380635   \ninternet_service_type_none                                     1.000000   \ngender_Male                                                    0.006026   \nmultiple_lines_No phone service                                0.172209   \nmultiple_lines_Yes                                             0.210564   \nonline_security_No internet service                            1.000000   \nonline_security_Yes                                            0.333403   \nonline_backup_No internet service                              1.000000   \nonline_backup_Yes                                              0.381593   \ndevice_protection_No internet service                          1.000000   \ndevice_protection_Yes                                          0.380754   \ntech_support_No internet service                               1.000000   \ntech_support_Yes                                               0.336298   \nstreaming_tv_No internet service                               1.000000   \nstreaming_tv_Yes                                               0.415552   \nstreaming_movies_No internet service                           1.000000   \nstreaming_movies_Yes                                           0.418675   \ncontract_type_One year                                         0.038004   \ncontract_type_Two year                                         0.218278   \npayment_type_Credit card (automatic)                           0.001030   \npayment_type_Electronic check                                  0.284917   \npayment_type_Mailed check                                      0.321361   \n\n                                       streaming_tv_Yes  \\\nsenior_citizen                                 0.105378   \npartner                                        0.124666   \ndependents                                     0.016558   \ntenure                                         0.279756   \nphone_service                                  0.022574   \npaperless_billing                              0.223841   \nmonthly_charges                                0.629603   \ntotal_charges                                  0.514973   \nchurn                                          0.063228   \ninternet_service_type_fiber_optic              0.329349   \ninternet_service_type_dsl                      0.016274   \ninternet_service_type_none                     0.415552   \ngender_Male                                    0.008393   \nmultiple_lines_No phone service                0.022574   \nmultiple_lines_Yes                             0.257152   \nonline_security_No internet service            0.415552   \nonline_security_Yes                            0.176207   \nonline_backup_No internet service              0.415552   \nonline_backup_Yes                              0.282106   \ndevice_protection_No internet service          0.415552   \ndevice_protection_Yes                          0.390874   \ntech_support_No internet service               0.415552   \ntech_support_Yes                               0.278070   \nstreaming_tv_No internet service               0.415552   \nstreaming_tv_Yes                               1.000000   \nstreaming_movies_No internet service           0.415552   \nstreaming_movies_Yes                           0.533094   \ncontract_type_One year                         0.061612   \ncontract_type_Two year                         0.072049   \npayment_type_Credit card (automatic)           0.040433   \npayment_type_Electronic check                  0.144626   \npayment_type_Mailed check                      0.247742   \n\n                                       streaming_movies_No internet service  \\\nsenior_citizen                                                     0.182742   \npartner                                                            0.000615   \ndependents                                                         0.139812   \ntenure                                                             0.039062   \nphone_service                                                      0.172209   \npaperless_billing                                                  0.321013   \nmonthly_charges                                                    0.763557   \ntotal_charges                                                      0.375223   \nchurn                                                              0.227890   \ninternet_service_type_fiber_optic                                  0.465793   \ninternet_service_type_dsl                                          0.380635   \ninternet_service_type_none                                         1.000000   \ngender_Male                                                        0.006026   \nmultiple_lines_No phone service                                    0.172209   \nmultiple_lines_Yes                                                 0.210564   \nonline_security_No internet service                                1.000000   \nonline_security_Yes                                                0.333403   \nonline_backup_No internet service                                  1.000000   \nonline_backup_Yes                                                  0.381593   \ndevice_protection_No internet service                              1.000000   \ndevice_protection_Yes                                              0.380754   \ntech_support_No internet service                                   1.000000   \ntech_support_Yes                                                   0.336298   \nstreaming_tv_No internet service                                   1.000000   \nstreaming_tv_Yes                                                   0.415552   \nstreaming_movies_No internet service                               1.000000   \nstreaming_movies_Yes                                               0.418675   \ncontract_type_One year                                             0.038004   \ncontract_type_Two year                                             0.218278   \npayment_type_Credit card (automatic)                               0.001030   \npayment_type_Electronic check                                      0.284917   \npayment_type_Mailed check                                          0.321361   \n\n                                       streaming_movies_Yes  \\\nsenior_citizen                                     0.120176   \npartner                                            0.117412   \ndependents                                         0.039741   \ntenure                                             0.286111   \nphone_service                                      0.032959   \npaperless_billing                                  0.211716   \nmonthly_charges                                    0.627429   \ntotal_charges                                      0.520122   \nchurn                                              0.061382   \ninternet_service_type_fiber_optic                  0.322923   \ninternet_service_type_dsl                          0.025698   \ninternet_service_type_none                         0.418675   \ngender_Male                                        0.010487   \nmultiple_lines_No phone service                    0.032959   \nmultiple_lines_Yes                                 0.258751   \nonline_security_No internet service                0.418675   \nonline_security_Yes                                0.187398   \nonline_backup_No internet service                  0.418675   \nonline_backup_Yes                                  0.274501   \ndevice_protection_No internet service              0.418675   \ndevice_protection_Yes                              0.402111   \ntech_support_No internet service                   0.418675   \ntech_support_Yes                                   0.279358   \nstreaming_tv_No internet service                   0.418675   \nstreaming_tv_Yes                                   0.533094   \nstreaming_movies_No internet service               0.418675   \nstreaming_movies_Yes                               1.000000   \ncontract_type_One year                             0.064926   \ncontract_type_Two year                             0.073960   \npayment_type_Credit card (automatic)               0.048575   \npayment_type_Electronic check                      0.137966   \npayment_type_Mailed check                          0.250595   \n\n                                       contract_type_One year  \\\nsenior_citizen                                       0.046262   \npartner                                              0.082783   \ndependents                                           0.068368   \ntenure                                               0.202570   \nphone_service                                        0.002791   \npaperless_billing                                    0.051391   \nmonthly_charges                                      0.004904   \ntotal_charges                                        0.170814   \nchurn                                                0.177820   \ninternet_service_type_fiber_optic                    0.076324   \ninternet_service_type_dsl                            0.046795   \ninternet_service_type_none                           0.038004   \ngender_Male                                          0.008026   \nmultiple_lines_No phone service                      0.002791   \nmultiple_lines_Yes                                   0.003794   \nonline_security_No internet service                  0.038004   \nonline_security_Yes                                  0.100162   \nonline_backup_No internet service                    0.038004   \nonline_backup_Yes                                    0.083722   \ndevice_protection_No internet service                0.038004   \ndevice_protection_Yes                                0.102495   \ntech_support_No internet service                     0.038004   \ntech_support_Yes                                     0.095775   \nstreaming_tv_No internet service                     0.038004   \nstreaming_tv_Yes                                     0.061612   \nstreaming_movies_No internet service                 0.038004   \nstreaming_movies_Yes                                 0.064926   \ncontract_type_One year                               1.000000   \ncontract_type_Two year                               0.289510   \npayment_type_Credit card (automatic)                 0.067589   \npayment_type_Electronic check                        0.109130   \npayment_type_Mailed check                            0.000116   \n\n                                       contract_type_Two year  \\\nsenior_citizen                                       0.117000   \npartner                                              0.248091   \ndependents                                           0.204613   \ntenure                                               0.558533   \nphone_service                                        0.003519   \npaperless_billing                                    0.147889   \nmonthly_charges                                      0.074681   \ntotal_charges                                        0.354481   \nchurn                                                0.302253   \ninternet_service_type_fiber_optic                    0.211526   \ninternet_service_type_dsl                            0.031714   \ninternet_service_type_none                           0.218278   \ngender_Male                                          0.003695   \nmultiple_lines_No phone service                      0.003519   \nmultiple_lines_Yes                                   0.106253   \nonline_security_No internet service                  0.218278   \nonline_security_Yes                                  0.191773   \nonline_backup_No internet service                    0.218278   \nonline_backup_Yes                                    0.111400   \ndevice_protection_No internet service                0.218278   \ndevice_protection_Yes                                0.165096   \ntech_support_No internet service                     0.218278   \ntech_support_Yes                                     0.240824   \nstreaming_tv_No internet service                     0.218278   \nstreaming_tv_Yes                                     0.072049   \nstreaming_movies_No internet service                 0.218278   \nstreaming_movies_Yes                                 0.073960   \ncontract_type_One year                               0.289510   \ncontract_type_Two year                               1.000000   \npayment_type_Credit card (automatic)                 0.173265   \npayment_type_Electronic check                        0.282138   \npayment_type_Mailed check                            0.004705   \n\n                                       payment_type_Credit card (automatic)  \\\nsenior_citizen                                                     0.024135   \npartner                                                            0.082029   \ndependents                                                         0.060267   \ntenure                                                             0.233006   \nphone_service                                                      0.007721   \npaperless_billing                                                  0.013589   \nmonthly_charges                                                    0.030550   \ntotal_charges                                                      0.182915   \nchurn                                                              0.134302   \ninternet_service_type_fiber_optic                                  0.050077   \ninternet_service_type_dsl                                          0.051438   \ninternet_service_type_none                                         0.001030   \ngender_Male                                                        0.001215   \nmultiple_lines_No phone service                                    0.007721   \nmultiple_lines_Yes                                                 0.060048   \nonline_security_No internet service                                0.001030   \nonline_security_Yes                                                0.115721   \nonline_backup_No internet service                                  0.001030   \nonline_backup_Yes                                                  0.090785   \ndevice_protection_No internet service                              0.001030   \ndevice_protection_Yes                                              0.111554   \ntech_support_No internet service                                   0.001030   \ntech_support_Yes                                                   0.117272   \nstreaming_tv_No internet service                                   0.001030   \nstreaming_tv_Yes                                                   0.040433   \nstreaming_movies_No internet service                               0.001030   \nstreaming_movies_Yes                                               0.048575   \ncontract_type_One year                                             0.067589   \ncontract_type_Two year                                             0.173265   \npayment_type_Credit card (automatic)                               1.000000   \npayment_type_Electronic check                                      0.373322   \npayment_type_Mailed check                                          0.286049   \n\n                                       payment_type_Electronic check  \\\nsenior_citizen                                              0.171718   \npartner                                                     0.083852   \ndependents                                                  0.150642   \ntenure                                                      0.208363   \nphone_service                                               0.003062   \npaperless_billing                                           0.208865   \nmonthly_charges                                             0.271625   \ntotal_charges                                               0.059246   \nchurn                                                       0.301919   \ninternet_service_type_fiber_optic                           0.336410   \ninternet_service_type_dsl                                   0.104418   \ninternet_service_type_none                                  0.284917   \ngender_Male                                                 0.000752   \nmultiple_lines_No phone service                             0.003062   \nmultiple_lines_Yes                                          0.083618   \nonline_security_No internet service                         0.284917   \nonline_security_Yes                                         0.112338   \nonline_backup_No internet service                           0.284917   \nonline_backup_Yes                                           0.000408   \ndevice_protection_No internet service                       0.284917   \ndevice_protection_Yes                                       0.003351   \ntech_support_No internet service                            0.284917   \ntech_support_Yes                                            0.114839   \nstreaming_tv_No internet service                            0.284917   \nstreaming_tv_Yes                                            0.144626   \nstreaming_movies_No internet service                        0.284917   \nstreaming_movies_Yes                                        0.137966   \ncontract_type_One year                                      0.109130   \ncontract_type_Two year                                      0.282138   \npayment_type_Credit card (automatic)                        0.373322   \npayment_type_Electronic check                               1.000000   \npayment_type_Mailed check                                   0.387372   \n\n                                       payment_type_Mailed check  \nsenior_citizen                                          0.153477  \npartner                                                 0.095125  \ndependents                                              0.059071  \ntenure                                                  0.233852  \nphone_service                                           0.003319  \npaperless_billing                                       0.205398  \nmonthly_charges                                         0.377437  \ntotal_charges                                           0.295758  \nchurn                                                   0.091683  \ninternet_service_type_fiber_optic                       0.306834  \ninternet_service_type_dsl                               0.041899  \ninternet_service_type_none                              0.321361  \ngender_Male                                             0.013744  \nmultiple_lines_No phone service                         0.003319  \nmultiple_lines_Yes                                      0.227206  \nonline_security_No internet service                     0.321361  \nonline_security_Yes                                     0.080798  \nonline_backup_No internet service                       0.321361  \nonline_backup_Yes                                       0.174164  \ndevice_protection_No internet service                   0.321361  \ndevice_protection_Yes                                   0.187373  \ntech_support_No internet service                        0.321361  \ntech_support_Yes                                        0.085509  \nstreaming_tv_No internet service                        0.321361  \nstreaming_tv_Yes                                        0.247742  \nstreaming_movies_No internet service                    0.321361  \nstreaming_movies_Yes                                    0.250595  \ncontract_type_One year                                  0.000116  \ncontract_type_Two year                                  0.004705  \npayment_type_Credit card (automatic)                    0.286049  \npayment_type_Electronic check                           0.387372  \npayment_type_Mailed check                               1.000000  \n\n[32 rows x 32 columns]",
      "text/html": "<div>\n<style scoped>\n    .dataframe tbody tr th:only-of-type {\n        vertical-align: middle;\n    }\n\n    .dataframe tbody tr th {\n        vertical-align: top;\n    }\n\n    .dataframe thead th {\n        text-align: right;\n    }\n</style>\n<table border=\"1\" class=\"dataframe\">\n  <thead>\n    <tr style=\"text-align: right;\">\n      <th></th>\n      <th>senior_citizen</th>\n      <th>partner</th>\n      <th>dependents</th>\n      <th>tenure</th>\n      <th>phone_service</th>\n      <th>paperless_billing</th>\n      <th>monthly_charges</th>\n      <th>total_charges</th>\n      <th>churn</th>\n      <th>internet_service_type_fiber_optic</th>\n      <th>...</th>\n      <th>tech_support_Yes</th>\n      <th>streaming_tv_No internet service</th>\n      <th>streaming_tv_Yes</th>\n      <th>streaming_movies_No internet service</th>\n      <th>streaming_movies_Yes</th>\n      <th>contract_type_One year</th>\n      <th>contract_type_Two year</th>\n      <th>payment_type_Credit card (automatic)</th>\n      <th>payment_type_Electronic check</th>\n      <th>payment_type_Mailed check</th>\n    </tr>\n  </thead>\n  <tbody>\n    <tr>\n      <th>senior_citizen</th>\n      <td>1.000000</td>\n      <td>0.016479</td>\n      <td>0.211185</td>\n      <td>0.016567</td>\n      <td>0.008576</td>\n      <td>0.156530</td>\n      <td>0.220173</td>\n      <td>0.103006</td>\n      <td>0.150889</td>\n      <td>0.255338</td>\n      <td>...</td>\n      <td>0.060625</td>\n      <td>0.182742</td>\n      <td>0.105378</td>\n      <td>0.182742</td>\n      <td>0.120176</td>\n      <td>0.046262</td>\n      <td>0.117000</td>\n      <td>0.024135</td>\n      <td>0.171718</td>\n      <td>0.153477</td>\n    </tr>\n    <tr>\n      <th>partner</th>\n      <td>0.016479</td>\n      <td>1.000000</td>\n      <td>0.452676</td>\n      <td>0.379697</td>\n      <td>0.017706</td>\n      <td>0.014877</td>\n      <td>0.096848</td>\n      <td>0.317504</td>\n      <td>0.150448</td>\n      <td>0.000304</td>\n      <td>...</td>\n      <td>0.119999</td>\n      <td>0.000615</td>\n      <td>0.124666</td>\n      <td>0.000615</td>\n      <td>0.117412</td>\n      <td>0.082783</td>\n      <td>0.248091</td>\n      <td>0.082029</td>\n      <td>0.083852</td>\n      <td>0.095125</td>\n    </tr>\n    <tr>\n      <th>dependents</th>\n      <td>0.211185</td>\n      <td>0.452676</td>\n      <td>1.000000</td>\n      <td>0.159712</td>\n      <td>0.001762</td>\n      <td>0.111377</td>\n      <td>0.113890</td>\n      <td>0.062078</td>\n      <td>0.164221</td>\n      <td>0.165818</td>\n      <td>...</td>\n      <td>0.063268</td>\n      <td>0.139812</td>\n      <td>0.016558</td>\n      <td>0.139812</td>\n      <td>0.039741</td>\n      <td>0.068368</td>\n      <td>0.204613</td>\n      <td>0.060267</td>\n      <td>0.150642</td>\n      <td>0.059071</td>\n    </tr>\n    <tr>\n      <th>tenure</th>\n      <td>0.016567</td>\n      <td>0.379697</td>\n      <td>0.159712</td>\n      <td>1.000000</td>\n      <td>0.008448</td>\n      <td>0.006152</td>\n      <td>0.247900</td>\n      <td>0.826178</td>\n      <td>0.352229</td>\n      <td>0.019720</td>\n      <td>...</td>\n      <td>0.324221</td>\n      <td>0.039062</td>\n      <td>0.279756</td>\n      <td>0.039062</td>\n      <td>0.286111</td>\n      <td>0.202570</td>\n      <td>0.558533</td>\n      <td>0.233006</td>\n      <td>0.208363</td>\n      <td>0.233852</td>\n    </tr>\n    <tr>\n      <th>phone_service</th>\n      <td>0.008576</td>\n      <td>0.017706</td>\n      <td>0.001762</td>\n      <td>0.008448</td>\n      <td>1.000000</td>\n      <td>0.016505</td>\n      <td>0.247398</td>\n      <td>0.113214</td>\n      <td>0.011942</td>\n      <td>0.289999</td>\n      <td>...</td>\n      <td>0.096340</td>\n      <td>0.172209</td>\n      <td>0.022574</td>\n      <td>0.172209</td>\n      <td>0.032959</td>\n      <td>0.002791</td>\n      <td>0.003519</td>\n      <td>0.007721</td>\n      <td>0.003062</td>\n      <td>0.003319</td>\n    </tr>\n    <tr>\n      <th>paperless_billing</th>\n      <td>0.156530</td>\n      <td>0.014877</td>\n      <td>0.111377</td>\n      <td>0.006152</td>\n      <td>0.016505</td>\n      <td>1.000000</td>\n      <td>0.352150</td>\n      <td>0.158574</td>\n      <td>0.191825</td>\n      <td>0.326853</td>\n      <td>...</td>\n      <td>0.037880</td>\n      <td>0.321013</td>\n      <td>0.223841</td>\n      <td>0.321013</td>\n      <td>0.211716</td>\n      <td>0.051391</td>\n      <td>0.147889</td>\n      <td>0.013589</td>\n      <td>0.208865</td>\n      <td>0.205398</td>\n    </tr>\n    <tr>\n      <th>monthly_charges</th>\n      <td>0.220173</td>\n      <td>0.096848</td>\n      <td>0.113890</td>\n      <td>0.247900</td>\n      <td>0.247398</td>\n      <td>0.352150</td>\n      <td>1.000000</td>\n      <td>0.651174</td>\n      <td>0.193356</td>\n      <td>0.787066</td>\n      <td>...</td>\n      <td>0.338304</td>\n      <td>0.763557</td>\n      <td>0.629603</td>\n      <td>0.763557</td>\n      <td>0.627429</td>\n      <td>0.004904</td>\n      <td>0.074681</td>\n      <td>0.030550</td>\n      <td>0.271625</td>\n      <td>0.377437</td>\n    </tr>\n    <tr>\n      <th>total_charges</th>\n      <td>0.103006</td>\n      <td>0.317504</td>\n      <td>0.062078</td>\n      <td>0.826178</td>\n      <td>0.113214</td>\n      <td>0.158574</td>\n      <td>0.651174</td>\n      <td>1.000000</td>\n      <td>0.198324</td>\n      <td>0.361655</td>\n      <td>...</td>\n      <td>0.431883</td>\n      <td>0.375223</td>\n      <td>0.514973</td>\n      <td>0.375223</td>\n      <td>0.520122</td>\n      <td>0.170814</td>\n      <td>0.354481</td>\n      <td>0.182915</td>\n      <td>0.059246</td>\n      <td>0.295758</td>\n    </tr>\n    <tr>\n      <th>churn</th>\n      <td>0.150889</td>\n      <td>0.150448</td>\n      <td>0.164221</td>\n      <td>0.352229</td>\n      <td>0.011942</td>\n      <td>0.191825</td>\n      <td>0.193356</td>\n      <td>0.198324</td>\n      <td>1.000000</td>\n      <td>0.308020</td>\n      <td>...</td>\n      <td>0.164674</td>\n      <td>0.227890</td>\n      <td>0.063228</td>\n      <td>0.227890</td>\n      <td>0.061382</td>\n      <td>0.177820</td>\n      <td>0.302253</td>\n      <td>0.134302</td>\n      <td>0.301919</td>\n      <td>0.091683</td>\n    </tr>\n    <tr>\n      <th>internet_service_type_fiber_optic</th>\n      <td>0.255338</td>\n      <td>0.000304</td>\n      <td>0.165818</td>\n      <td>0.019720</td>\n      <td>0.289999</td>\n      <td>0.326853</td>\n      <td>0.787066</td>\n      <td>0.361655</td>\n      <td>0.308020</td>\n      <td>1.000000</td>\n      <td>...</td>\n      <td>0.020492</td>\n      <td>0.465793</td>\n      <td>0.329349</td>\n      <td>0.465793</td>\n      <td>0.322923</td>\n      <td>0.076324</td>\n      <td>0.211526</td>\n      <td>0.050077</td>\n      <td>0.336410</td>\n      <td>0.306834</td>\n    </tr>\n    <tr>\n      <th>internet_service_type_dsl</th>\n      <td>0.108322</td>\n      <td>0.000851</td>\n      <td>0.052010</td>\n      <td>0.013274</td>\n      <td>0.452425</td>\n      <td>0.063121</td>\n      <td>0.160189</td>\n      <td>0.052469</td>\n      <td>0.124214</td>\n      <td>0.640987</td>\n      <td>...</td>\n      <td>0.313118</td>\n      <td>0.380635</td>\n      <td>0.016274</td>\n      <td>0.380635</td>\n      <td>0.025698</td>\n      <td>0.046795</td>\n      <td>0.031714</td>\n      <td>0.051438</td>\n      <td>0.104418</td>\n      <td>0.041899</td>\n    </tr>\n    <tr>\n      <th>internet_service_type_none</th>\n      <td>0.182742</td>\n      <td>0.000615</td>\n      <td>0.139812</td>\n      <td>0.039062</td>\n      <td>0.172209</td>\n      <td>0.321013</td>\n      <td>0.763557</td>\n      <td>0.375223</td>\n      <td>0.227890</td>\n      <td>0.465793</td>\n      <td>...</td>\n      <td>0.336298</td>\n      <td>1.000000</td>\n      <td>0.415552</td>\n      <td>1.000000</td>\n      <td>0.418675</td>\n      <td>0.038004</td>\n      <td>0.218278</td>\n      <td>0.001030</td>\n      <td>0.284917</td>\n      <td>0.321361</td>\n    </tr>\n    <tr>\n      <th>gender_Male</th>\n      <td>0.001874</td>\n      <td>0.001808</td>\n      <td>0.010517</td>\n      <td>0.005106</td>\n      <td>0.006488</td>\n      <td>0.011754</td>\n      <td>0.014569</td>\n      <td>0.000080</td>\n      <td>0.008612</td>\n      <td>0.011286</td>\n      <td>...</td>\n      <td>0.009212</td>\n      <td>0.006026</td>\n      <td>0.008393</td>\n      <td>0.006026</td>\n      <td>0.010487</td>\n      <td>0.008026</td>\n      <td>0.003695</td>\n      <td>0.001215</td>\n      <td>0.000752</td>\n      <td>0.013744</td>\n    </tr>\n    <tr>\n      <th>multiple_lines_No phone service</th>\n      <td>0.008576</td>\n      <td>0.017706</td>\n      <td>0.001762</td>\n      <td>0.008448</td>\n      <td>1.000000</td>\n      <td>0.016505</td>\n      <td>0.247398</td>\n      <td>0.113214</td>\n      <td>0.011942</td>\n      <td>0.289999</td>\n      <td>...</td>\n      <td>0.096340</td>\n      <td>0.172209</td>\n      <td>0.022574</td>\n      <td>0.172209</td>\n      <td>0.032959</td>\n      <td>0.002791</td>\n      <td>0.003519</td>\n      <td>0.007721</td>\n      <td>0.003062</td>\n      <td>0.003319</td>\n    </tr>\n    <tr>\n      <th>multiple_lines_Yes</th>\n      <td>0.142948</td>\n      <td>0.142057</td>\n      <td>0.024526</td>\n      <td>0.331941</td>\n      <td>0.279690</td>\n      <td>0.163530</td>\n      <td>0.490434</td>\n      <td>0.468504</td>\n      <td>0.040102</td>\n      <td>0.366083</td>\n      <td>...</td>\n      <td>0.100571</td>\n      <td>0.210564</td>\n      <td>0.257152</td>\n      <td>0.210564</td>\n      <td>0.258751</td>\n      <td>0.003794</td>\n      <td>0.106253</td>\n      <td>0.060048</td>\n      <td>0.083618</td>\n      <td>0.227206</td>\n    </tr>\n    <tr>\n      <th>online_security_No internet service</th>\n      <td>0.182742</td>\n      <td>0.000615</td>\n      <td>0.139812</td>\n      <td>0.039062</td>\n      <td>0.172209</td>\n      <td>0.321013</td>\n      <td>0.763557</td>\n      <td>0.375223</td>\n      <td>0.227890</td>\n      <td>0.465793</td>\n      <td>...</td>\n      <td>0.336298</td>\n      <td>1.000000</td>\n      <td>0.415552</td>\n      <td>1.000000</td>\n      <td>0.418675</td>\n      <td>0.038004</td>\n      <td>0.218278</td>\n      <td>0.001030</td>\n      <td>0.284917</td>\n      <td>0.321361</td>\n    </tr>\n    <tr>\n      <th>online_security_Yes</th>\n      <td>0.038653</td>\n      <td>0.143106</td>\n      <td>0.080972</td>\n      <td>0.327203</td>\n      <td>0.092893</td>\n      <td>0.003636</td>\n      <td>0.296594</td>\n      <td>0.411651</td>\n      <td>0.171226</td>\n      <td>0.030696</td>\n      <td>...</td>\n      <td>0.354931</td>\n      <td>0.333403</td>\n      <td>0.176207</td>\n      <td>0.333403</td>\n      <td>0.187398</td>\n      <td>0.100162</td>\n      <td>0.191773</td>\n      <td>0.115721</td>\n      <td>0.112338</td>\n      <td>0.080798</td>\n    </tr>\n    <tr>\n      <th>online_backup_No internet service</th>\n      <td>0.182742</td>\n      <td>0.000615</td>\n      <td>0.139812</td>\n      <td>0.039062</td>\n      <td>0.172209</td>\n      <td>0.321013</td>\n      <td>0.763557</td>\n      <td>0.375223</td>\n      <td>0.227890</td>\n      <td>0.465793</td>\n      <td>...</td>\n      <td>0.336298</td>\n      <td>1.000000</td>\n      <td>0.415552</td>\n      <td>1.000000</td>\n      <td>0.418675</td>\n      <td>0.038004</td>\n      <td>0.218278</td>\n      <td>0.001030</td>\n      <td>0.284917</td>\n      <td>0.321361</td>\n    </tr>\n    <tr>\n      <th>online_backup_Yes</th>\n      <td>0.066572</td>\n      <td>0.141498</td>\n      <td>0.023671</td>\n      <td>0.360277</td>\n      <td>0.052312</td>\n      <td>0.126735</td>\n      <td>0.441780</td>\n      <td>0.509226</td>\n      <td>0.082255</td>\n      <td>0.165651</td>\n      <td>...</td>\n      <td>0.294233</td>\n      <td>0.381593</td>\n      <td>0.282106</td>\n      <td>0.381593</td>\n      <td>0.274501</td>\n      <td>0.083722</td>\n      <td>0.111400</td>\n      <td>0.090785</td>\n      <td>0.000408</td>\n      <td>0.174164</td>\n    </tr>\n    <tr>\n      <th>device_protection_No internet service</th>\n      <td>0.182742</td>\n      <td>0.000615</td>\n      <td>0.139812</td>\n      <td>0.039062</td>\n      <td>0.172209</td>\n      <td>0.321013</td>\n      <td>0.763557</td>\n      <td>0.375223</td>\n      <td>0.227890</td>\n      <td>0.465793</td>\n      <td>...</td>\n      <td>0.336298</td>\n      <td>1.000000</td>\n      <td>0.415552</td>\n      <td>1.000000</td>\n      <td>0.418675</td>\n      <td>0.038004</td>\n      <td>0.218278</td>\n      <td>0.001030</td>\n      <td>0.284917</td>\n      <td>0.321361</td>\n    </tr>\n    <tr>\n      <th>device_protection_Yes</th>\n      <td>0.059428</td>\n      <td>0.153786</td>\n      <td>0.013963</td>\n      <td>0.360653</td>\n      <td>0.071227</td>\n      <td>0.103797</td>\n      <td>0.482692</td>\n      <td>0.521983</td>\n      <td>0.066160</td>\n      <td>0.176049</td>\n      <td>...</td>\n      <td>0.333313</td>\n      <td>0.380754</td>\n      <td>0.390874</td>\n      <td>0.380754</td>\n      <td>0.402111</td>\n      <td>0.102495</td>\n      <td>0.165096</td>\n      <td>0.111554</td>\n      <td>0.003351</td>\n      <td>0.187373</td>\n    </tr>\n    <tr>\n      <th>tech_support_No internet service</th>\n      <td>0.182742</td>\n      <td>0.000615</td>\n      <td>0.139812</td>\n      <td>0.039062</td>\n      <td>0.172209</td>\n      <td>0.321013</td>\n      <td>0.763557</td>\n      <td>0.375223</td>\n      <td>0.227890</td>\n      <td>0.465793</td>\n      <td>...</td>\n      <td>0.336298</td>\n      <td>1.000000</td>\n      <td>0.415552</td>\n      <td>1.000000</td>\n      <td>0.418675</td>\n      <td>0.038004</td>\n      <td>0.218278</td>\n      <td>0.001030</td>\n      <td>0.284917</td>\n      <td>0.321361</td>\n    </tr>\n    <tr>\n      <th>tech_support_Yes</th>\n      <td>0.060625</td>\n      <td>0.119999</td>\n      <td>0.063268</td>\n      <td>0.324221</td>\n      <td>0.096340</td>\n      <td>0.037880</td>\n      <td>0.338304</td>\n      <td>0.431883</td>\n      <td>0.164674</td>\n      <td>0.020492</td>\n      <td>...</td>\n      <td>1.000000</td>\n      <td>0.336298</td>\n      <td>0.278070</td>\n      <td>0.336298</td>\n      <td>0.279358</td>\n      <td>0.095775</td>\n      <td>0.240824</td>\n      <td>0.117272</td>\n      <td>0.114839</td>\n      <td>0.085509</td>\n    </tr>\n    <tr>\n      <th>streaming_tv_No internet service</th>\n      <td>0.182742</td>\n      <td>0.000615</td>\n      <td>0.139812</td>\n      <td>0.039062</td>\n      <td>0.172209</td>\n      <td>0.321013</td>\n      <td>0.763557</td>\n      <td>0.375223</td>\n      <td>0.227890</td>\n      <td>0.465793</td>\n      <td>...</td>\n      <td>0.336298</td>\n      <td>1.000000</td>\n      <td>0.415552</td>\n      <td>1.000000</td>\n      <td>0.418675</td>\n      <td>0.038004</td>\n      <td>0.218278</td>\n      <td>0.001030</td>\n      <td>0.284917</td>\n      <td>0.321361</td>\n    </tr>\n    <tr>\n      <th>streaming_tv_Yes</th>\n      <td>0.105378</td>\n      <td>0.124666</td>\n      <td>0.016558</td>\n      <td>0.279756</td>\n      <td>0.022574</td>\n      <td>0.223841</td>\n      <td>0.629603</td>\n      <td>0.514973</td>\n      <td>0.063228</td>\n      <td>0.329349</td>\n      <td>...</td>\n      <td>0.278070</td>\n      <td>0.415552</td>\n      <td>1.000000</td>\n      <td>0.415552</td>\n      <td>0.533094</td>\n      <td>0.061612</td>\n      <td>0.072049</td>\n      <td>0.040433</td>\n      <td>0.144626</td>\n      <td>0.247742</td>\n    </tr>\n    <tr>\n      <th>streaming_movies_No internet service</th>\n      <td>0.182742</td>\n      <td>0.000615</td>\n      <td>0.139812</td>\n      <td>0.039062</td>\n      <td>0.172209</td>\n      <td>0.321013</td>\n      <td>0.763557</td>\n      <td>0.375223</td>\n      <td>0.227890</td>\n      <td>0.465793</td>\n      <td>...</td>\n      <td>0.336298</td>\n      <td>1.000000</td>\n      <td>0.415552</td>\n      <td>1.000000</td>\n      <td>0.418675</td>\n      <td>0.038004</td>\n      <td>0.218278</td>\n      <td>0.001030</td>\n      <td>0.284917</td>\n      <td>0.321361</td>\n    </tr>\n    <tr>\n      <th>streaming_movies_Yes</th>\n      <td>0.120176</td>\n      <td>0.117412</td>\n      <td>0.039741</td>\n      <td>0.286111</td>\n      <td>0.032959</td>\n      <td>0.211716</td>\n      <td>0.627429</td>\n      <td>0.520122</td>\n      <td>0.061382</td>\n      <td>0.322923</td>\n      <td>...</td>\n      <td>0.279358</td>\n      <td>0.418675</td>\n      <td>0.533094</td>\n      <td>0.418675</td>\n      <td>1.000000</td>\n      <td>0.064926</td>\n      <td>0.073960</td>\n      <td>0.048575</td>\n      <td>0.137966</td>\n      <td>0.250595</td>\n    </tr>\n    <tr>\n      <th>contract_type_One year</th>\n      <td>0.046262</td>\n      <td>0.082783</td>\n      <td>0.068368</td>\n      <td>0.202570</td>\n      <td>0.002791</td>\n      <td>0.051391</td>\n      <td>0.004904</td>\n      <td>0.170814</td>\n      <td>0.177820</td>\n      <td>0.076324</td>\n      <td>...</td>\n      <td>0.095775</td>\n      <td>0.038004</td>\n      <td>0.061612</td>\n      <td>0.038004</td>\n      <td>0.064926</td>\n      <td>1.000000</td>\n      <td>0.289510</td>\n      <td>0.067589</td>\n      <td>0.109130</td>\n      <td>0.000116</td>\n    </tr>\n    <tr>\n      <th>contract_type_Two year</th>\n      <td>0.117000</td>\n      <td>0.248091</td>\n      <td>0.204613</td>\n      <td>0.558533</td>\n      <td>0.003519</td>\n      <td>0.147889</td>\n      <td>0.074681</td>\n      <td>0.354481</td>\n      <td>0.302253</td>\n      <td>0.211526</td>\n      <td>...</td>\n      <td>0.240824</td>\n      <td>0.218278</td>\n      <td>0.072049</td>\n      <td>0.218278</td>\n      <td>0.073960</td>\n      <td>0.289510</td>\n      <td>1.000000</td>\n      <td>0.173265</td>\n      <td>0.282138</td>\n      <td>0.004705</td>\n    </tr>\n    <tr>\n      <th>payment_type_Credit card (automatic)</th>\n      <td>0.024135</td>\n      <td>0.082029</td>\n      <td>0.060267</td>\n      <td>0.233006</td>\n      <td>0.007721</td>\n      <td>0.013589</td>\n      <td>0.030550</td>\n      <td>0.182915</td>\n      <td>0.134302</td>\n      <td>0.050077</td>\n      <td>...</td>\n      <td>0.117272</td>\n      <td>0.001030</td>\n      <td>0.040433</td>\n      <td>0.001030</td>\n      <td>0.048575</td>\n      <td>0.067589</td>\n      <td>0.173265</td>\n      <td>1.000000</td>\n      <td>0.373322</td>\n      <td>0.286049</td>\n    </tr>\n    <tr>\n      <th>payment_type_Electronic check</th>\n      <td>0.171718</td>\n      <td>0.083852</td>\n      <td>0.150642</td>\n      <td>0.208363</td>\n      <td>0.003062</td>\n      <td>0.208865</td>\n      <td>0.271625</td>\n      <td>0.059246</td>\n      <td>0.301919</td>\n      <td>0.336410</td>\n      <td>...</td>\n      <td>0.114839</td>\n      <td>0.284917</td>\n      <td>0.144626</td>\n      <td>0.284917</td>\n      <td>0.137966</td>\n      <td>0.109130</td>\n      <td>0.282138</td>\n      <td>0.373322</td>\n      <td>1.000000</td>\n      <td>0.387372</td>\n    </tr>\n    <tr>\n      <th>payment_type_Mailed check</th>\n      <td>0.153477</td>\n      <td>0.095125</td>\n      <td>0.059071</td>\n      <td>0.233852</td>\n      <td>0.003319</td>\n      <td>0.205398</td>\n      <td>0.377437</td>\n      <td>0.295758</td>\n      <td>0.091683</td>\n      <td>0.306834</td>\n      <td>...</td>\n      <td>0.085509</td>\n      <td>0.321361</td>\n      <td>0.247742</td>\n      <td>0.321361</td>\n      <td>0.250595</td>\n      <td>0.000116</td>\n      <td>0.004705</td>\n      <td>0.286049</td>\n      <td>0.387372</td>\n      <td>1.000000</td>\n    </tr>\n  </tbody>\n</table>\n<p>32 rows × 32 columns</p>\n</div>"
     },
     "execution_count": 9,
     "metadata": {},
     "output_type": "execute_result"
    }
   ],
   "source": [
    "abs(df.corr())"
   ],
   "metadata": {
    "collapsed": false,
    "ExecuteTime": {
     "start_time": "2023-04-27T11:54:36.963106Z",
     "end_time": "2023-04-27T11:54:36.995107Z"
    }
   }
  },
  {
   "cell_type": "code",
   "execution_count": 9,
   "outputs": [],
   "source": [],
   "metadata": {
    "collapsed": false,
    "ExecuteTime": {
     "start_time": "2023-04-27T11:54:36.984605Z",
     "end_time": "2023-04-27T11:54:36.995124Z"
    }
   }
  }
 ],
 "metadata": {
  "kernelspec": {
   "display_name": "Python 3",
   "language": "python",
   "name": "python3"
  },
  "language_info": {
   "codemirror_mode": {
    "name": "ipython",
    "version": 2
   },
   "file_extension": ".py",
   "mimetype": "text/x-python",
   "name": "python",
   "nbconvert_exporter": "python",
   "pygments_lexer": "ipython2",
   "version": "2.7.6"
  }
 },
 "nbformat": 4,
 "nbformat_minor": 0
}
