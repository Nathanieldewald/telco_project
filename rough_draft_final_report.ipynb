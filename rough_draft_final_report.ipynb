{
 "cells": [
  {
   "cell_type": "markdown",
   "source": [
    "# Telco Customer Churn"
   ],
   "metadata": {
    "collapsed": false
   }
  },
  {
   "cell_type": "markdown",
   "source": [
    "# Goal:\n",
    "    * Predict customer churn\n",
    "    * Find out the key drivers that lead to churn\n"
   ],
   "metadata": {
    "collapsed": false
   }
  },
  {
   "cell_type": "markdown",
   "source": [
    "# Importing Libraries and data"
   ],
   "metadata": {
    "collapsed": false
   }
  },
  {
   "cell_type": "code",
   "execution_count": 2,
   "outputs": [],
   "source": [
    "import pandas as pd\n",
    "import numpy as np\n",
    "import matplotlib.pyplot as plt\n",
    "import seaborn as sns\n",
    "import os\n",
    "import warnings\n",
    "warnings.filterwarnings('ignore')\n",
    "import wrangle as w\n",
    "# acquiring, cleaning, and adding features to data\n",
    "df = w.get_telco()\n",
    "df = w.wrangle_telco_encoded(df)\n",
    "\n",
    "# splitting data into train, validate, and test\n",
    "train, validate, test = w.train_validate_test(df, \"churn\")\n"
   ],
   "metadata": {
    "collapsed": false,
    "ExecuteTime": {
     "start_time": "2023-04-25T15:56:23.874106Z",
     "end_time": "2023-04-25T15:56:23.918618Z"
    }
   }
  },
  {
   "cell_type": "markdown",
   "source": [
    "# Acquire Data\n",
    "    * Data is acquired from codeup database using get_telco_data function from wrangle.py\n",
    "    * Telco has 7043 rows and 24 columns before cleaning"
   ],
   "metadata": {
    "collapsed": false
   }
  },
  {
   "cell_type": "markdown",
   "source": [
    "# Prepare\n",
    "## Prepare Actions\n",
    "    * Checked for null values and found none\n",
    "    * Checked for duplicates and found none\n",
    "    * converted total_charges to float\n",
    "    * encoded churn, contract_type, internet_service_type, and payment_type\n",
    "    * split data into train, validate, and test\n"
   ],
   "metadata": {
    "collapsed": false
   }
  },
  {
   "cell_type": "markdown",
   "source": [
    "# Explore"
   ],
   "metadata": {
    "collapsed": false
   }
  },
  {
   "cell_type": "markdown",
   "source": [
    "# Is fiber optic a driver of churn?\n",
    "$H_0$: Customers with fiber optic do not have a higher churn rate than those with DSL.\n",
    "$H_a$: Customers with fiber optic have a higher churn rate than those with DSL."
   ],
   "metadata": {
    "collapsed": false
   }
  },
  {
   "cell_type": "code",
   "execution_count": null,
   "outputs": [],
   "source": [
    "# Get Bar Plot of Churn Rate by Internet Service Type\n",
    "w.plot_churn_rate_by_internet_service_type()"
   ],
   "metadata": {
    "collapsed": false,
    "ExecuteTime": {
     "start_time": "2023-04-25T15:17:53.130059Z",
     "end_time": "2023-04-25T15:17:53.283194Z"
    }
   }
  },
  {
   "cell_type": "code",
   "execution_count": null,
   "outputs": [],
   "source": [
    "# Get Chi2 Test Results\n",
    "w.chi2_test_for_churn_and_internet_service_type()"
   ],
   "metadata": {
    "collapsed": false,
    "ExecuteTime": {
     "start_time": "2023-04-25T15:17:53.283861Z",
     "end_time": "2023-04-25T15:17:53.327898Z"
    }
   }
  },
  {
   "cell_type": "markdown",
   "source": [
    "# Is fiber optic price a driver of churn?"
   ],
   "metadata": {
    "collapsed": false
   }
  },
  {
   "cell_type": "code",
   "execution_count": null,
   "outputs": [],
   "source": [],
   "metadata": {
    "collapsed": false,
    "ExecuteTime": {
     "start_time": "2023-04-25T15:17:53.311824Z",
     "end_time": "2023-04-25T15:17:53.327953Z"
    }
   }
  },
  {
   "cell_type": "markdown",
   "source": [
    "# Does tenure correlate with higher or lower churn?"
   ],
   "metadata": {
    "collapsed": false
   }
  },
  {
   "cell_type": "markdown",
   "source": [
    "# Are customers with dependents more likely to churn than those without?"
   ],
   "metadata": {
    "collapsed": false
   }
  },
  {
   "cell_type": "markdown",
   "source": [
    "# Exploration Summary"
   ],
   "metadata": {
    "collapsed": false
   }
  },
  {
   "cell_type": "markdown",
   "source": [
    "# Selected Features for Modeling\n",
    "    * tenure\n",
    "    * monthly_charges\n",
    "    * total_charges\n",
    "    * contract_type\n",
    "    * internet_service_type\n",
    "    * payment_type\n",
    "    * senior_citizen\n",
    "    * partner\n",
    "    * dependents\n",
    "    * phone_service\n",
    "    * multiple_lines\n",
    "    * online_security\n",
    "    * online_backup\n",
    "    * device_protection\n",
    "    * tech_support\n",
    "    * streaming_tv\n",
    "    * streaming_movies\n",
    "    * paperless_billing\n",
    "    * churn"
   ],
   "metadata": {
    "collapsed": false
   }
  },
  {
   "cell_type": "markdown",
   "source": [
    "# Features that will be dropped\n",
    "    * gender(Has no significance to churn)\n",
    "    * payment_type_id(same as payment_type)\n",
    "    * internet_service_type_id(same as internet_service_type)\n",
    "    * contract_type_id(same as contract_type)\n"
   ],
   "metadata": {
    "collapsed": false
   }
  },
  {
   "cell_type": "markdown",
   "source": [
    "# Modeling"
   ],
   "metadata": {
    "collapsed": false
   }
  },
  {
   "cell_type": "markdown",
   "source": [
    "# Baseline Prediction\n",
    "    * Baseline prediction of customers who do not churn is 73.46%\n",
    "    * For the model to be useful, it must perform better than the baseline"
   ],
   "metadata": {
    "collapsed": false
   }
  },
  {
   "cell_type": "markdown",
   "source": [
    "# Model Selection\n",
    "    * Logistic Regression\n",
    "    * Random Forest\n",
    "    * KNN"
   ],
   "metadata": {
    "collapsed": false
   }
  },
  {
   "cell_type": "markdown",
   "source": [
    "# Comparion of Models\n",
    "    * Logistic Regression performed the best with an accuracy of 80.5%\n",
    "    * Random Forest performed the worst with an accuracy of 77.5%\n",
    "    * KNN performed in the middle with an accuracy of 79.5%\n"
   ],
   "metadata": {
    "collapsed": false
   }
  },
  {
   "cell_type": "markdown",
   "source": [
    "# Model Evaluation\n",
    "    * All models performed better than the baseline\n",
    "    * Models were evaluated on accuracy\n",
    "    * Tested hyperparameters for each model to get the best accuracy with lowest variance between train and validate\n",
    "\n"
   ],
   "metadata": {
    "collapsed": false
   }
  },
  {
   "cell_type": "code",
   "execution_count": null,
   "outputs": [],
   "source": [],
   "metadata": {
    "collapsed": false,
    "ExecuteTime": {
     "start_time": "2023-04-25T15:17:53.313526Z",
     "end_time": "2023-04-25T15:17:53.327977Z"
    }
   }
  }
 ],
 "metadata": {
  "kernelspec": {
   "display_name": "Python 3",
   "language": "python",
   "name": "python3"
  },
  "language_info": {
   "codemirror_mode": {
    "name": "ipython",
    "version": 2
   },
   "file_extension": ".py",
   "mimetype": "text/x-python",
   "name": "python",
   "nbconvert_exporter": "python",
   "pygments_lexer": "ipython2",
   "version": "2.7.6"
  }
 },
 "nbformat": 4,
 "nbformat_minor": 0
}
