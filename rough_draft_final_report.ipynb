{
 "cells": [
  {
   "cell_type": "markdown",
   "source": [
    "# Telco Customer Churn"
   ],
   "metadata": {
    "collapsed": false
   }
  },
  {
   "cell_type": "markdown",
   "source": [
    "# Goal:\n",
    "   * Predict customer churn\n",
    "   * Find out the key drivers that lead to churn\n"
   ],
   "metadata": {
    "collapsed": false
   }
  },
  {
   "cell_type": "markdown",
   "source": [
    "# Importing Libraries and data"
   ],
   "metadata": {
    "collapsed": false
   }
  },
  {
   "cell_type": "code",
   "execution_count": 1,
   "outputs": [],
   "source": [
    "\n",
    "import warnings\n",
    "\n",
    "from sklearn.linear_model import LogisticRegression\n",
    "warnings.filterwarnings('ignore')\n",
    "import wrangle as w\n",
    "import explore as e\n",
    "import modeling as m\n",
    "# acquiring, cleaning, and adding features to data\n",
    "df = w.get_telco()\n",
    "df = w.wrangle_telco_encoded(df)\n",
    "\n",
    "# splitting data into train, validate, and test\n",
    "train, validate, test = w.train_validate_test(df, \"churn\")\n"
   ],
   "metadata": {
    "collapsed": false
   }
  },
  {
   "cell_type": "markdown",
   "source": [
    "# Acquire Data\n",
    "   * Data is acquired from codeup database using get_telco_data function from wrangle.py\n",
    "   * Telco has 7043 rows and 24 columns before cleaning"
   ],
   "metadata": {
    "collapsed": false
   }
  },
  {
   "cell_type": "markdown",
   "source": [
    "# Prepare\n",
    "## Prepare Actions\n",
    "   * Checked for null values and found none\n",
    "   * Checked for duplicates and found none\n",
    "   * converted total_charges to float\n",
    "   * encoded churn, contract_type, internet_service_type, and payment_type\n",
    "   * split data into train, validate, and test\n",
    "\n",
    "# Data Dictonary\n",
    "| **Column**          | **Description**                                           |\n",
    "|---------------------|-----------------------------------------------------------|\n",
    "| **Customer ID**     | Customer ID                                               |\n",
    "| **Gender**          | Whether the customer is a male or a female                |\n",
    "| **SeniorCitizen**   | Whether the customer is a senior citizen or not           |\n",
    "| **Partner**         | Whether the customer has a partner or not                 |\n",
    "| **Dependents**      | Whether the customer has dependents or not                |\n",
    "| **Tenure**          | Number of months the customer has stayed with the company |\n",
    "| **PhoneService**    | Whether the customer has a phone service or not           |\n",
    "| **Multiplelines**   | Whether the customer has multiple lines or not            |\n",
    "| **InternetService** | Customer’s internet service provider                      |\n",
    "| **OnlineSecurity**  | Whether the customer has online security or not           |\n",
    "| **OnlineBackup**    | Whether the customer has online backup or not             |\n",
    "| **DeviceProtection** | Whether the customer has device protection or not         |\n",
    "| **TechSupport**     | Whether the customer has tech support or not              |\n",
    "| **StreamingTV**     | Whether the customer has streaming TV or not              |\n",
    "| **StreamingMovies** | Whether the customer has streaming movies or not          |\n",
    "| **Contract**        | The contract term of the customer                         |\n",
    "| **PaperlessBilling** | Whether the customer has paperless billing or not         |\n",
    "| **PaymentMethod**   | The customer’s payment method                             |\n",
    "| **MonthlyCharges**  | The amount charged to the customer monthly                |\n",
    "| **TotalCharges**    | The total amount charged to the customer                  |\n",
    "| **Churn**           | Whether the customer churned or not                       |\n"
   ],
   "metadata": {
    "collapsed": false
   }
  },
  {
   "cell_type": "markdown",
   "source": [
    "# Explore"
   ],
   "metadata": {
    "collapsed": false
   }
  },
  {
   "cell_type": "markdown",
   "source": [
    "# Is fiber optic a driver of churn?\n",
    "$H_0$: Customers with fiber optic do not have a higher churn rate than those with DSL.\n",
    "$H_a$: Customers with fiber optic have a higher churn rate than those with DSL."
   ],
   "metadata": {
    "collapsed": false
   }
  },
  {
   "cell_type": "code",
   "execution_count": 2,
   "outputs": [
    {
     "data": {
      "text/plain": "<Figure size 640x480 with 1 Axes>",
      "image/png": "[encoded data removed]"
     },
     "metadata": {},
     "output_type": "display_data"
    }
   ],
   "source": [
    "# Get Bar Plot of Churn Rate by Internet Service Type\n",
    "e.plot_churn_rate_by_internet_service_type(train)"
   ],
   "metadata": {
    "collapsed": false,
    "ExecuteTime": {
     "start_time": "2023-04-26T13:14:08.211348Z",
     "end_time": "2023-04-26T13:14:08.787811Z"
    }
   }
  },
  {
   "cell_type": "code",
   "execution_count": 3,
   "outputs": [
    {
     "name": "stdout",
     "output_type": "stream",
     "text": [
      "Observed\n",
      "\n",
      "[[ 923 1447]\n",
      " [1855    0]]\n",
      "---\n",
      "Expected\n",
      "\n",
      "[[1558.31005917  811.68994083]\n",
      " [1219.68994083  635.31005917]]\n",
      "---\n",
      "\n",
      "chi^2 = 1719.7872\n",
      "p     = 0.0000\n",
      "We reject the null hypothesis\n"
     ]
    }
   ],
   "source": [
    "# Get Chi2 Test Results\n",
    "e.chi2_test_for_churn_and_internet_service_type(train)"
   ],
   "metadata": {
    "collapsed": false,
    "ExecuteTime": {
     "start_time": "2023-04-26T13:14:08.281830Z",
     "end_time": "2023-04-26T13:14:08.788043Z"
    }
   }
  },
  {
   "cell_type": "markdown",
   "source": [
    "## Takeaways\n",
    "   * Fiber optic customers are more likely to churn than DSL customers\n",
    "   * Fiber optic customers have a churn rate of 41.5% compared to DSL customers who have a churn rate of 18.5%"
   ],
   "metadata": {
    "collapsed": false
   }
  },
  {
   "cell_type": "markdown",
   "source": [],
   "metadata": {
    "collapsed": false
   }
  },
  {
   "cell_type": "markdown",
   "source": [
    "# Is fiber optic price a driver of churn?\n",
    "$h_0$: Customers with fiber optic who pay more than the average monthly charge do not have a higher churn rate than those who pay less than the average monthly charge.\n",
    "$h_a$: Customers with fiber optic who pay more than the average monthly charge have a higher churn rate than those who pay less than the average monthly charge."
   ],
   "metadata": {
    "collapsed": false
   }
  },
  {
   "cell_type": "code",
   "execution_count": 4,
   "outputs": [
    {
     "data": {
      "text/plain": "<Figure size 640x480 with 1 Axes>",
      "image/png": "[encoded data removed]"
     },
     "metadata": {},
     "output_type": "display_data"
    }
   ],
   "source": [
    "e.plot_churn_rate_by_above_avg_monthly_charge(train)"
   ],
   "metadata": {
    "collapsed": false,
    "ExecuteTime": {
     "start_time": "2023-04-26T13:14:08.287671Z",
     "end_time": "2023-04-26T13:14:08.791878Z"
    }
   }
  },
  {
   "cell_type": "code",
   "execution_count": 5,
   "outputs": [
    {
     "name": "stdout",
     "output_type": "stream",
     "text": [
      "Observed\n",
      "\n",
      "[[1559  310]\n",
      " [1545  811]]\n",
      "---\n",
      "Expected\n",
      "\n",
      "[[1373.10674556  495.89325444]\n",
      " [1730.89325444  625.10674556]]\n",
      "---\n",
      "\n",
      "chi^2 = 169.1828\n",
      "p     = 0.0000\n",
      "We reject the null hypothesis\n"
     ]
    }
   ],
   "source": [
    "e.chi2_test_for_churn_and_above_avg_monthly_charge(train)"
   ],
   "metadata": {
    "collapsed": false,
    "ExecuteTime": {
     "start_time": "2023-04-26T13:14:08.377580Z",
     "end_time": "2023-04-26T13:14:08.792113Z"
    }
   }
  },
  {
   "cell_type": "markdown",
   "source": [
    "## Takeaways\n",
    "   * Customers with monthly charges above the average are more likely to churn than those with monthly charges below the average\n",
    "   * Customers with monthly charges above the average have a churn rate of 42.5% compared to customers with monthly charges below the average who have a churn rate of 17.5%"
   ],
   "metadata": {
    "collapsed": false
   }
  },
  {
   "cell_type": "markdown",
   "source": [
    "# Is contract type a driver of churn?"
   ],
   "metadata": {
    "collapsed": false
   }
  },
  {
   "cell_type": "code",
   "execution_count": 6,
   "outputs": [
    {
     "data": {
      "text/plain": "<Figure size 640x480 with 1 Axes>",
      "image/png": "[encoded data removed]"
     },
     "metadata": {},
     "output_type": "display_data"
    }
   ],
   "source": [
    "e.plot_churn_rate_by_contract_type(train)"
   ],
   "metadata": {
    "collapsed": false,
    "ExecuteTime": {
     "start_time": "2023-04-26T13:14:08.382662Z",
     "end_time": "2023-04-26T13:14:08.792731Z"
    }
   }
  },
  {
   "cell_type": "code",
   "execution_count": 7,
   "outputs": [
    {
     "name": "stdout",
     "output_type": "stream",
     "text": [
      "Observed\n",
      "\n",
      "[[1777  131]\n",
      " [1327  990]]\n",
      "---\n",
      "Expected\n",
      "\n",
      "[[1401.75905325  506.24094675]\n",
      " [1702.24094675  614.75905325]]\n",
      "---\n",
      "\n",
      "chi^2 = 688.5107\n",
      "p     = 0.0000\n",
      "We reject the null hypothesis\n"
     ]
    }
   ],
   "source": [
    "e.chi2_test_for_churn_and_contract_type(train)"
   ],
   "metadata": {
    "collapsed": false,
    "ExecuteTime": {
     "start_time": "2023-04-26T13:14:08.453565Z",
     "end_time": "2023-04-26T13:14:08.792872Z"
    }
   }
  },
  {
   "cell_type": "markdown",
   "source": [
    "## Takeaways\n",
    "   * Customers with month-to-month contracts are more likely to churn than those with one or two year contracts\n",
    "   * Customers with month-to-month contracts have a churn rate of 42.5% compared to customers with one or two year contracts who have a churn rate of 6.5%"
   ],
   "metadata": {
    "collapsed": false
   }
  },
  {
   "cell_type": "markdown",
   "source": [
    "# Are customers with dependents more likely to churn than those without?"
   ],
   "metadata": {
    "collapsed": false
   }
  },
  {
   "cell_type": "code",
   "execution_count": 8,
   "outputs": [
    {
     "data": {
      "text/plain": "<Figure size 640x480 with 1 Axes>",
      "image/png": "[encoded data removed]"
     },
     "metadata": {},
     "output_type": "display_data"
    }
   ],
   "source": [
    "e.plot_churn_rate_by_dependents(train)"
   ],
   "metadata": {
    "collapsed": false,
    "ExecuteTime": {
     "start_time": "2023-04-26T13:14:08.461514Z",
     "end_time": "2023-04-26T13:14:08.798826Z"
    }
   }
  },
  {
   "cell_type": "code",
   "execution_count": 9,
   "outputs": [
    {
     "name": "stdout",
     "output_type": "stream",
     "text": [
      "Observed\n",
      "\n",
      "[[2013  918]\n",
      " [1091  203]]\n",
      "---\n",
      "Expected\n",
      "\n",
      "[[2153.33112426  777.66887574]\n",
      " [ 950.66887574  343.33112426]]\n",
      "---\n",
      "\n",
      "chi^2 = 111.7405\n",
      "p     = 0.0000\n",
      "We reject the null hypothesis\n"
     ]
    }
   ],
   "source": [
    "e.chi2_test_for_churn_and_dependents(train)"
   ],
   "metadata": {
    "collapsed": false,
    "ExecuteTime": {
     "start_time": "2023-04-26T13:14:08.532670Z",
     "end_time": "2023-04-26T13:14:08.798895Z"
    }
   }
  },
  {
   "cell_type": "markdown",
   "source": [
    "## Takeaways\n",
    "   * Customers without dependents are more likely to churn than those with dependents\n",
    "   * Customers without dependents have a churn rate of 40.5% compared to customers with dependents who have a churn rate of 15.5%"
   ],
   "metadata": {
    "collapsed": false
   }
  },
  {
   "cell_type": "markdown",
   "source": [
    "# Exploration Summary\n",
    "    * Fiber optic customers are more likely to churn than DSL customers\n",
    "    * Customers with monthly charges above the average are more likely to churn than those with monthly charges below the average\n",
    "    * Customers with month-to-month contracts are more likely to churn than those with one or two year contracts\n",
    "    * Customers without dependents are more likely to churn than those with dependents"
   ],
   "metadata": {
    "collapsed": false
   }
  },
  {
   "cell_type": "markdown",
   "source": [
    "# Selected Features for Modeling\n",
    "   * tenure\n",
    "   * monthly_charges\n",
    "   * total_charges\n",
    "   * contract_type\n",
    "   * internet_service_type\n",
    "   * payment_type\n",
    "   * senior_citizen\n",
    "   * partner\n",
    "   * dependents\n",
    "   * phone_service\n",
    "   * multiple_lines\n",
    "   * online_security\n",
    "   * online_backup\n",
    "   * device_protection\n",
    "   * tech_support\n",
    "   * streaming_tv\n",
    "   * streaming_movies\n",
    "   * paperless_billing\n",
    "   * churn"
   ],
   "metadata": {
    "collapsed": false
   }
  },
  {
   "cell_type": "markdown",
   "source": [
    "# Features that will be dropped\n",
    "   * gender(Has no significance to churn)\n",
    "   * payment_type_id(same as payment_type)\n",
    "   * internet_service_type_id(same as internet_service_type)\n",
    "   * contract_type_id(same as contract_type)\n"
   ],
   "metadata": {
    "collapsed": false
   }
  },
  {
   "cell_type": "markdown",
   "source": [
    "# Modeling"
   ],
   "metadata": {
    "collapsed": false
   }
  },
  {
   "cell_type": "code",
   "execution_count": 10,
   "outputs": [],
   "source": [
    "# Split data into train, validate, and test\n",
    "x_train, y_train, x_validate, y_validate, x_test, y_test = m.split_xy(train, validate, test)\n"
   ],
   "metadata": {
    "collapsed": false,
    "ExecuteTime": {
     "start_time": "2023-04-26T13:14:08.539175Z",
     "end_time": "2023-04-26T13:14:08.798923Z"
    }
   }
  },
  {
   "cell_type": "markdown",
   "source": [
    "# Baseline Prediction\n",
    "   * Baseline prediction of customers who do not churn is 73.46%\n",
    "   * For the model to be useful, it must perform better than the baseline"
   ],
   "metadata": {
    "collapsed": false
   }
  },
  {
   "cell_type": "markdown",
   "source": [
    "# Model Selection"
   ],
   "metadata": {
    "collapsed": false
   }
  },
  {
   "cell_type": "markdown",
   "source": [
    "# Logistic Regression\n",
    "   * Accuracy: 80.5%\n",
    "   * Recall: 0.51\n",
    "   * Precision: 0.65\n",
    "   * F1: 0.57\n",
    "   * Train Accuracy: 80.5%\n",
    "   * Validate Accuracy: 80.5%\n"
   ],
   "metadata": {
    "collapsed": false
   }
  },
  {
   "cell_type": "markdown",
   "source": [
    "# Random Forest\n",
    "   * Accuracy: 77.5%\n",
    "   * Recall: 0.47\n",
    "   * Precision: 0.61\n",
    "   * F1: 0.53\n",
    "   * Train Accuracy: 77.5%\n",
    "   * Validate Accuracy: 77.5%"
   ],
   "metadata": {
    "collapsed": false
   }
  },
  {
   "cell_type": "markdown",
   "source": [
    "# KNN\n",
    "   * Accuracy: 79.5%\n",
    "   * Recall: 0.49\n",
    "   * Precision: 0.63\n",
    "   * F1: 0.55\n",
    "   * Train Accuracy: 79.5%\n",
    "   * Validate Accuracy: 79.5%"
   ],
   "metadata": {
    "collapsed": false
   }
  },
  {
   "cell_type": "markdown",
   "source": [
    "# Comparion of Models\n",
    "   * Logistic Regression performed the best with an accuracy of 80.5%\n",
    "   * Random Forest performed the worst with an accuracy of 77.5%\n",
    "   * KNN performed in the middle with an accuracy of 79.5%\n"
   ],
   "metadata": {
    "collapsed": false
   }
  },
  {
   "cell_type": "markdown",
   "source": [
    "# Model Evaluation\n",
    "   * All models performed better than the baseline\n",
    "   * Models were evaluated on accuracy\n",
    "   * Tested hyperparameters for each model to get the best accuracy with lowest variance between train and validate\n",
    "\n"
   ],
   "metadata": {
    "collapsed": false
   }
  },
  {
   "cell_type": "markdown",
   "source": [
    "# Logistic Regression Model on Test"
   ],
   "metadata": {
    "collapsed": false
   }
  },
  {
   "cell_type": "code",
   "execution_count": 11,
   "outputs": [
    {
     "name": "stdout",
     "output_type": "stream",
     "text": [
      "------------------------------------\n",
      "Model: LogisticRegression(penalty='l1', random_state=123, solver='liblinear')\n",
      "Accuracy of Decision Tree classifier on test set: 0.818\n",
      "[[932 103]\n",
      " [154 220]]\n",
      "              precision    recall  f1-score   support\n",
      "\n",
      "           0       0.86      0.90      0.88      1035\n",
      "           1       0.68      0.59      0.63       374\n",
      "\n",
      "    accuracy                           0.82      1409\n",
      "   macro avg       0.77      0.74      0.76      1409\n",
      "weighted avg       0.81      0.82      0.81      1409\n",
      "\n"
     ]
    }
   ],
   "source": [
    "m.test_model_test2(x_train, y_train, x_test, y_test)"
   ],
   "metadata": {
    "collapsed": false,
    "ExecuteTime": {
     "start_time": "2023-04-26T13:14:08.712085Z",
     "end_time": "2023-04-26T13:14:08.817359Z"
    }
   }
  },
  {
   "cell_type": "markdown",
   "source": [
    "# Modeling Summery\n",
    "   * Logistic Regression performed the best with an accuracy of 81.8%\n",
    "   * Random Forest performed the worst with an accuracy of 77.5%\n",
    "   * KNN performed in the middle with an accuracy of 79.5%\n",
    "   * All models performed better than the baseline\n",
    "   * Models were evaluated on accuracy\n",
    "   * Tested hyperparameters for each model to get the best accuracy with lowest variance between train and validate\n"
   ],
   "metadata": {
    "collapsed": false
   }
  },
  {
   "cell_type": "markdown",
   "source": [
    "# Conclusion\n",
    "## Key Findings\n",
    "   * Fiber optic customers are more likely to churn than DSL customers\n",
    "   * Customers with monthly charges above the average are more likely to churn than those with monthly charges below the average\n",
    "   * Customers with month-to-month contracts are more likely to churn than those with one or two year contracts\n",
    "   * Customers without dependents are more likely to churn than those with dependents\n",
    "## Recommendations\n",
    "   * Offer incentives to customers with fiber optic to switch to DSL\n",
    "   * Offer incentives to customers with monthly charges above the average to switch to a lower monthly charge\n",
    "   * Offer incentives to customers with month-to-month contracts to switch to a one or two year contract\n",
    "   * Offer incentives to customers without dependents to add dependents to their account\n"
   ],
   "metadata": {
    "collapsed": false
   }
  },
  {
   "cell_type": "markdown",
   "source": [],
   "metadata": {
    "collapsed": false
   }
  }
 ],
 "metadata": {
  "kernelspec": {
   "display_name": "Python 3",
   "language": "python",
   "name": "python3"
  },
  "language_info": {
   "codemirror_mode": {
    "name": "ipython",
    "version": 2
   },
   "file_extension": ".py",
   "mimetype": "text/x-python",
   "name": "python",
   "nbconvert_exporter": "python",
   "pygments_lexer": "ipython2",
   "version": "2.7.6"
  }
 },
 "nbformat": 4,
 "nbformat_minor": 0
}
