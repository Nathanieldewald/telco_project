{
 "cells": [
  {
   "cell_type": "markdown",
   "source": [
    "# Exploring Telco Data"
   ],
   "metadata": {
    "collapsed": false
   }
  },
  {
   "cell_type": "markdown",
   "source": [
    "# Importing libraries"
   ],
   "metadata": {
    "collapsed": false
   }
  },
  {
   "cell_type": "code",
   "execution_count": 1,
   "outputs": [],
   "source": [
    "import pandas as pd\n",
    "import numpy as np\n",
    "import matplotlib.pyplot as plt\n",
    "import seaborn as sns\n",
    "import os\n",
    "import warnings\n",
    "warnings.filterwarnings('ignore')\n",
    "import wrangle as w\n"
   ],
   "metadata": {
    "collapsed": false,
    "ExecuteTime": {
     "start_time": "2023-04-25T16:19:21.545882Z",
     "end_time": "2023-04-25T16:19:21.627799Z"
    }
   }
  },
  {
   "cell_type": "code",
   "execution_count": 2,
   "outputs": [],
   "source": [
    "# get telco data\n",
    "df = w.get_telco()\n",
    "df =  w.wrangle_telco_encoded(df)"
   ],
   "metadata": {
    "collapsed": false,
    "ExecuteTime": {
     "start_time": "2023-04-25T16:19:21.628464Z",
     "end_time": "2023-04-25T16:19:21.659960Z"
    }
   }
  },
  {
   "cell_type": "code",
   "execution_count": 11,
   "outputs": [
    {
     "data": {
      "text/plain": "      senior_citizen  partner  dependents  tenure  phone_service  \\\n5911               0        0           1      26              0   \n2479               0        1           0      47              1   \n5889               0        0           0       1              1   \n6087               0        0           0      69              0   \n785                0        0           0      51              1   \n...              ...      ...         ...     ...            ...   \n6102               0        1           0       2              1   \n356                1        0           0      52              0   \n1756               0        0           0       4              1   \n2127               0        0           0      35              1   \n3586               0        0           0      10              1   \n\n      paperless_billing  monthly_charges  total_charges  churn  gender_Male  \\\n5911                  1            39.95        1023.75      0            1   \n2479                  0            26.90        1250.85      0            0   \n5889                  1            50.45          50.45      1            0   \n6087                  1            60.05        4176.70      0            1   \n785                   0            87.55        4475.90      0            0   \n...                 ...              ...            ...    ...          ...   \n6102                  0            79.70         165.00      1            0   \n356                   1            50.50        2566.30      0            0   \n1756                  1            70.20         237.95      1            1   \n2127                  0            55.25        1924.10      0            1   \n3586                  0            64.90         685.55      0            0   \n\n      ...  streaming_tv_Yes  streaming_movies_No internet service  \\\n5911  ...                 1                                     0   \n2479  ...                 0                                     1   \n5889  ...                 0                                     0   \n6087  ...                 1                                     0   \n785   ...                 1                                     0   \n...   ...               ...                                   ...   \n6102  ...                 0                                     0   \n356   ...                 1                                     0   \n1756  ...                 0                                     0   \n2127  ...                 0                                     0   \n3586  ...                 0                                     0   \n\n      streaming_movies_Yes  contract_type_One year  contract_type_Two year  \\\n5911                     0                       1                       0   \n2479                     0                       1                       0   \n5889                     0                       0                       0   \n6087                     1                       0                       1   \n785                      1                       1                       0   \n...                    ...                     ...                     ...   \n6102                     0                       0                       0   \n356                      0                       0                       0   \n1756                     0                       0                       0   \n2127                     0                       0                       1   \n3586                     1                       1                       0   \n\n      internet_service_type_Fiber optic  internet_service_type_None  \\\n5911                                  0                           0   \n2479                                  0                           1   \n5889                                  0                           0   \n6087                                  0                           0   \n785                                   1                           0   \n...                                 ...                         ...   \n6102                                  1                           0   \n356                                   0                           0   \n1756                                  1                           0   \n2127                                  0                           0   \n3586                                  0                           0   \n\n      payment_type_Credit card (automatic)  payment_type_Electronic check  \\\n5911                                     0                              0   \n2479                                     0                              1   \n5889                                     0                              0   \n6087                                     0                              0   \n785                                      1                              0   \n...                                    ...                            ...   \n6102                                     0                              0   \n356                                      0                              1   \n1756                                     0                              1   \n2127                                     0                              0   \n3586                                     0                              0   \n\n      payment_type_Mailed check  \n5911                          0  \n2479                          0  \n5889                          1  \n6087                          0  \n785                           0  \n...                         ...  \n6102                          0  \n356                           0  \n1756                          0  \n2127                          1  \n3586                          1  \n\n[4225 rows x 31 columns]",
      "text/html": "<div>\n<style scoped>\n    .dataframe tbody tr th:only-of-type {\n        vertical-align: middle;\n    }\n\n    .dataframe tbody tr th {\n        vertical-align: top;\n    }\n\n    .dataframe thead th {\n        text-align: right;\n    }\n</style>\n<table border=\"1\" class=\"dataframe\">\n  <thead>\n    <tr style=\"text-align: right;\">\n      <th></th>\n      <th>senior_citizen</th>\n      <th>partner</th>\n      <th>dependents</th>\n      <th>tenure</th>\n      <th>phone_service</th>\n      <th>paperless_billing</th>\n      <th>monthly_charges</th>\n      <th>total_charges</th>\n      <th>churn</th>\n      <th>gender_Male</th>\n      <th>...</th>\n      <th>streaming_tv_Yes</th>\n      <th>streaming_movies_No internet service</th>\n      <th>streaming_movies_Yes</th>\n      <th>contract_type_One year</th>\n      <th>contract_type_Two year</th>\n      <th>internet_service_type_Fiber optic</th>\n      <th>internet_service_type_None</th>\n      <th>payment_type_Credit card (automatic)</th>\n      <th>payment_type_Electronic check</th>\n      <th>payment_type_Mailed check</th>\n    </tr>\n  </thead>\n  <tbody>\n    <tr>\n      <th>5911</th>\n      <td>0</td>\n      <td>0</td>\n      <td>1</td>\n      <td>26</td>\n      <td>0</td>\n      <td>1</td>\n      <td>39.95</td>\n      <td>1023.75</td>\n      <td>0</td>\n      <td>1</td>\n      <td>...</td>\n      <td>1</td>\n      <td>0</td>\n      <td>0</td>\n      <td>1</td>\n      <td>0</td>\n      <td>0</td>\n      <td>0</td>\n      <td>0</td>\n      <td>0</td>\n      <td>0</td>\n    </tr>\n    <tr>\n      <th>2479</th>\n      <td>0</td>\n      <td>1</td>\n      <td>0</td>\n      <td>47</td>\n      <td>1</td>\n      <td>0</td>\n      <td>26.90</td>\n      <td>1250.85</td>\n      <td>0</td>\n      <td>0</td>\n      <td>...</td>\n      <td>0</td>\n      <td>1</td>\n      <td>0</td>\n      <td>1</td>\n      <td>0</td>\n      <td>0</td>\n      <td>1</td>\n      <td>0</td>\n      <td>1</td>\n      <td>0</td>\n    </tr>\n    <tr>\n      <th>5889</th>\n      <td>0</td>\n      <td>0</td>\n      <td>0</td>\n      <td>1</td>\n      <td>1</td>\n      <td>1</td>\n      <td>50.45</td>\n      <td>50.45</td>\n      <td>1</td>\n      <td>0</td>\n      <td>...</td>\n      <td>0</td>\n      <td>0</td>\n      <td>0</td>\n      <td>0</td>\n      <td>0</td>\n      <td>0</td>\n      <td>0</td>\n      <td>0</td>\n      <td>0</td>\n      <td>1</td>\n    </tr>\n    <tr>\n      <th>6087</th>\n      <td>0</td>\n      <td>0</td>\n      <td>0</td>\n      <td>69</td>\n      <td>0</td>\n      <td>1</td>\n      <td>60.05</td>\n      <td>4176.70</td>\n      <td>0</td>\n      <td>1</td>\n      <td>...</td>\n      <td>1</td>\n      <td>0</td>\n      <td>1</td>\n      <td>0</td>\n      <td>1</td>\n      <td>0</td>\n      <td>0</td>\n      <td>0</td>\n      <td>0</td>\n      <td>0</td>\n    </tr>\n    <tr>\n      <th>785</th>\n      <td>0</td>\n      <td>0</td>\n      <td>0</td>\n      <td>51</td>\n      <td>1</td>\n      <td>0</td>\n      <td>87.55</td>\n      <td>4475.90</td>\n      <td>0</td>\n      <td>0</td>\n      <td>...</td>\n      <td>1</td>\n      <td>0</td>\n      <td>1</td>\n      <td>1</td>\n      <td>0</td>\n      <td>1</td>\n      <td>0</td>\n      <td>1</td>\n      <td>0</td>\n      <td>0</td>\n    </tr>\n    <tr>\n      <th>...</th>\n      <td>...</td>\n      <td>...</td>\n      <td>...</td>\n      <td>...</td>\n      <td>...</td>\n      <td>...</td>\n      <td>...</td>\n      <td>...</td>\n      <td>...</td>\n      <td>...</td>\n      <td>...</td>\n      <td>...</td>\n      <td>...</td>\n      <td>...</td>\n      <td>...</td>\n      <td>...</td>\n      <td>...</td>\n      <td>...</td>\n      <td>...</td>\n      <td>...</td>\n      <td>...</td>\n    </tr>\n    <tr>\n      <th>6102</th>\n      <td>0</td>\n      <td>1</td>\n      <td>0</td>\n      <td>2</td>\n      <td>1</td>\n      <td>0</td>\n      <td>79.70</td>\n      <td>165.00</td>\n      <td>1</td>\n      <td>0</td>\n      <td>...</td>\n      <td>0</td>\n      <td>0</td>\n      <td>0</td>\n      <td>0</td>\n      <td>0</td>\n      <td>1</td>\n      <td>0</td>\n      <td>0</td>\n      <td>0</td>\n      <td>0</td>\n    </tr>\n    <tr>\n      <th>356</th>\n      <td>1</td>\n      <td>0</td>\n      <td>0</td>\n      <td>52</td>\n      <td>0</td>\n      <td>1</td>\n      <td>50.50</td>\n      <td>2566.30</td>\n      <td>0</td>\n      <td>0</td>\n      <td>...</td>\n      <td>1</td>\n      <td>0</td>\n      <td>0</td>\n      <td>0</td>\n      <td>0</td>\n      <td>0</td>\n      <td>0</td>\n      <td>0</td>\n      <td>1</td>\n      <td>0</td>\n    </tr>\n    <tr>\n      <th>1756</th>\n      <td>0</td>\n      <td>0</td>\n      <td>0</td>\n      <td>4</td>\n      <td>1</td>\n      <td>1</td>\n      <td>70.20</td>\n      <td>237.95</td>\n      <td>1</td>\n      <td>1</td>\n      <td>...</td>\n      <td>0</td>\n      <td>0</td>\n      <td>0</td>\n      <td>0</td>\n      <td>0</td>\n      <td>1</td>\n      <td>0</td>\n      <td>0</td>\n      <td>1</td>\n      <td>0</td>\n    </tr>\n    <tr>\n      <th>2127</th>\n      <td>0</td>\n      <td>0</td>\n      <td>0</td>\n      <td>35</td>\n      <td>1</td>\n      <td>0</td>\n      <td>55.25</td>\n      <td>1924.10</td>\n      <td>0</td>\n      <td>1</td>\n      <td>...</td>\n      <td>0</td>\n      <td>0</td>\n      <td>0</td>\n      <td>0</td>\n      <td>1</td>\n      <td>0</td>\n      <td>0</td>\n      <td>0</td>\n      <td>0</td>\n      <td>1</td>\n    </tr>\n    <tr>\n      <th>3586</th>\n      <td>0</td>\n      <td>0</td>\n      <td>0</td>\n      <td>10</td>\n      <td>1</td>\n      <td>0</td>\n      <td>64.90</td>\n      <td>685.55</td>\n      <td>0</td>\n      <td>0</td>\n      <td>...</td>\n      <td>0</td>\n      <td>0</td>\n      <td>1</td>\n      <td>1</td>\n      <td>0</td>\n      <td>0</td>\n      <td>0</td>\n      <td>0</td>\n      <td>0</td>\n      <td>1</td>\n    </tr>\n  </tbody>\n</table>\n<p>4225 rows × 31 columns</p>\n</div>"
     },
     "execution_count": 11,
     "metadata": {},
     "output_type": "execute_result"
    }
   ],
   "source": [
    "# split the data\n",
    "train, validate, test = w.train_validate_test(df, 'churn')\n",
    "train"
   ],
   "metadata": {
    "collapsed": false,
    "ExecuteTime": {
     "start_time": "2023-04-25T16:20:51.058155Z",
     "end_time": "2023-04-25T16:20:51.073753Z"
    }
   }
  },
  {
   "cell_type": "markdown",
   "source": [
    "# Is fiber optic a driver of churn?\n",
    "$H_0$: Customers with fiber optic do not have a higher churn rate than those with DSL.\n",
    "$H_a$: Customers with fiber optic have a higher churn rate than those with DSL."
   ],
   "metadata": {
    "collapsed": false
   }
  },
  {
   "cell_type": "code",
   "execution_count": 10,
   "outputs": [
    {
     "ename": "KeyError",
     "evalue": "'internet_service_type_DSL'",
     "output_type": "error",
     "traceback": [
      "\u001B[0;31m---------------------------------------------------------------------------\u001B[0m",
      "\u001B[0;31mKeyError\u001B[0m                                  Traceback (most recent call last)",
      "File \u001B[0;32m~/anaconda3/lib/python3.10/site-packages/pandas/core/indexes/base.py:3802\u001B[0m, in \u001B[0;36mIndex.get_loc\u001B[0;34m(self, key, method, tolerance)\u001B[0m\n\u001B[1;32m   3801\u001B[0m \u001B[38;5;28;01mtry\u001B[39;00m:\n\u001B[0;32m-> 3802\u001B[0m     \u001B[38;5;28;01mreturn\u001B[39;00m \u001B[38;5;28;43mself\u001B[39;49m\u001B[38;5;241;43m.\u001B[39;49m\u001B[43m_engine\u001B[49m\u001B[38;5;241;43m.\u001B[39;49m\u001B[43mget_loc\u001B[49m\u001B[43m(\u001B[49m\u001B[43mcasted_key\u001B[49m\u001B[43m)\u001B[49m\n\u001B[1;32m   3803\u001B[0m \u001B[38;5;28;01mexcept\u001B[39;00m \u001B[38;5;167;01mKeyError\u001B[39;00m \u001B[38;5;28;01mas\u001B[39;00m err:\n",
      "File \u001B[0;32m~/anaconda3/lib/python3.10/site-packages/pandas/_libs/index.pyx:138\u001B[0m, in \u001B[0;36mpandas._libs.index.IndexEngine.get_loc\u001B[0;34m()\u001B[0m\n",
      "File \u001B[0;32m~/anaconda3/lib/python3.10/site-packages/pandas/_libs/index.pyx:165\u001B[0m, in \u001B[0;36mpandas._libs.index.IndexEngine.get_loc\u001B[0;34m()\u001B[0m\n",
      "File \u001B[0;32mpandas/_libs/hashtable_class_helper.pxi:5745\u001B[0m, in \u001B[0;36mpandas._libs.hashtable.PyObjectHashTable.get_item\u001B[0;34m()\u001B[0m\n",
      "File \u001B[0;32mpandas/_libs/hashtable_class_helper.pxi:5753\u001B[0m, in \u001B[0;36mpandas._libs.hashtable.PyObjectHashTable.get_item\u001B[0;34m()\u001B[0m\n",
      "\u001B[0;31mKeyError\u001B[0m: 'internet_service_type_DSL'",
      "\nThe above exception was the direct cause of the following exception:\n",
      "\u001B[0;31mKeyError\u001B[0m                                  Traceback (most recent call last)",
      "Cell \u001B[0;32mIn[10], line 2\u001B[0m\n\u001B[1;32m      1\u001B[0m \u001B[38;5;66;03m# plot the churn rate for each internet service type\u001B[39;00m\n\u001B[0;32m----> 2\u001B[0m fiber_vs_dsl \u001B[38;5;241m=\u001B[39m pd\u001B[38;5;241m.\u001B[39mconcat(df[\u001B[38;5;124m'\u001B[39m\u001B[38;5;124minternet_service_type_Fiber optic\u001B[39m\u001B[38;5;124m'\u001B[39m], \u001B[43mdf\u001B[49m\u001B[43m[\u001B[49m\u001B[38;5;124;43m'\u001B[39;49m\u001B[38;5;124;43minternet_service_type_DSL\u001B[39;49m\u001B[38;5;124;43m'\u001B[39;49m\u001B[43m]\u001B[49m)\n",
      "File \u001B[0;32m~/anaconda3/lib/python3.10/site-packages/pandas/core/frame.py:3807\u001B[0m, in \u001B[0;36mDataFrame.__getitem__\u001B[0;34m(self, key)\u001B[0m\n\u001B[1;32m   3805\u001B[0m \u001B[38;5;28;01mif\u001B[39;00m \u001B[38;5;28mself\u001B[39m\u001B[38;5;241m.\u001B[39mcolumns\u001B[38;5;241m.\u001B[39mnlevels \u001B[38;5;241m>\u001B[39m \u001B[38;5;241m1\u001B[39m:\n\u001B[1;32m   3806\u001B[0m     \u001B[38;5;28;01mreturn\u001B[39;00m \u001B[38;5;28mself\u001B[39m\u001B[38;5;241m.\u001B[39m_getitem_multilevel(key)\n\u001B[0;32m-> 3807\u001B[0m indexer \u001B[38;5;241m=\u001B[39m \u001B[38;5;28;43mself\u001B[39;49m\u001B[38;5;241;43m.\u001B[39;49m\u001B[43mcolumns\u001B[49m\u001B[38;5;241;43m.\u001B[39;49m\u001B[43mget_loc\u001B[49m\u001B[43m(\u001B[49m\u001B[43mkey\u001B[49m\u001B[43m)\u001B[49m\n\u001B[1;32m   3808\u001B[0m \u001B[38;5;28;01mif\u001B[39;00m is_integer(indexer):\n\u001B[1;32m   3809\u001B[0m     indexer \u001B[38;5;241m=\u001B[39m [indexer]\n",
      "File \u001B[0;32m~/anaconda3/lib/python3.10/site-packages/pandas/core/indexes/base.py:3804\u001B[0m, in \u001B[0;36mIndex.get_loc\u001B[0;34m(self, key, method, tolerance)\u001B[0m\n\u001B[1;32m   3802\u001B[0m     \u001B[38;5;28;01mreturn\u001B[39;00m \u001B[38;5;28mself\u001B[39m\u001B[38;5;241m.\u001B[39m_engine\u001B[38;5;241m.\u001B[39mget_loc(casted_key)\n\u001B[1;32m   3803\u001B[0m \u001B[38;5;28;01mexcept\u001B[39;00m \u001B[38;5;167;01mKeyError\u001B[39;00m \u001B[38;5;28;01mas\u001B[39;00m err:\n\u001B[0;32m-> 3804\u001B[0m     \u001B[38;5;28;01mraise\u001B[39;00m \u001B[38;5;167;01mKeyError\u001B[39;00m(key) \u001B[38;5;28;01mfrom\u001B[39;00m \u001B[38;5;21;01merr\u001B[39;00m\n\u001B[1;32m   3805\u001B[0m \u001B[38;5;28;01mexcept\u001B[39;00m \u001B[38;5;167;01mTypeError\u001B[39;00m:\n\u001B[1;32m   3806\u001B[0m     \u001B[38;5;66;03m# If we have a listlike key, _check_indexing_error will raise\u001B[39;00m\n\u001B[1;32m   3807\u001B[0m     \u001B[38;5;66;03m#  InvalidIndexError. Otherwise we fall through and re-raise\u001B[39;00m\n\u001B[1;32m   3808\u001B[0m     \u001B[38;5;66;03m#  the TypeError.\u001B[39;00m\n\u001B[1;32m   3809\u001B[0m     \u001B[38;5;28mself\u001B[39m\u001B[38;5;241m.\u001B[39m_check_indexing_error(key)\n",
      "\u001B[0;31mKeyError\u001B[0m: 'internet_service_type_DSL'"
     ]
    }
   ],
   "source": [
    "\n"
   ],
   "metadata": {
    "collapsed": false,
    "ExecuteTime": {
     "start_time": "2023-04-25T16:20:09.357448Z",
     "end_time": "2023-04-25T16:20:09.366076Z"
    }
   }
  },
  {
   "cell_type": "code",
   "execution_count": 9,
   "outputs": [
    {
     "data": {
      "text/plain": "0       0\n1       0\n2       1\n3       1\n4       1\n       ..\n7038    0\n7039    1\n7040    0\n7041    0\n7042    0\nName: internet_service_type_Fiber optic, Length: 7043, dtype: uint8"
     },
     "execution_count": 9,
     "metadata": {},
     "output_type": "execute_result"
    }
   ],
   "source": [
    "fiber_vs_dsl"
   ],
   "metadata": {
    "collapsed": false,
    "ExecuteTime": {
     "start_time": "2023-04-25T16:20:09.935682Z",
     "end_time": "2023-04-25T16:20:09.942950Z"
    }
   }
  },
  {
   "cell_type": "code",
   "execution_count": null,
   "outputs": [],
   "source": [
    "#create function for wrangle.py\n",
    "def plot_churn_rate_by_internet_service_type(df):\n",
    "    fiber_vs_dsl = df[df.internet_service_type != 'None']\n",
    "    sns.barplot(x='internet_service_type', y='churn', data=fiber_vs_dsl)\n",
    "    # Label the plot\n",
    "    plt.title('Churn Rate by Internet Service Type')\n",
    "    plt.xlabel('Internet Service Type')\n",
    "    plt.ylabel('Churn Rate')\n",
    "    plt.show()"
   ],
   "metadata": {
    "collapsed": false,
    "ExecuteTime": {
     "start_time": "2023-04-25T15:19:28.318359Z",
     "end_time": "2023-04-25T15:19:28.319897Z"
    }
   }
  },
  {
   "cell_type": "code",
   "execution_count": null,
   "outputs": [],
   "source": [
    "# statistical test\n",
    "# chi2 test to compare the proportions of two groups\n",
    "from scipy import stats\n",
    "observed = pd.crosstab(fiber_vs_dsl.churn, fiber_vs_dsl.internet_service_type)\n",
    "observed"
   ],
   "metadata": {
    "collapsed": false,
    "ExecuteTime": {
     "start_time": "2023-04-25T15:19:28.320926Z",
     "end_time": "2023-04-25T15:19:28.326816Z"
    }
   }
  },
  {
   "cell_type": "code",
   "execution_count": null,
   "outputs": [],
   "source": [
    "chi2, p, degf, expected = stats.chi2_contingency(observed)\n",
    "chi2, p, degf, expected"
   ],
   "metadata": {
    "collapsed": false,
    "ExecuteTime": {
     "start_time": "2023-04-25T15:19:28.327935Z",
     "end_time": "2023-04-25T15:19:28.330309Z"
    }
   }
  },
  {
   "cell_type": "code",
   "execution_count": null,
   "outputs": [],
   "source": [
    "w.eval_results(p)"
   ],
   "metadata": {
    "collapsed": false,
    "ExecuteTime": {
     "start_time": "2023-04-25T15:19:28.331461Z",
     "end_time": "2023-04-25T15:19:28.334001Z"
    }
   }
  },
  {
   "cell_type": "code",
   "execution_count": null,
   "outputs": [],
   "source": [
    "# Create a function for the chi2 test for churn and internet service type\n",
    "def chi2_test_for_churn_and_internet_service_type(df):\n",
    "    observed = pd.crosstab(df.churn, df.internet_service_type)\n",
    "    chi2, p, degf, expected = stats.chi2_contingency(observed)\n",
    "    print('Observed\\n')\n",
    "    print(observed.values)\n",
    "    print('---\\nExpected\\n')\n",
    "    print(expected)\n",
    "    print('---\\n')\n",
    "    print(f'chi^2 = {chi2:.4f}')\n",
    "    print(f'p     = {p:.4f}')\n",
    "    if p < 0.05:\n",
    "        print(\"We reject the null hypothesis\")\n",
    "    else:\n",
    "        print(\"We fail to reject the null hypothesis\")"
   ],
   "metadata": {
    "collapsed": false,
    "ExecuteTime": {
     "start_time": "2023-04-25T15:19:28.367638Z",
     "end_time": "2023-04-25T15:19:28.381332Z"
    }
   }
  },
  {
   "cell_type": "markdown",
   "source": [
    "### Takeaway: Fiber optic customers have a higher churn rate than DSL customers."
   ],
   "metadata": {
    "collapsed": false
   }
  },
  {
   "cell_type": "markdown",
   "source": [
    "# Is there a price threshold for fiber optic where customers are more likely to churn?"
   ],
   "metadata": {
    "collapsed": false
   }
  },
  {
   "cell_type": "markdown",
   "source": [
    "$h_0$: Customers with fiber optic who pay more than the average monthly charge do not have a higher churn rate than those who pay less than the average monthly charge.\n",
    "$h_a$: Customers with fiber optic who pay more than the average monthly charge have a higher churn rate than those who pay less than the average monthly charge."
   ],
   "metadata": {
    "collapsed": false
   }
  },
  {
   "cell_type": "code",
   "execution_count": null,
   "outputs": [],
   "source": [
    "# create a new column that indicates whether or not the customer pays more than the average monthly charge\n",
    "df['above_avg_monthly_charge'] = df.monthly_charges > df.monthly_charges.mean()\n",
    "df.monthly_charges.mean()"
   ],
   "metadata": {
    "collapsed": false,
    "ExecuteTime": {
     "start_time": "2023-04-25T15:19:28.369722Z",
     "end_time": "2023-04-25T15:19:28.383897Z"
    }
   }
  },
  {
   "cell_type": "code",
   "execution_count": null,
   "outputs": [],
   "source": [
    "df.groupby('above_avg_monthly_charge').churn.mean()"
   ],
   "metadata": {
    "collapsed": false,
    "ExecuteTime": {
     "start_time": "2023-04-25T15:19:28.373214Z",
     "end_time": "2023-04-25T15:19:28.389021Z"
    }
   }
  },
  {
   "cell_type": "code",
   "execution_count": null,
   "outputs": [],
   "source": [
    "# plot the churn rate for each internet service type\n",
    "sns.barplot(x='above_avg_monthly_charge', y='churn', data=df)\n",
    "# Label the plot\n",
    "plt.title('Churn Rate by Above Average Monthly Charge')\n",
    "plt.xlabel('Above Average Monthly Charge of $64.76')\n",
    "plt.ylabel('Churn Rate')\n",
    "plt.show()"
   ],
   "metadata": {
    "collapsed": false,
    "ExecuteTime": {
     "start_time": "2023-04-25T15:19:28.376732Z",
     "end_time": "2023-04-25T15:19:28.480409Z"
    }
   }
  },
  {
   "cell_type": "code",
   "execution_count": null,
   "outputs": [],
   "source": [
    "# statistical test\n",
    "# chi2 test to compare the proportions of two groups\n",
    "observed = pd.crosstab(df.churn, df.above_avg_monthly_charge)\n",
    "observed"
   ],
   "metadata": {
    "collapsed": false,
    "ExecuteTime": {
     "start_time": "2023-04-25T15:19:28.480698Z",
     "end_time": "2023-04-25T15:19:28.486338Z"
    }
   }
  },
  {
   "cell_type": "code",
   "execution_count": null,
   "outputs": [],
   "source": [
    "chi2, p, degf, expected = stats.chi2_contingency(observed)\n",
    "chi2, p, degf, expected"
   ],
   "metadata": {
    "collapsed": false,
    "ExecuteTime": {
     "start_time": "2023-04-25T15:20:44.012447Z",
     "end_time": "2023-04-25T15:20:44.014637Z"
    }
   }
  },
  {
   "cell_type": "code",
   "execution_count": null,
   "outputs": [],
   "source": [],
   "metadata": {
    "collapsed": false
   }
  },
  {
   "cell_type": "markdown",
   "source": [
    "### Takeaway: Customers with fiber optic who pay more than the average monthly charge have a higher churn rate than those who pay less than the average monthly charge."
   ],
   "metadata": {
    "collapsed": false
   }
  },
  {
   "cell_type": "code",
   "execution_count": null,
   "outputs": [],
   "source": [
    "# Is there a price threshold for fiber optic where customers are more likely to churn?\n",
    "# when we look at the distribution of monthly charges, we see that there is a spike at 20 and 25 dollars\n"
   ],
   "metadata": {
    "collapsed": false,
    "ExecuteTime": {
     "start_time": "2023-04-25T15:19:28.489488Z",
     "end_time": "2023-04-25T15:19:28.490687Z"
    }
   }
  },
  {
   "cell_type": "code",
   "execution_count": null,
   "outputs": [],
   "source": [],
   "metadata": {
    "collapsed": false,
    "ExecuteTime": {
     "start_time": "2023-04-25T15:19:28.491047Z",
     "end_time": "2023-04-25T15:19:28.496765Z"
    }
   }
  }
 ],
 "metadata": {
  "kernelspec": {
   "display_name": "Python 3",
   "language": "python",
   "name": "python3"
  },
  "language_info": {
   "codemirror_mode": {
    "name": "ipython",
    "version": 2
   },
   "file_extension": ".py",
   "mimetype": "text/x-python",
   "name": "python",
   "nbconvert_exporter": "python",
   "pygments_lexer": "ipython2",
   "version": "2.7.6"
  }
 },
 "nbformat": 4,
 "nbformat_minor": 0
}
