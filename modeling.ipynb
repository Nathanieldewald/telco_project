{
 "cells": [
  {
   "cell_type": "markdown",
   "source": [
    "# Modeling Telco"
   ],
   "metadata": {
    "collapsed": false
   }
  },
  {
   "cell_type": "markdown",
   "source": [
    "# Importing libraries"
   ],
   "metadata": {
    "collapsed": false
   }
  },
  {
   "cell_type": "code",
   "execution_count": 1,
   "metadata": {
    "collapsed": true,
    "ExecuteTime": {
     "start_time": "2023-04-27T12:01:52.777810Z",
     "end_time": "2023-04-27T12:01:53.097583Z"
    }
   },
   "outputs": [],
   "source": [
    "import pandas as pd\n",
    "\n",
    "import warnings\n",
    "warnings.filterwarnings('ignore')\n",
    "import wrangle as w\n",
    "import explore as e\n",
    "import modeling as m\n",
    "import seaborn as sns\n",
    "import matplotlib.pyplot as plt\n",
    "from sklearn.tree import DecisionTreeClassifier\n",
    "from sklearn.linear_model import LogisticRegression\n",
    "from sklearn.ensemble import RandomForestClassifier\n",
    "from sklearn.neighbors import KNeighborsClassifier\n",
    "\n"
   ]
  },
  {
   "cell_type": "code",
   "execution_count": 2,
   "outputs": [],
   "source": [
    "# acquire the data\n",
    "df = w.get_telco()\n",
    "df =  w.wrangle_telco_encoded(df)"
   ],
   "metadata": {
    "collapsed": false,
    "ExecuteTime": {
     "start_time": "2023-04-27T12:01:52.911626Z",
     "end_time": "2023-04-27T12:01:53.117208Z"
    }
   }
  },
  {
   "cell_type": "code",
   "execution_count": 3,
   "outputs": [],
   "source": [
    "# split the data\n",
    "train, validate, test = w.train_validate_test(df, 'churn')\n",
    "\n"
   ],
   "metadata": {
    "collapsed": false,
    "ExecuteTime": {
     "start_time": "2023-04-27T12:01:52.945884Z",
     "end_time": "2023-04-27T12:01:53.122428Z"
    }
   }
  },
  {
   "cell_type": "code",
   "execution_count": 4,
   "outputs": [
    {
     "data": {
      "text/plain": "                                       senior_citizen   partner  dependents  \\\nsenior_citizen                               1.000000  0.028089    0.206994   \npartner                                      0.028089  1.000000    0.447724   \ndependents                                   0.206994  0.447724    1.000000   \ntenure                                       0.022277  0.382534    0.160388   \nphone_service                                0.005805  0.019544    0.011252   \npaperless_billing                            0.154137  0.009351    0.109193   \nmonthly_charges                              0.216038  0.107835    0.110436   \ntotal_charges                                0.102329  0.324742    0.065695   \nchurn                                        0.139013  0.159401    0.163208   \ninternet_service_type_fiber_optic            0.244305  0.001712    0.161549   \ninternet_service_type_dsl                    0.096490  0.007095    0.046338   \ninternet_service_type_none                   0.182607  0.010204    0.140810   \ngender_Male                                  0.005258  0.016888    0.003265   \nmultiple_lines_No phone service              0.005805  0.019544    0.011252   \nmultiple_lines_Yes                           0.147355  0.139963    0.023283   \nonline_security_No internet service          0.182607  0.010204    0.140810   \nonline_security_Yes                          0.028915  0.144959    0.084364   \nonline_backup_No internet service            0.182607  0.010204    0.140810   \nonline_backup_Yes                            0.069456  0.143421    0.018326   \ndevice_protection_No internet service        0.182607  0.010204    0.140810   \ndevice_protection_Yes                        0.061810  0.155282    0.016996   \ntech_support_No internet service             0.182607  0.010204    0.140810   \ntech_support_Yes                             0.056667  0.130027    0.079742   \nstreaming_tv_No internet service             0.182607  0.010204    0.140810   \nstreaming_tv_Yes                             0.104946  0.151795    0.019449   \nstreaming_movies_No internet service         0.182607  0.010204    0.140810   \nstreaming_movies_Yes                         0.121525  0.125581    0.052278   \ncontract_type_One year                       0.035609  0.093163    0.057855   \ncontract_type_Two year                       0.118246  0.239835    0.210880   \npayment_type_Credit card (automatic)         0.023020  0.090727    0.057920   \npayment_type_Electronic check                0.165358  0.077309    0.137791   \npayment_type_Mailed check                    0.162835  0.105585    0.055398   \n\n                                         tenure  phone_service  \\\nsenior_citizen                         0.022277       0.005805   \npartner                                0.382534       0.019544   \ndependents                             0.160388       0.011252   \ntenure                                 1.000000       0.001655   \nphone_service                          0.001655       1.000000   \npaperless_billing                      0.012465       0.002292   \nmonthly_charges                        0.247130       0.240472   \ntotal_charges                          0.823935       0.107560   \nchurn                                  0.348330       0.011578   \ninternet_service_type_fiber_optic      0.022670       0.283323   \ninternet_service_type_dsl              0.013731       0.443727   \ninternet_service_type_none             0.042997       0.169315   \ngender_Male                            0.012011       0.003431   \nmultiple_lines_No phone service        0.001655       1.000000   \nmultiple_lines_Yes                     0.324179       0.276844   \nonline_security_No internet service    0.042997       0.169315   \nonline_security_Yes                    0.324564       0.101124   \nonline_backup_No internet service      0.042997       0.169315   \nonline_backup_Yes                      0.363379       0.053689   \ndevice_protection_No internet service  0.042997       0.169315   \ndevice_protection_Yes                  0.364952       0.080337   \ntech_support_No internet service       0.042997       0.169315   \ntech_support_Yes                       0.317959       0.095660   \nstreaming_tv_No internet service       0.042997       0.169315   \nstreaming_tv_Yes                       0.291208       0.016472   \nstreaming_movies_No internet service   0.042997       0.169315   \nstreaming_movies_Yes                   0.269309       0.030943   \ncontract_type_One year                 0.202455       0.009751   \ncontract_type_Two year                 0.559881       0.006620   \npayment_type_Credit card (automatic)   0.225785       0.002996   \npayment_type_Electronic check          0.212851       0.004544   \npayment_type_Mailed check              0.242165       0.008524   \n\n                                       paperless_billing  monthly_charges  \\\nsenior_citizen                                  0.154137         0.216038   \npartner                                         0.009351         0.107835   \ndependents                                      0.109193         0.110436   \ntenure                                          0.012465         0.247130   \nphone_service                                   0.002292         0.240472   \npaperless_billing                               1.000000         0.346382   \nmonthly_charges                                 0.346382         1.000000   \ntotal_charges                                   0.158820         0.654277   \nchurn                                           0.188077         0.188467   \ninternet_service_type_fiber_optic               0.317959         0.787106   \ninternet_service_type_dsl                       0.046001         0.154297   \ninternet_service_type_none                      0.329050         0.768142   \ngender_Male                                     0.022342         0.009653   \nmultiple_lines_No phone service                 0.002292         0.240472   \nmultiple_lines_Yes                              0.163573         0.496072   \nonline_security_No internet service             0.329050         0.768142   \nonline_security_Yes                             0.002777         0.305988   \nonline_backup_No internet service               0.329050         0.768142   \nonline_backup_Yes                               0.134079         0.449011   \ndevice_protection_No internet service           0.329050         0.768142   \ndevice_protection_Yes                           0.108372         0.487567   \ntech_support_No internet service                0.329050         0.768142   \ntech_support_Yes                                0.042216         0.332445   \nstreaming_tv_No internet service                0.329050         0.768142   \nstreaming_tv_Yes                                0.213209         0.639230   \nstreaming_movies_No internet service            0.329050         0.768142   \nstreaming_movies_Yes                            0.207658         0.635009   \ncontract_type_One year                          0.044709         0.000447   \ncontract_type_Two year                          0.137293         0.069769   \npayment_type_Credit card (automatic)            0.004374         0.026555   \npayment_type_Electronic check                   0.208999         0.262278   \npayment_type_Mailed check                       0.199886         0.355673   \n\n                                       total_charges     churn  \\\nsenior_citizen                              0.102329  0.139013   \npartner                                     0.324742  0.159401   \ndependents                                  0.065695  0.163208   \ntenure                                      0.823935  0.348330   \nphone_service                               0.107560  0.011578   \npaperless_billing                           0.158820  0.188077   \nmonthly_charges                             0.654277  0.188467   \ntotal_charges                               1.000000  0.192130   \nchurn                                       0.192130  1.000000   \ninternet_service_type_fiber_optic           0.368717  0.303352   \ninternet_service_type_dsl                   0.053854  0.124183   \ninternet_service_type_none                  0.380995  0.221720   \ngender_Male                                 0.005257  0.008381   \nmultiple_lines_No phone service             0.107560  0.011578   \nmultiple_lines_Yes                          0.468521  0.038528   \nonline_security_No internet service         0.380995  0.221720   \nonline_security_Yes                         0.416001  0.162633   \nonline_backup_No internet service           0.380995  0.221720   \nonline_backup_Yes                           0.515075  0.090380   \ndevice_protection_No internet service       0.380995  0.221720   \ndevice_protection_Yes                       0.529872  0.063436   \ntech_support_No internet service            0.380995  0.221720   \ntech_support_Yes                            0.422944  0.153070   \nstreaming_tv_No internet service            0.380995  0.221720   \nstreaming_tv_Yes                            0.530493  0.056389   \nstreaming_movies_No internet service        0.380995  0.221720   \nstreaming_movies_Yes                        0.511135  0.063197   \ncontract_type_One year                      0.168912  0.187877   \ncontract_type_Two year                      0.355656  0.291850   \npayment_type_Credit card (automatic)        0.178475  0.128428   \npayment_type_Electronic check               0.065219  0.301090   \npayment_type_Mailed check                   0.291629  0.080974   \n\n                                       internet_service_type_fiber_optic  ...  \\\nsenior_citizen                                                  0.244305  ...   \npartner                                                         0.001712  ...   \ndependents                                                      0.161549  ...   \ntenure                                                          0.022670  ...   \nphone_service                                                   0.283323  ...   \npaperless_billing                                               0.317959  ...   \nmonthly_charges                                                 0.787106  ...   \ntotal_charges                                                   0.368717  ...   \nchurn                                                           0.303352  ...   \ninternet_service_type_fiber_optic                               1.000000  ...   \ninternet_service_type_dsl                                       0.638507  ...   \ninternet_service_type_none                                      0.467746  ...   \ngender_Male                                                     0.009087  ...   \nmultiple_lines_No phone service                                 0.283323  ...   \nmultiple_lines_Yes                                              0.370781  ...   \nonline_security_No internet service                             0.467746  ...   \nonline_security_Yes                                             0.017748  ...   \nonline_backup_No internet service                               0.467746  ...   \nonline_backup_Yes                                               0.172619  ...   \ndevice_protection_No internet service                           0.467746  ...   \ndevice_protection_Yes                                           0.182748  ...   \ntech_support_No internet service                                0.467746  ...   \ntech_support_Yes                                                0.028354  ...   \nstreaming_tv_No internet service                                0.467746  ...   \nstreaming_tv_Yes                                                0.338463  ...   \nstreaming_movies_No internet service                            0.467746  ...   \nstreaming_movies_Yes                                            0.333920  ...   \ncontract_type_One year                                          0.083265  ...   \ncontract_type_Two year                                          0.205533  ...   \npayment_type_Credit card (automatic)                            0.043340  ...   \npayment_type_Electronic check                                   0.328194  ...   \npayment_type_Mailed check                                       0.292566  ...   \n\n                                       tech_support_Yes  \\\nsenior_citizen                                 0.056667   \npartner                                        0.130027   \ndependents                                     0.079742   \ntenure                                         0.317959   \nphone_service                                  0.095660   \npaperless_billing                              0.042216   \nmonthly_charges                                0.332445   \ntotal_charges                                  0.422944   \nchurn                                          0.153070   \ninternet_service_type_fiber_optic              0.028354   \ninternet_service_type_dsl                      0.323491   \ninternet_service_type_none                     0.337458   \ngender_Male                                    0.013640   \nmultiple_lines_No phone service                0.095660   \nmultiple_lines_Yes                             0.089593   \nonline_security_No internet service            0.337458   \nonline_security_Yes                            0.363290   \nonline_backup_No internet service              0.337458   \nonline_backup_Yes                              0.301849   \ndevice_protection_No internet service          0.337458   \ndevice_protection_Yes                          0.328826   \ntech_support_No internet service               0.337458   \ntech_support_Yes                               1.000000   \nstreaming_tv_No internet service               0.337458   \nstreaming_tv_Yes                               0.274023   \nstreaming_movies_No internet service           0.337458   \nstreaming_movies_Yes                           0.269294   \ncontract_type_One year                         0.089670   \ncontract_type_Two year                         0.252120   \npayment_type_Credit card (automatic)           0.091056   \npayment_type_Electronic check                  0.109225   \npayment_type_Mailed check                      0.068747   \n\n                                       streaming_tv_No internet service  \\\nsenior_citizen                                                 0.182607   \npartner                                                        0.010204   \ndependents                                                     0.140810   \ntenure                                                         0.042997   \nphone_service                                                  0.169315   \npaperless_billing                                              0.329050   \nmonthly_charges                                                0.768142   \ntotal_charges                                                  0.380995   \nchurn                                                          0.221720   \ninternet_service_type_fiber_optic                              0.467746   \ninternet_service_type_dsl                                      0.381575   \ninternet_service_type_none                                     1.000000   \ngender_Male                                                    0.000543   \nmultiple_lines_No phone service                                0.169315   \nmultiple_lines_Yes                                             0.219702   \nonline_security_No internet service                            1.000000   \nonline_security_Yes                                            0.339207   \nonline_backup_No internet service                              1.000000   \nonline_backup_Yes                                              0.388013   \ndevice_protection_No internet service                          1.000000   \ndevice_protection_Yes                                          0.388821   \ntech_support_No internet service                               1.000000   \ntech_support_Yes                                               0.337458   \nstreaming_tv_No internet service                               1.000000   \nstreaming_tv_Yes                                               0.424694   \nstreaming_movies_No internet service                           1.000000   \nstreaming_movies_Yes                                           0.427652   \ncontract_type_One year                                         0.048077   \ncontract_type_Two year                                         0.204697   \npayment_type_Credit card (automatic)                           0.008655   \npayment_type_Electronic check                                  0.277390   \npayment_type_Mailed check                                      0.301112   \n\n                                       streaming_tv_Yes  \\\nsenior_citizen                                 0.104946   \npartner                                        0.151795   \ndependents                                     0.019449   \ntenure                                         0.291208   \nphone_service                                  0.016472   \npaperless_billing                              0.213209   \nmonthly_charges                                0.639230   \ntotal_charges                                  0.530493   \nchurn                                          0.056389   \ninternet_service_type_fiber_optic              0.338463   \ninternet_service_type_dsl                      0.015836   \ninternet_service_type_none                     0.424694   \ngender_Male                                    0.006608   \nmultiple_lines_No phone service                0.016472   \nmultiple_lines_Yes                             0.269767   \nonline_security_No internet service            0.424694   \nonline_security_Yes                            0.195002   \nonline_backup_No internet service              0.424694   \nonline_backup_Yes                              0.295702   \ndevice_protection_No internet service          0.424694   \ndevice_protection_Yes                          0.396511   \ntech_support_No internet service               0.424694   \ntech_support_Yes                               0.274023   \nstreaming_tv_No internet service               0.424694   \nstreaming_tv_Yes                               1.000000   \nstreaming_movies_No internet service           0.424694   \nstreaming_movies_Yes                           0.532061   \ncontract_type_One year                         0.067056   \ncontract_type_Two year                         0.075144   \npayment_type_Credit card (automatic)           0.040631   \npayment_type_Electronic check                  0.144540   \npayment_type_Mailed check                      0.241038   \n\n                                       streaming_movies_No internet service  \\\nsenior_citizen                                                     0.182607   \npartner                                                            0.010204   \ndependents                                                         0.140810   \ntenure                                                             0.042997   \nphone_service                                                      0.169315   \npaperless_billing                                                  0.329050   \nmonthly_charges                                                    0.768142   \ntotal_charges                                                      0.380995   \nchurn                                                              0.221720   \ninternet_service_type_fiber_optic                                  0.467746   \ninternet_service_type_dsl                                          0.381575   \ninternet_service_type_none                                         1.000000   \ngender_Male                                                        0.000543   \nmultiple_lines_No phone service                                    0.169315   \nmultiple_lines_Yes                                                 0.219702   \nonline_security_No internet service                                1.000000   \nonline_security_Yes                                                0.339207   \nonline_backup_No internet service                                  1.000000   \nonline_backup_Yes                                                  0.388013   \ndevice_protection_No internet service                              1.000000   \ndevice_protection_Yes                                              0.388821   \ntech_support_No internet service                                   1.000000   \ntech_support_Yes                                                   0.337458   \nstreaming_tv_No internet service                                   1.000000   \nstreaming_tv_Yes                                                   0.424694   \nstreaming_movies_No internet service                               1.000000   \nstreaming_movies_Yes                                               0.427652   \ncontract_type_One year                                             0.048077   \ncontract_type_Two year                                             0.204697   \npayment_type_Credit card (automatic)                               0.008655   \npayment_type_Electronic check                                      0.277390   \npayment_type_Mailed check                                          0.301112   \n\n                                       streaming_movies_Yes  \\\nsenior_citizen                                     0.121525   \npartner                                            0.125581   \ndependents                                         0.052278   \ntenure                                             0.269309   \nphone_service                                      0.030943   \npaperless_billing                                  0.207658   \nmonthly_charges                                    0.635009   \ntotal_charges                                      0.511135   \nchurn                                              0.063197   \ninternet_service_type_fiber_optic                  0.333920   \ninternet_service_type_dsl                          0.023163   \ninternet_service_type_none                         0.427652   \ngender_Male                                        0.007684   \nmultiple_lines_No phone service                    0.030943   \nmultiple_lines_Yes                                 0.273295   \nonline_security_No internet service                0.427652   \nonline_security_Yes                                0.197822   \nonline_backup_No internet service                  0.427652   \nonline_backup_Yes                                  0.274056   \ndevice_protection_No internet service              0.427652   \ndevice_protection_Yes                              0.410213   \ntech_support_No internet service                   0.427652   \ntech_support_Yes                                   0.269294   \nstreaming_tv_No internet service                   0.427652   \nstreaming_tv_Yes                                   0.532061   \nstreaming_movies_No internet service               0.427652   \nstreaming_movies_Yes                               1.000000   \ncontract_type_One year                             0.069280   \ncontract_type_Two year                             0.062145   \npayment_type_Credit card (automatic)               0.040518   \npayment_type_Electronic check                      0.136425   \npayment_type_Mailed check                          0.240855   \n\n                                       contract_type_One year  \\\nsenior_citizen                                       0.035609   \npartner                                              0.093163   \ndependents                                           0.057855   \ntenure                                               0.202455   \nphone_service                                        0.009751   \npaperless_billing                                    0.044709   \nmonthly_charges                                      0.000447   \ntotal_charges                                        0.168912   \nchurn                                                0.187877   \ninternet_service_type_fiber_optic                    0.083265   \ninternet_service_type_dsl                            0.045215   \ninternet_service_type_none                           0.048077   \ngender_Male                                          0.008757   \nmultiple_lines_No phone service                      0.009751   \nmultiple_lines_Yes                                   0.001763   \nonline_security_No internet service                  0.048077   \nonline_security_Yes                                  0.087015   \nonline_backup_No internet service                    0.048077   \nonline_backup_Yes                                    0.076432   \ndevice_protection_No internet service                0.048077   \ndevice_protection_Yes                                0.100645   \ntech_support_No internet service                     0.048077   \ntech_support_Yes                                     0.089670   \nstreaming_tv_No internet service                     0.048077   \nstreaming_tv_Yes                                     0.067056   \nstreaming_movies_No internet service                 0.048077   \nstreaming_movies_Yes                                 0.069280   \ncontract_type_One year                               1.000000   \ncontract_type_Two year                               0.291407   \npayment_type_Credit card (automatic)                 0.071660   \npayment_type_Electronic check                        0.105254   \npayment_type_Mailed check                            0.018306   \n\n                                       contract_type_Two year  \\\nsenior_citizen                                       0.118246   \npartner                                              0.239835   \ndependents                                           0.210880   \ntenure                                               0.559881   \nphone_service                                        0.006620   \npaperless_billing                                    0.137293   \nmonthly_charges                                      0.069769   \ntotal_charges                                        0.355656   \nchurn                                                0.291850   \ninternet_service_type_fiber_optic                    0.205533   \ninternet_service_type_dsl                            0.036707   \ninternet_service_type_none                           0.204697   \ngender_Male                                          0.028002   \nmultiple_lines_No phone service                      0.006620   \nmultiple_lines_Yes                                   0.094083   \nonline_security_No internet service                  0.204697   \nonline_security_Yes                                  0.197426   \nonline_backup_No internet service                    0.204697   \nonline_backup_Yes                                    0.118922   \ndevice_protection_No internet service                0.204697   \ndevice_protection_Yes                                0.160990   \ntech_support_No internet service                     0.204697   \ntech_support_Yes                                     0.252120   \nstreaming_tv_No internet service                     0.204697   \nstreaming_tv_Yes                                     0.075144   \nstreaming_movies_No internet service                 0.204697   \nstreaming_movies_Yes                                 0.062145   \ncontract_type_One year                               0.291407   \ncontract_type_Two year                               1.000000   \npayment_type_Credit card (automatic)                 0.171137   \npayment_type_Electronic check                        0.282224   \npayment_type_Mailed check                            0.008989   \n\n                                       payment_type_Credit card (automatic)  \\\nsenior_citizen                                                     0.023020   \npartner                                                            0.090727   \ndependents                                                         0.057920   \ntenure                                                             0.225785   \nphone_service                                                      0.002996   \npaperless_billing                                                  0.004374   \nmonthly_charges                                                    0.026555   \ntotal_charges                                                      0.178475   \nchurn                                                              0.128428   \ninternet_service_type_fiber_optic                                  0.043340   \ninternet_service_type_dsl                                          0.037788   \ninternet_service_type_none                                         0.008655   \ngender_Male                                                        0.006381   \nmultiple_lines_No phone service                                    0.002996   \nmultiple_lines_Yes                                                 0.061402   \nonline_security_No internet service                                0.008655   \nonline_security_Yes                                                0.103535   \nonline_backup_No internet service                                  0.008655   \nonline_backup_Yes                                                  0.083347   \ndevice_protection_No internet service                              0.008655   \ndevice_protection_Yes                                              0.105088   \ntech_support_No internet service                                   0.008655   \ntech_support_Yes                                                   0.091056   \nstreaming_tv_No internet service                                   0.008655   \nstreaming_tv_Yes                                                   0.040631   \nstreaming_movies_No internet service                               0.008655   \nstreaming_movies_Yes                                               0.040518   \ncontract_type_One year                                             0.071660   \ncontract_type_Two year                                             0.171137   \npayment_type_Credit card (automatic)                               1.000000   \npayment_type_Electronic check                                      0.375729   \npayment_type_Mailed check                                          0.283963   \n\n                                       payment_type_Electronic check  \\\nsenior_citizen                                              0.165358   \npartner                                                     0.077309   \ndependents                                                  0.137791   \ntenure                                                      0.212851   \nphone_service                                               0.004544   \npaperless_billing                                           0.208999   \nmonthly_charges                                             0.262278   \ntotal_charges                                               0.065219   \nchurn                                                       0.301090   \ninternet_service_type_fiber_optic                           0.328194   \ninternet_service_type_dsl                                   0.101688   \ninternet_service_type_none                                  0.277390   \ngender_Male                                                 0.009223   \nmultiple_lines_No phone service                             0.004544   \nmultiple_lines_Yes                                          0.077329   \nonline_security_No internet service                         0.277390   \nonline_security_Yes                                         0.116736   \nonline_backup_No internet service                           0.277390   \nonline_backup_Yes                                           0.006440   \ndevice_protection_No internet service                       0.277390   \ndevice_protection_Yes                                       0.001593   \ntech_support_No internet service                            0.277390   \ntech_support_Yes                                            0.109225   \nstreaming_tv_No internet service                            0.277390   \nstreaming_tv_Yes                                            0.144540   \nstreaming_movies_No internet service                        0.277390   \nstreaming_movies_Yes                                        0.136425   \ncontract_type_One year                                      0.105254   \ncontract_type_Two year                                      0.282224   \npayment_type_Credit card (automatic)                        0.375729   \npayment_type_Electronic check                               1.000000   \npayment_type_Mailed check                                   0.383817   \n\n                                       payment_type_Mailed check  \nsenior_citizen                                          0.162835  \npartner                                                 0.105585  \ndependents                                              0.055398  \ntenure                                                  0.242165  \nphone_service                                           0.008524  \npaperless_billing                                       0.199886  \nmonthly_charges                                         0.355673  \ntotal_charges                                           0.291629  \nchurn                                                   0.080974  \ninternet_service_type_fiber_optic                       0.292566  \ninternet_service_type_dsl                               0.043773  \ninternet_service_type_none                              0.301112  \ngender_Male                                             0.021312  \nmultiple_lines_No phone service                         0.008524  \nmultiple_lines_Yes                                      0.231827  \nonline_security_No internet service                     0.301112  \nonline_security_Yes                                     0.071123  \nonline_backup_No internet service                       0.301112  \nonline_backup_Yes                                       0.152798  \ndevice_protection_No internet service                   0.301112  \ndevice_protection_Yes                                   0.192970  \ntech_support_No internet service                        0.301112  \ntech_support_Yes                                        0.068747  \nstreaming_tv_No internet service                        0.301112  \nstreaming_tv_Yes                                        0.241038  \nstreaming_movies_No internet service                    0.301112  \nstreaming_movies_Yes                                    0.240855  \ncontract_type_One year                                  0.018306  \ncontract_type_Two year                                  0.008989  \npayment_type_Credit card (automatic)                    0.283963  \npayment_type_Electronic check                           0.383817  \npayment_type_Mailed check                               1.000000  \n\n[32 rows x 32 columns]",
      "text/html": "<div>\n<style scoped>\n    .dataframe tbody tr th:only-of-type {\n        vertical-align: middle;\n    }\n\n    .dataframe tbody tr th {\n        vertical-align: top;\n    }\n\n    .dataframe thead th {\n        text-align: right;\n    }\n</style>\n<table border=\"1\" class=\"dataframe\">\n  <thead>\n    <tr style=\"text-align: right;\">\n      <th></th>\n      <th>senior_citizen</th>\n      <th>partner</th>\n      <th>dependents</th>\n      <th>tenure</th>\n      <th>phone_service</th>\n      <th>paperless_billing</th>\n      <th>monthly_charges</th>\n      <th>total_charges</th>\n      <th>churn</th>\n      <th>internet_service_type_fiber_optic</th>\n      <th>...</th>\n      <th>tech_support_Yes</th>\n      <th>streaming_tv_No internet service</th>\n      <th>streaming_tv_Yes</th>\n      <th>streaming_movies_No internet service</th>\n      <th>streaming_movies_Yes</th>\n      <th>contract_type_One year</th>\n      <th>contract_type_Two year</th>\n      <th>payment_type_Credit card (automatic)</th>\n      <th>payment_type_Electronic check</th>\n      <th>payment_type_Mailed check</th>\n    </tr>\n  </thead>\n  <tbody>\n    <tr>\n      <th>senior_citizen</th>\n      <td>1.000000</td>\n      <td>0.028089</td>\n      <td>0.206994</td>\n      <td>0.022277</td>\n      <td>0.005805</td>\n      <td>0.154137</td>\n      <td>0.216038</td>\n      <td>0.102329</td>\n      <td>0.139013</td>\n      <td>0.244305</td>\n      <td>...</td>\n      <td>0.056667</td>\n      <td>0.182607</td>\n      <td>0.104946</td>\n      <td>0.182607</td>\n      <td>0.121525</td>\n      <td>0.035609</td>\n      <td>0.118246</td>\n      <td>0.023020</td>\n      <td>0.165358</td>\n      <td>0.162835</td>\n    </tr>\n    <tr>\n      <th>partner</th>\n      <td>0.028089</td>\n      <td>1.000000</td>\n      <td>0.447724</td>\n      <td>0.382534</td>\n      <td>0.019544</td>\n      <td>0.009351</td>\n      <td>0.107835</td>\n      <td>0.324742</td>\n      <td>0.159401</td>\n      <td>0.001712</td>\n      <td>...</td>\n      <td>0.130027</td>\n      <td>0.010204</td>\n      <td>0.151795</td>\n      <td>0.010204</td>\n      <td>0.125581</td>\n      <td>0.093163</td>\n      <td>0.239835</td>\n      <td>0.090727</td>\n      <td>0.077309</td>\n      <td>0.105585</td>\n    </tr>\n    <tr>\n      <th>dependents</th>\n      <td>0.206994</td>\n      <td>0.447724</td>\n      <td>1.000000</td>\n      <td>0.160388</td>\n      <td>0.011252</td>\n      <td>0.109193</td>\n      <td>0.110436</td>\n      <td>0.065695</td>\n      <td>0.163208</td>\n      <td>0.161549</td>\n      <td>...</td>\n      <td>0.079742</td>\n      <td>0.140810</td>\n      <td>0.019449</td>\n      <td>0.140810</td>\n      <td>0.052278</td>\n      <td>0.057855</td>\n      <td>0.210880</td>\n      <td>0.057920</td>\n      <td>0.137791</td>\n      <td>0.055398</td>\n    </tr>\n    <tr>\n      <th>tenure</th>\n      <td>0.022277</td>\n      <td>0.382534</td>\n      <td>0.160388</td>\n      <td>1.000000</td>\n      <td>0.001655</td>\n      <td>0.012465</td>\n      <td>0.247130</td>\n      <td>0.823935</td>\n      <td>0.348330</td>\n      <td>0.022670</td>\n      <td>...</td>\n      <td>0.317959</td>\n      <td>0.042997</td>\n      <td>0.291208</td>\n      <td>0.042997</td>\n      <td>0.269309</td>\n      <td>0.202455</td>\n      <td>0.559881</td>\n      <td>0.225785</td>\n      <td>0.212851</td>\n      <td>0.242165</td>\n    </tr>\n    <tr>\n      <th>phone_service</th>\n      <td>0.005805</td>\n      <td>0.019544</td>\n      <td>0.011252</td>\n      <td>0.001655</td>\n      <td>1.000000</td>\n      <td>0.002292</td>\n      <td>0.240472</td>\n      <td>0.107560</td>\n      <td>0.011578</td>\n      <td>0.283323</td>\n      <td>...</td>\n      <td>0.095660</td>\n      <td>0.169315</td>\n      <td>0.016472</td>\n      <td>0.169315</td>\n      <td>0.030943</td>\n      <td>0.009751</td>\n      <td>0.006620</td>\n      <td>0.002996</td>\n      <td>0.004544</td>\n      <td>0.008524</td>\n    </tr>\n    <tr>\n      <th>paperless_billing</th>\n      <td>0.154137</td>\n      <td>0.009351</td>\n      <td>0.109193</td>\n      <td>0.012465</td>\n      <td>0.002292</td>\n      <td>1.000000</td>\n      <td>0.346382</td>\n      <td>0.158820</td>\n      <td>0.188077</td>\n      <td>0.317959</td>\n      <td>...</td>\n      <td>0.042216</td>\n      <td>0.329050</td>\n      <td>0.213209</td>\n      <td>0.329050</td>\n      <td>0.207658</td>\n      <td>0.044709</td>\n      <td>0.137293</td>\n      <td>0.004374</td>\n      <td>0.208999</td>\n      <td>0.199886</td>\n    </tr>\n    <tr>\n      <th>monthly_charges</th>\n      <td>0.216038</td>\n      <td>0.107835</td>\n      <td>0.110436</td>\n      <td>0.247130</td>\n      <td>0.240472</td>\n      <td>0.346382</td>\n      <td>1.000000</td>\n      <td>0.654277</td>\n      <td>0.188467</td>\n      <td>0.787106</td>\n      <td>...</td>\n      <td>0.332445</td>\n      <td>0.768142</td>\n      <td>0.639230</td>\n      <td>0.768142</td>\n      <td>0.635009</td>\n      <td>0.000447</td>\n      <td>0.069769</td>\n      <td>0.026555</td>\n      <td>0.262278</td>\n      <td>0.355673</td>\n    </tr>\n    <tr>\n      <th>total_charges</th>\n      <td>0.102329</td>\n      <td>0.324742</td>\n      <td>0.065695</td>\n      <td>0.823935</td>\n      <td>0.107560</td>\n      <td>0.158820</td>\n      <td>0.654277</td>\n      <td>1.000000</td>\n      <td>0.192130</td>\n      <td>0.368717</td>\n      <td>...</td>\n      <td>0.422944</td>\n      <td>0.380995</td>\n      <td>0.530493</td>\n      <td>0.380995</td>\n      <td>0.511135</td>\n      <td>0.168912</td>\n      <td>0.355656</td>\n      <td>0.178475</td>\n      <td>0.065219</td>\n      <td>0.291629</td>\n    </tr>\n    <tr>\n      <th>churn</th>\n      <td>0.139013</td>\n      <td>0.159401</td>\n      <td>0.163208</td>\n      <td>0.348330</td>\n      <td>0.011578</td>\n      <td>0.188077</td>\n      <td>0.188467</td>\n      <td>0.192130</td>\n      <td>1.000000</td>\n      <td>0.303352</td>\n      <td>...</td>\n      <td>0.153070</td>\n      <td>0.221720</td>\n      <td>0.056389</td>\n      <td>0.221720</td>\n      <td>0.063197</td>\n      <td>0.187877</td>\n      <td>0.291850</td>\n      <td>0.128428</td>\n      <td>0.301090</td>\n      <td>0.080974</td>\n    </tr>\n    <tr>\n      <th>internet_service_type_fiber_optic</th>\n      <td>0.244305</td>\n      <td>0.001712</td>\n      <td>0.161549</td>\n      <td>0.022670</td>\n      <td>0.283323</td>\n      <td>0.317959</td>\n      <td>0.787106</td>\n      <td>0.368717</td>\n      <td>0.303352</td>\n      <td>1.000000</td>\n      <td>...</td>\n      <td>0.028354</td>\n      <td>0.467746</td>\n      <td>0.338463</td>\n      <td>0.467746</td>\n      <td>0.333920</td>\n      <td>0.083265</td>\n      <td>0.205533</td>\n      <td>0.043340</td>\n      <td>0.328194</td>\n      <td>0.292566</td>\n    </tr>\n    <tr>\n      <th>internet_service_type_dsl</th>\n      <td>0.096490</td>\n      <td>0.007095</td>\n      <td>0.046338</td>\n      <td>0.013731</td>\n      <td>0.443727</td>\n      <td>0.046001</td>\n      <td>0.154297</td>\n      <td>0.053854</td>\n      <td>0.124183</td>\n      <td>0.638507</td>\n      <td>...</td>\n      <td>0.323491</td>\n      <td>0.381575</td>\n      <td>0.015836</td>\n      <td>0.381575</td>\n      <td>0.023163</td>\n      <td>0.045215</td>\n      <td>0.036707</td>\n      <td>0.037788</td>\n      <td>0.101688</td>\n      <td>0.043773</td>\n    </tr>\n    <tr>\n      <th>internet_service_type_none</th>\n      <td>0.182607</td>\n      <td>0.010204</td>\n      <td>0.140810</td>\n      <td>0.042997</td>\n      <td>0.169315</td>\n      <td>0.329050</td>\n      <td>0.768142</td>\n      <td>0.380995</td>\n      <td>0.221720</td>\n      <td>0.467746</td>\n      <td>...</td>\n      <td>0.337458</td>\n      <td>1.000000</td>\n      <td>0.424694</td>\n      <td>1.000000</td>\n      <td>0.427652</td>\n      <td>0.048077</td>\n      <td>0.204697</td>\n      <td>0.008655</td>\n      <td>0.277390</td>\n      <td>0.301112</td>\n    </tr>\n    <tr>\n      <th>gender_Male</th>\n      <td>0.005258</td>\n      <td>0.016888</td>\n      <td>0.003265</td>\n      <td>0.012011</td>\n      <td>0.003431</td>\n      <td>0.022342</td>\n      <td>0.009653</td>\n      <td>0.005257</td>\n      <td>0.008381</td>\n      <td>0.009087</td>\n      <td>...</td>\n      <td>0.013640</td>\n      <td>0.000543</td>\n      <td>0.006608</td>\n      <td>0.000543</td>\n      <td>0.007684</td>\n      <td>0.008757</td>\n      <td>0.028002</td>\n      <td>0.006381</td>\n      <td>0.009223</td>\n      <td>0.021312</td>\n    </tr>\n    <tr>\n      <th>multiple_lines_No phone service</th>\n      <td>0.005805</td>\n      <td>0.019544</td>\n      <td>0.011252</td>\n      <td>0.001655</td>\n      <td>1.000000</td>\n      <td>0.002292</td>\n      <td>0.240472</td>\n      <td>0.107560</td>\n      <td>0.011578</td>\n      <td>0.283323</td>\n      <td>...</td>\n      <td>0.095660</td>\n      <td>0.169315</td>\n      <td>0.016472</td>\n      <td>0.169315</td>\n      <td>0.030943</td>\n      <td>0.009751</td>\n      <td>0.006620</td>\n      <td>0.002996</td>\n      <td>0.004544</td>\n      <td>0.008524</td>\n    </tr>\n    <tr>\n      <th>multiple_lines_Yes</th>\n      <td>0.147355</td>\n      <td>0.139963</td>\n      <td>0.023283</td>\n      <td>0.324179</td>\n      <td>0.276844</td>\n      <td>0.163573</td>\n      <td>0.496072</td>\n      <td>0.468521</td>\n      <td>0.038528</td>\n      <td>0.370781</td>\n      <td>...</td>\n      <td>0.089593</td>\n      <td>0.219702</td>\n      <td>0.269767</td>\n      <td>0.219702</td>\n      <td>0.273295</td>\n      <td>0.001763</td>\n      <td>0.094083</td>\n      <td>0.061402</td>\n      <td>0.077329</td>\n      <td>0.231827</td>\n    </tr>\n    <tr>\n      <th>online_security_No internet service</th>\n      <td>0.182607</td>\n      <td>0.010204</td>\n      <td>0.140810</td>\n      <td>0.042997</td>\n      <td>0.169315</td>\n      <td>0.329050</td>\n      <td>0.768142</td>\n      <td>0.380995</td>\n      <td>0.221720</td>\n      <td>0.467746</td>\n      <td>...</td>\n      <td>0.337458</td>\n      <td>1.000000</td>\n      <td>0.424694</td>\n      <td>1.000000</td>\n      <td>0.427652</td>\n      <td>0.048077</td>\n      <td>0.204697</td>\n      <td>0.008655</td>\n      <td>0.277390</td>\n      <td>0.301112</td>\n    </tr>\n    <tr>\n      <th>online_security_Yes</th>\n      <td>0.028915</td>\n      <td>0.144959</td>\n      <td>0.084364</td>\n      <td>0.324564</td>\n      <td>0.101124</td>\n      <td>0.002777</td>\n      <td>0.305988</td>\n      <td>0.416001</td>\n      <td>0.162633</td>\n      <td>0.017748</td>\n      <td>...</td>\n      <td>0.363290</td>\n      <td>0.339207</td>\n      <td>0.195002</td>\n      <td>0.339207</td>\n      <td>0.197822</td>\n      <td>0.087015</td>\n      <td>0.197426</td>\n      <td>0.103535</td>\n      <td>0.116736</td>\n      <td>0.071123</td>\n    </tr>\n    <tr>\n      <th>online_backup_No internet service</th>\n      <td>0.182607</td>\n      <td>0.010204</td>\n      <td>0.140810</td>\n      <td>0.042997</td>\n      <td>0.169315</td>\n      <td>0.329050</td>\n      <td>0.768142</td>\n      <td>0.380995</td>\n      <td>0.221720</td>\n      <td>0.467746</td>\n      <td>...</td>\n      <td>0.337458</td>\n      <td>1.000000</td>\n      <td>0.424694</td>\n      <td>1.000000</td>\n      <td>0.427652</td>\n      <td>0.048077</td>\n      <td>0.204697</td>\n      <td>0.008655</td>\n      <td>0.277390</td>\n      <td>0.301112</td>\n    </tr>\n    <tr>\n      <th>online_backup_Yes</th>\n      <td>0.069456</td>\n      <td>0.143421</td>\n      <td>0.018326</td>\n      <td>0.363379</td>\n      <td>0.053689</td>\n      <td>0.134079</td>\n      <td>0.449011</td>\n      <td>0.515075</td>\n      <td>0.090380</td>\n      <td>0.172619</td>\n      <td>...</td>\n      <td>0.301849</td>\n      <td>0.388013</td>\n      <td>0.295702</td>\n      <td>0.388013</td>\n      <td>0.274056</td>\n      <td>0.076432</td>\n      <td>0.118922</td>\n      <td>0.083347</td>\n      <td>0.006440</td>\n      <td>0.152798</td>\n    </tr>\n    <tr>\n      <th>device_protection_No internet service</th>\n      <td>0.182607</td>\n      <td>0.010204</td>\n      <td>0.140810</td>\n      <td>0.042997</td>\n      <td>0.169315</td>\n      <td>0.329050</td>\n      <td>0.768142</td>\n      <td>0.380995</td>\n      <td>0.221720</td>\n      <td>0.467746</td>\n      <td>...</td>\n      <td>0.337458</td>\n      <td>1.000000</td>\n      <td>0.424694</td>\n      <td>1.000000</td>\n      <td>0.427652</td>\n      <td>0.048077</td>\n      <td>0.204697</td>\n      <td>0.008655</td>\n      <td>0.277390</td>\n      <td>0.301112</td>\n    </tr>\n    <tr>\n      <th>device_protection_Yes</th>\n      <td>0.061810</td>\n      <td>0.155282</td>\n      <td>0.016996</td>\n      <td>0.364952</td>\n      <td>0.080337</td>\n      <td>0.108372</td>\n      <td>0.487567</td>\n      <td>0.529872</td>\n      <td>0.063436</td>\n      <td>0.182748</td>\n      <td>...</td>\n      <td>0.328826</td>\n      <td>0.388821</td>\n      <td>0.396511</td>\n      <td>0.388821</td>\n      <td>0.410213</td>\n      <td>0.100645</td>\n      <td>0.160990</td>\n      <td>0.105088</td>\n      <td>0.001593</td>\n      <td>0.192970</td>\n    </tr>\n    <tr>\n      <th>tech_support_No internet service</th>\n      <td>0.182607</td>\n      <td>0.010204</td>\n      <td>0.140810</td>\n      <td>0.042997</td>\n      <td>0.169315</td>\n      <td>0.329050</td>\n      <td>0.768142</td>\n      <td>0.380995</td>\n      <td>0.221720</td>\n      <td>0.467746</td>\n      <td>...</td>\n      <td>0.337458</td>\n      <td>1.000000</td>\n      <td>0.424694</td>\n      <td>1.000000</td>\n      <td>0.427652</td>\n      <td>0.048077</td>\n      <td>0.204697</td>\n      <td>0.008655</td>\n      <td>0.277390</td>\n      <td>0.301112</td>\n    </tr>\n    <tr>\n      <th>tech_support_Yes</th>\n      <td>0.056667</td>\n      <td>0.130027</td>\n      <td>0.079742</td>\n      <td>0.317959</td>\n      <td>0.095660</td>\n      <td>0.042216</td>\n      <td>0.332445</td>\n      <td>0.422944</td>\n      <td>0.153070</td>\n      <td>0.028354</td>\n      <td>...</td>\n      <td>1.000000</td>\n      <td>0.337458</td>\n      <td>0.274023</td>\n      <td>0.337458</td>\n      <td>0.269294</td>\n      <td>0.089670</td>\n      <td>0.252120</td>\n      <td>0.091056</td>\n      <td>0.109225</td>\n      <td>0.068747</td>\n    </tr>\n    <tr>\n      <th>streaming_tv_No internet service</th>\n      <td>0.182607</td>\n      <td>0.010204</td>\n      <td>0.140810</td>\n      <td>0.042997</td>\n      <td>0.169315</td>\n      <td>0.329050</td>\n      <td>0.768142</td>\n      <td>0.380995</td>\n      <td>0.221720</td>\n      <td>0.467746</td>\n      <td>...</td>\n      <td>0.337458</td>\n      <td>1.000000</td>\n      <td>0.424694</td>\n      <td>1.000000</td>\n      <td>0.427652</td>\n      <td>0.048077</td>\n      <td>0.204697</td>\n      <td>0.008655</td>\n      <td>0.277390</td>\n      <td>0.301112</td>\n    </tr>\n    <tr>\n      <th>streaming_tv_Yes</th>\n      <td>0.104946</td>\n      <td>0.151795</td>\n      <td>0.019449</td>\n      <td>0.291208</td>\n      <td>0.016472</td>\n      <td>0.213209</td>\n      <td>0.639230</td>\n      <td>0.530493</td>\n      <td>0.056389</td>\n      <td>0.338463</td>\n      <td>...</td>\n      <td>0.274023</td>\n      <td>0.424694</td>\n      <td>1.000000</td>\n      <td>0.424694</td>\n      <td>0.532061</td>\n      <td>0.067056</td>\n      <td>0.075144</td>\n      <td>0.040631</td>\n      <td>0.144540</td>\n      <td>0.241038</td>\n    </tr>\n    <tr>\n      <th>streaming_movies_No internet service</th>\n      <td>0.182607</td>\n      <td>0.010204</td>\n      <td>0.140810</td>\n      <td>0.042997</td>\n      <td>0.169315</td>\n      <td>0.329050</td>\n      <td>0.768142</td>\n      <td>0.380995</td>\n      <td>0.221720</td>\n      <td>0.467746</td>\n      <td>...</td>\n      <td>0.337458</td>\n      <td>1.000000</td>\n      <td>0.424694</td>\n      <td>1.000000</td>\n      <td>0.427652</td>\n      <td>0.048077</td>\n      <td>0.204697</td>\n      <td>0.008655</td>\n      <td>0.277390</td>\n      <td>0.301112</td>\n    </tr>\n    <tr>\n      <th>streaming_movies_Yes</th>\n      <td>0.121525</td>\n      <td>0.125581</td>\n      <td>0.052278</td>\n      <td>0.269309</td>\n      <td>0.030943</td>\n      <td>0.207658</td>\n      <td>0.635009</td>\n      <td>0.511135</td>\n      <td>0.063197</td>\n      <td>0.333920</td>\n      <td>...</td>\n      <td>0.269294</td>\n      <td>0.427652</td>\n      <td>0.532061</td>\n      <td>0.427652</td>\n      <td>1.000000</td>\n      <td>0.069280</td>\n      <td>0.062145</td>\n      <td>0.040518</td>\n      <td>0.136425</td>\n      <td>0.240855</td>\n    </tr>\n    <tr>\n      <th>contract_type_One year</th>\n      <td>0.035609</td>\n      <td>0.093163</td>\n      <td>0.057855</td>\n      <td>0.202455</td>\n      <td>0.009751</td>\n      <td>0.044709</td>\n      <td>0.000447</td>\n      <td>0.168912</td>\n      <td>0.187877</td>\n      <td>0.083265</td>\n      <td>...</td>\n      <td>0.089670</td>\n      <td>0.048077</td>\n      <td>0.067056</td>\n      <td>0.048077</td>\n      <td>0.069280</td>\n      <td>1.000000</td>\n      <td>0.291407</td>\n      <td>0.071660</td>\n      <td>0.105254</td>\n      <td>0.018306</td>\n    </tr>\n    <tr>\n      <th>contract_type_Two year</th>\n      <td>0.118246</td>\n      <td>0.239835</td>\n      <td>0.210880</td>\n      <td>0.559881</td>\n      <td>0.006620</td>\n      <td>0.137293</td>\n      <td>0.069769</td>\n      <td>0.355656</td>\n      <td>0.291850</td>\n      <td>0.205533</td>\n      <td>...</td>\n      <td>0.252120</td>\n      <td>0.204697</td>\n      <td>0.075144</td>\n      <td>0.204697</td>\n      <td>0.062145</td>\n      <td>0.291407</td>\n      <td>1.000000</td>\n      <td>0.171137</td>\n      <td>0.282224</td>\n      <td>0.008989</td>\n    </tr>\n    <tr>\n      <th>payment_type_Credit card (automatic)</th>\n      <td>0.023020</td>\n      <td>0.090727</td>\n      <td>0.057920</td>\n      <td>0.225785</td>\n      <td>0.002996</td>\n      <td>0.004374</td>\n      <td>0.026555</td>\n      <td>0.178475</td>\n      <td>0.128428</td>\n      <td>0.043340</td>\n      <td>...</td>\n      <td>0.091056</td>\n      <td>0.008655</td>\n      <td>0.040631</td>\n      <td>0.008655</td>\n      <td>0.040518</td>\n      <td>0.071660</td>\n      <td>0.171137</td>\n      <td>1.000000</td>\n      <td>0.375729</td>\n      <td>0.283963</td>\n    </tr>\n    <tr>\n      <th>payment_type_Electronic check</th>\n      <td>0.165358</td>\n      <td>0.077309</td>\n      <td>0.137791</td>\n      <td>0.212851</td>\n      <td>0.004544</td>\n      <td>0.208999</td>\n      <td>0.262278</td>\n      <td>0.065219</td>\n      <td>0.301090</td>\n      <td>0.328194</td>\n      <td>...</td>\n      <td>0.109225</td>\n      <td>0.277390</td>\n      <td>0.144540</td>\n      <td>0.277390</td>\n      <td>0.136425</td>\n      <td>0.105254</td>\n      <td>0.282224</td>\n      <td>0.375729</td>\n      <td>1.000000</td>\n      <td>0.383817</td>\n    </tr>\n    <tr>\n      <th>payment_type_Mailed check</th>\n      <td>0.162835</td>\n      <td>0.105585</td>\n      <td>0.055398</td>\n      <td>0.242165</td>\n      <td>0.008524</td>\n      <td>0.199886</td>\n      <td>0.355673</td>\n      <td>0.291629</td>\n      <td>0.080974</td>\n      <td>0.292566</td>\n      <td>...</td>\n      <td>0.068747</td>\n      <td>0.301112</td>\n      <td>0.241038</td>\n      <td>0.301112</td>\n      <td>0.240855</td>\n      <td>0.018306</td>\n      <td>0.008989</td>\n      <td>0.283963</td>\n      <td>0.383817</td>\n      <td>1.000000</td>\n    </tr>\n  </tbody>\n</table>\n<p>32 rows × 32 columns</p>\n</div>"
     },
     "execution_count": 4,
     "metadata": {},
     "output_type": "execute_result"
    }
   ],
   "source": [
    "# check correlation\n",
    "abs(train.corr())"
   ],
   "metadata": {
    "collapsed": false,
    "ExecuteTime": {
     "start_time": "2023-04-27T12:01:52.951797Z",
     "end_time": "2023-04-27T12:01:53.127358Z"
    }
   }
  },
  {
   "cell_type": "code",
   "execution_count": 5,
   "outputs": [],
   "source": [
    "x_train = train.drop([\"churn\", \"customer_id\"], axis=1)\n",
    "y_train = train.churn\n",
    "x_validate = validate.drop([\"churn\", \"customer_id\"], axis=1)\n",
    "y_validate = validate.churn\n",
    "x_test = test.drop([\"churn\", \"customer_id\"], axis=1)\n",
    "y_test = test.churn"
   ],
   "metadata": {
    "collapsed": false,
    "ExecuteTime": {
     "start_time": "2023-04-27T12:01:52.970371Z",
     "end_time": "2023-04-27T12:01:53.127449Z"
    }
   }
  },
  {
   "cell_type": "code",
   "execution_count": 6,
   "outputs": [
    {
     "data": {
      "text/plain": "      senior_citizen  partner  dependents  tenure  phone_service  \\\n5911               0        0           1      26              0   \n2479               0        1           0      47              1   \n5889               0        0           0       1              1   \n6087               0        0           0      69              0   \n785                0        0           0      51              1   \n...              ...      ...         ...     ...            ...   \n6102               0        1           0       2              1   \n356                1        0           0      52              0   \n1756               0        0           0       4              1   \n2127               0        0           0      35              1   \n3586               0        0           0      10              1   \n\n      paperless_billing  monthly_charges  total_charges  \\\n5911                  1            39.95        1023.75   \n2479                  0            26.90        1250.85   \n5889                  1            50.45          50.45   \n6087                  1            60.05        4176.70   \n785                   0            87.55        4475.90   \n...                 ...              ...            ...   \n6102                  0            79.70         165.00   \n356                   1            50.50        2566.30   \n1756                  1            70.20         237.95   \n2127                  0            55.25        1924.10   \n3586                  0            64.90         685.55   \n\n      internet_service_type_fiber_optic  internet_service_type_dsl  ...  \\\n5911                                  0                          1  ...   \n2479                                  0                          0  ...   \n5889                                  0                          1  ...   \n6087                                  0                          1  ...   \n785                                   1                          0  ...   \n...                                 ...                        ...  ...   \n6102                                  1                          0  ...   \n356                                   0                          1  ...   \n1756                                  1                          0  ...   \n2127                                  0                          1  ...   \n3586                                  0                          1  ...   \n\n      tech_support_Yes  streaming_tv_No internet service  streaming_tv_Yes  \\\n5911                 0                                 0                 1   \n2479                 0                                 1                 0   \n5889                 0                                 0                 0   \n6087                 1                                 0                 1   \n785                  0                                 0                 1   \n...                ...                               ...               ...   \n6102                 0                                 0                 0   \n356                  1                                 0                 1   \n1756                 0                                 0                 0   \n2127                 0                                 0                 0   \n3586                 1                                 0                 0   \n\n      streaming_movies_No internet service  streaming_movies_Yes  \\\n5911                                     0                     0   \n2479                                     1                     0   \n5889                                     0                     0   \n6087                                     0                     1   \n785                                      0                     1   \n...                                    ...                   ...   \n6102                                     0                     0   \n356                                      0                     0   \n1756                                     0                     0   \n2127                                     0                     0   \n3586                                     0                     1   \n\n      contract_type_One year  contract_type_Two year  \\\n5911                       1                       0   \n2479                       1                       0   \n5889                       0                       0   \n6087                       0                       1   \n785                        1                       0   \n...                      ...                     ...   \n6102                       0                       0   \n356                        0                       0   \n1756                       0                       0   \n2127                       0                       1   \n3586                       1                       0   \n\n      payment_type_Credit card (automatic)  payment_type_Electronic check  \\\n5911                                     0                              0   \n2479                                     0                              1   \n5889                                     0                              0   \n6087                                     0                              0   \n785                                      1                              0   \n...                                    ...                            ...   \n6102                                     0                              0   \n356                                      0                              1   \n1756                                     0                              1   \n2127                                     0                              0   \n3586                                     0                              0   \n\n      payment_type_Mailed check  \n5911                          0  \n2479                          0  \n5889                          1  \n6087                          0  \n785                           0  \n...                         ...  \n6102                          0  \n356                           0  \n1756                          0  \n2127                          1  \n3586                          1  \n\n[4225 rows x 31 columns]",
      "text/html": "<div>\n<style scoped>\n    .dataframe tbody tr th:only-of-type {\n        vertical-align: middle;\n    }\n\n    .dataframe tbody tr th {\n        vertical-align: top;\n    }\n\n    .dataframe thead th {\n        text-align: right;\n    }\n</style>\n<table border=\"1\" class=\"dataframe\">\n  <thead>\n    <tr style=\"text-align: right;\">\n      <th></th>\n      <th>senior_citizen</th>\n      <th>partner</th>\n      <th>dependents</th>\n      <th>tenure</th>\n      <th>phone_service</th>\n      <th>paperless_billing</th>\n      <th>monthly_charges</th>\n      <th>total_charges</th>\n      <th>internet_service_type_fiber_optic</th>\n      <th>internet_service_type_dsl</th>\n      <th>...</th>\n      <th>tech_support_Yes</th>\n      <th>streaming_tv_No internet service</th>\n      <th>streaming_tv_Yes</th>\n      <th>streaming_movies_No internet service</th>\n      <th>streaming_movies_Yes</th>\n      <th>contract_type_One year</th>\n      <th>contract_type_Two year</th>\n      <th>payment_type_Credit card (automatic)</th>\n      <th>payment_type_Electronic check</th>\n      <th>payment_type_Mailed check</th>\n    </tr>\n  </thead>\n  <tbody>\n    <tr>\n      <th>5911</th>\n      <td>0</td>\n      <td>0</td>\n      <td>1</td>\n      <td>26</td>\n      <td>0</td>\n      <td>1</td>\n      <td>39.95</td>\n      <td>1023.75</td>\n      <td>0</td>\n      <td>1</td>\n      <td>...</td>\n      <td>0</td>\n      <td>0</td>\n      <td>1</td>\n      <td>0</td>\n      <td>0</td>\n      <td>1</td>\n      <td>0</td>\n      <td>0</td>\n      <td>0</td>\n      <td>0</td>\n    </tr>\n    <tr>\n      <th>2479</th>\n      <td>0</td>\n      <td>1</td>\n      <td>0</td>\n      <td>47</td>\n      <td>1</td>\n      <td>0</td>\n      <td>26.90</td>\n      <td>1250.85</td>\n      <td>0</td>\n      <td>0</td>\n      <td>...</td>\n      <td>0</td>\n      <td>1</td>\n      <td>0</td>\n      <td>1</td>\n      <td>0</td>\n      <td>1</td>\n      <td>0</td>\n      <td>0</td>\n      <td>1</td>\n      <td>0</td>\n    </tr>\n    <tr>\n      <th>5889</th>\n      <td>0</td>\n      <td>0</td>\n      <td>0</td>\n      <td>1</td>\n      <td>1</td>\n      <td>1</td>\n      <td>50.45</td>\n      <td>50.45</td>\n      <td>0</td>\n      <td>1</td>\n      <td>...</td>\n      <td>0</td>\n      <td>0</td>\n      <td>0</td>\n      <td>0</td>\n      <td>0</td>\n      <td>0</td>\n      <td>0</td>\n      <td>0</td>\n      <td>0</td>\n      <td>1</td>\n    </tr>\n    <tr>\n      <th>6087</th>\n      <td>0</td>\n      <td>0</td>\n      <td>0</td>\n      <td>69</td>\n      <td>0</td>\n      <td>1</td>\n      <td>60.05</td>\n      <td>4176.70</td>\n      <td>0</td>\n      <td>1</td>\n      <td>...</td>\n      <td>1</td>\n      <td>0</td>\n      <td>1</td>\n      <td>0</td>\n      <td>1</td>\n      <td>0</td>\n      <td>1</td>\n      <td>0</td>\n      <td>0</td>\n      <td>0</td>\n    </tr>\n    <tr>\n      <th>785</th>\n      <td>0</td>\n      <td>0</td>\n      <td>0</td>\n      <td>51</td>\n      <td>1</td>\n      <td>0</td>\n      <td>87.55</td>\n      <td>4475.90</td>\n      <td>1</td>\n      <td>0</td>\n      <td>...</td>\n      <td>0</td>\n      <td>0</td>\n      <td>1</td>\n      <td>0</td>\n      <td>1</td>\n      <td>1</td>\n      <td>0</td>\n      <td>1</td>\n      <td>0</td>\n      <td>0</td>\n    </tr>\n    <tr>\n      <th>...</th>\n      <td>...</td>\n      <td>...</td>\n      <td>...</td>\n      <td>...</td>\n      <td>...</td>\n      <td>...</td>\n      <td>...</td>\n      <td>...</td>\n      <td>...</td>\n      <td>...</td>\n      <td>...</td>\n      <td>...</td>\n      <td>...</td>\n      <td>...</td>\n      <td>...</td>\n      <td>...</td>\n      <td>...</td>\n      <td>...</td>\n      <td>...</td>\n      <td>...</td>\n      <td>...</td>\n    </tr>\n    <tr>\n      <th>6102</th>\n      <td>0</td>\n      <td>1</td>\n      <td>0</td>\n      <td>2</td>\n      <td>1</td>\n      <td>0</td>\n      <td>79.70</td>\n      <td>165.00</td>\n      <td>1</td>\n      <td>0</td>\n      <td>...</td>\n      <td>0</td>\n      <td>0</td>\n      <td>0</td>\n      <td>0</td>\n      <td>0</td>\n      <td>0</td>\n      <td>0</td>\n      <td>0</td>\n      <td>0</td>\n      <td>0</td>\n    </tr>\n    <tr>\n      <th>356</th>\n      <td>1</td>\n      <td>0</td>\n      <td>0</td>\n      <td>52</td>\n      <td>0</td>\n      <td>1</td>\n      <td>50.50</td>\n      <td>2566.30</td>\n      <td>0</td>\n      <td>1</td>\n      <td>...</td>\n      <td>1</td>\n      <td>0</td>\n      <td>1</td>\n      <td>0</td>\n      <td>0</td>\n      <td>0</td>\n      <td>0</td>\n      <td>0</td>\n      <td>1</td>\n      <td>0</td>\n    </tr>\n    <tr>\n      <th>1756</th>\n      <td>0</td>\n      <td>0</td>\n      <td>0</td>\n      <td>4</td>\n      <td>1</td>\n      <td>1</td>\n      <td>70.20</td>\n      <td>237.95</td>\n      <td>1</td>\n      <td>0</td>\n      <td>...</td>\n      <td>0</td>\n      <td>0</td>\n      <td>0</td>\n      <td>0</td>\n      <td>0</td>\n      <td>0</td>\n      <td>0</td>\n      <td>0</td>\n      <td>1</td>\n      <td>0</td>\n    </tr>\n    <tr>\n      <th>2127</th>\n      <td>0</td>\n      <td>0</td>\n      <td>0</td>\n      <td>35</td>\n      <td>1</td>\n      <td>0</td>\n      <td>55.25</td>\n      <td>1924.10</td>\n      <td>0</td>\n      <td>1</td>\n      <td>...</td>\n      <td>0</td>\n      <td>0</td>\n      <td>0</td>\n      <td>0</td>\n      <td>0</td>\n      <td>0</td>\n      <td>1</td>\n      <td>0</td>\n      <td>0</td>\n      <td>1</td>\n    </tr>\n    <tr>\n      <th>3586</th>\n      <td>0</td>\n      <td>0</td>\n      <td>0</td>\n      <td>10</td>\n      <td>1</td>\n      <td>0</td>\n      <td>64.90</td>\n      <td>685.55</td>\n      <td>0</td>\n      <td>1</td>\n      <td>...</td>\n      <td>1</td>\n      <td>0</td>\n      <td>0</td>\n      <td>0</td>\n      <td>1</td>\n      <td>1</td>\n      <td>0</td>\n      <td>0</td>\n      <td>0</td>\n      <td>1</td>\n    </tr>\n  </tbody>\n</table>\n<p>4225 rows × 31 columns</p>\n</div>"
     },
     "execution_count": 6,
     "metadata": {},
     "output_type": "execute_result"
    }
   ],
   "source": [
    "x_train"
   ],
   "metadata": {
    "collapsed": false,
    "ExecuteTime": {
     "start_time": "2023-04-27T12:01:52.976209Z",
     "end_time": "2023-04-27T12:01:53.127786Z"
    }
   }
  },
  {
   "cell_type": "markdown",
   "source": [
    "# Baseline Prediction\n",
    "* 73% of the customers are not churning"
   ],
   "metadata": {
    "collapsed": false
   }
  },
  {
   "cell_type": "code",
   "execution_count": 7,
   "outputs": [
    {
     "data": {
      "text/plain": "0    0.734675\n1    0.265325\nName: churn, dtype: float64"
     },
     "execution_count": 7,
     "metadata": {},
     "output_type": "execute_result"
    }
   ],
   "source": [
    "y_train.value_counts(normalize=True)"
   ],
   "metadata": {
    "collapsed": false,
    "ExecuteTime": {
     "start_time": "2023-04-27T12:01:52.980859Z",
     "end_time": "2023-04-27T12:01:53.128150Z"
    }
   }
  },
  {
   "cell_type": "markdown",
   "source": [
    "# Decision Tree\n",
    "\n"
   ],
   "metadata": {
    "collapsed": false
   }
  },
  {
   "cell_type": "code",
   "execution_count": 8,
   "outputs": [
    {
     "data": {
      "text/plain": "DecisionTreeClassifier(max_depth=3, random_state=123)",
      "text/html": "<style>#sk-container-id-1 {color: black;background-color: white;}#sk-container-id-1 pre{padding: 0;}#sk-container-id-1 div.sk-toggleable {background-color: white;}#sk-container-id-1 label.sk-toggleable__label {cursor: pointer;display: block;width: 100%;margin-bottom: 0;padding: 0.3em;box-sizing: border-box;text-align: center;}#sk-container-id-1 label.sk-toggleable__label-arrow:before {content: \"▸\";float: left;margin-right: 0.25em;color: #696969;}#sk-container-id-1 label.sk-toggleable__label-arrow:hover:before {color: black;}#sk-container-id-1 div.sk-estimator:hover label.sk-toggleable__label-arrow:before {color: black;}#sk-container-id-1 div.sk-toggleable__content {max-height: 0;max-width: 0;overflow: hidden;text-align: left;background-color: #f0f8ff;}#sk-container-id-1 div.sk-toggleable__content pre {margin: 0.2em;color: black;border-radius: 0.25em;background-color: #f0f8ff;}#sk-container-id-1 input.sk-toggleable__control:checked~div.sk-toggleable__content {max-height: 200px;max-width: 100%;overflow: auto;}#sk-container-id-1 input.sk-toggleable__control:checked~label.sk-toggleable__label-arrow:before {content: \"▾\";}#sk-container-id-1 div.sk-estimator input.sk-toggleable__control:checked~label.sk-toggleable__label {background-color: #d4ebff;}#sk-container-id-1 div.sk-label input.sk-toggleable__control:checked~label.sk-toggleable__label {background-color: #d4ebff;}#sk-container-id-1 input.sk-hidden--visually {border: 0;clip: rect(1px 1px 1px 1px);clip: rect(1px, 1px, 1px, 1px);height: 1px;margin: -1px;overflow: hidden;padding: 0;position: absolute;width: 1px;}#sk-container-id-1 div.sk-estimator {font-family: monospace;background-color: #f0f8ff;border: 1px dotted black;border-radius: 0.25em;box-sizing: border-box;margin-bottom: 0.5em;}#sk-container-id-1 div.sk-estimator:hover {background-color: #d4ebff;}#sk-container-id-1 div.sk-parallel-item::after {content: \"\";width: 100%;border-bottom: 1px solid gray;flex-grow: 1;}#sk-container-id-1 div.sk-label:hover label.sk-toggleable__label {background-color: #d4ebff;}#sk-container-id-1 div.sk-serial::before {content: \"\";position: absolute;border-left: 1px solid gray;box-sizing: border-box;top: 0;bottom: 0;left: 50%;z-index: 0;}#sk-container-id-1 div.sk-serial {display: flex;flex-direction: column;align-items: center;background-color: white;padding-right: 0.2em;padding-left: 0.2em;position: relative;}#sk-container-id-1 div.sk-item {position: relative;z-index: 1;}#sk-container-id-1 div.sk-parallel {display: flex;align-items: stretch;justify-content: center;background-color: white;position: relative;}#sk-container-id-1 div.sk-item::before, #sk-container-id-1 div.sk-parallel-item::before {content: \"\";position: absolute;border-left: 1px solid gray;box-sizing: border-box;top: 0;bottom: 0;left: 50%;z-index: -1;}#sk-container-id-1 div.sk-parallel-item {display: flex;flex-direction: column;z-index: 1;position: relative;background-color: white;}#sk-container-id-1 div.sk-parallel-item:first-child::after {align-self: flex-end;width: 50%;}#sk-container-id-1 div.sk-parallel-item:last-child::after {align-self: flex-start;width: 50%;}#sk-container-id-1 div.sk-parallel-item:only-child::after {width: 0;}#sk-container-id-1 div.sk-dashed-wrapped {border: 1px dashed gray;margin: 0 0.4em 0.5em 0.4em;box-sizing: border-box;padding-bottom: 0.4em;background-color: white;}#sk-container-id-1 div.sk-label label {font-family: monospace;font-weight: bold;display: inline-block;line-height: 1.2em;}#sk-container-id-1 div.sk-label-container {text-align: center;}#sk-container-id-1 div.sk-container {/* jupyter's `normalize.less` sets `[hidden] { display: none; }` but bootstrap.min.css set `[hidden] { display: none !important; }` so we also need the `!important` here to be able to override the default hidden behavior on the sphinx rendered scikit-learn.org. See: https://github.com/scikit-learn/scikit-learn/issues/21755 */display: inline-block !important;position: relative;}#sk-container-id-1 div.sk-text-repr-fallback {display: none;}</style><div id=\"sk-container-id-1\" class=\"sk-top-container\"><div class=\"sk-text-repr-fallback\"><pre>DecisionTreeClassifier(max_depth=3, random_state=123)</pre><b>In a Jupyter environment, please rerun this cell to show the HTML representation or trust the notebook. <br />On GitHub, the HTML representation is unable to render, please try loading this page with nbviewer.org.</b></div><div class=\"sk-container\" hidden><div class=\"sk-item\"><div class=\"sk-estimator sk-toggleable\"><input class=\"sk-toggleable__control sk-hidden--visually\" id=\"sk-estimator-id-1\" type=\"checkbox\" checked><label for=\"sk-estimator-id-1\" class=\"sk-toggleable__label sk-toggleable__label-arrow\">DecisionTreeClassifier</label><div class=\"sk-toggleable__content\"><pre>DecisionTreeClassifier(max_depth=3, random_state=123)</pre></div></div></div></div></div>"
     },
     "execution_count": 8,
     "metadata": {},
     "output_type": "execute_result"
    }
   ],
   "source": [
    "# fit the model\n",
    "clf = DecisionTreeClassifier(max_depth=3, random_state=123)\n",
    "clf.fit(x_train, y_train)"
   ],
   "metadata": {
    "collapsed": false,
    "ExecuteTime": {
     "start_time": "2023-04-27T12:01:52.985754Z",
     "end_time": "2023-04-27T12:01:53.158677Z"
    }
   }
  },
  {
   "cell_type": "code",
   "execution_count": 9,
   "outputs": [
    {
     "name": "stdout",
     "output_type": "stream",
     "text": [
      "------------------------------------\n",
      "Model: DecisionTreeClassifier(max_depth=3, random_state=123)\n",
      "Accuracy of model on training set: 0.787\n",
      "[[2902  202]\n",
      " [ 698  423]]\n",
      "              precision    recall  f1-score   support\n",
      "\n",
      "           0       0.81      0.93      0.87      3104\n",
      "           1       0.68      0.38      0.48      1121\n",
      "\n",
      "    accuracy                           0.79      4225\n",
      "   macro avg       0.74      0.66      0.68      4225\n",
      "weighted avg       0.77      0.79      0.76      4225\n",
      "\n",
      "------------------------------------\n",
      "Model: DecisionTreeClassifier(max_depth=3, random_state=123)\n",
      "Accuracy of model on validate set: 0.793\n",
      "[[971  64]\n",
      " [228 146]]\n",
      "              precision    recall  f1-score   support\n",
      "\n",
      "           0       0.81      0.94      0.87      1035\n",
      "           1       0.70      0.39      0.50       374\n",
      "\n",
      "    accuracy                           0.79      1409\n",
      "   macro avg       0.75      0.66      0.68      1409\n",
      "weighted avg       0.78      0.79      0.77      1409\n",
      "\n"
     ]
    }
   ],
   "source": [
    "# evaluate the model\n",
    "m.validate_model_test(clf, x_train, y_train, x_validate, y_validate)"
   ],
   "metadata": {
    "collapsed": false,
    "ExecuteTime": {
     "start_time": "2023-04-27T12:01:52.993744Z",
     "end_time": "2023-04-27T12:01:53.158908Z"
    }
   }
  },
  {
   "cell_type": "markdown",
   "source": [
    "## Takeaways\n",
    "* The model performs better than the baseline\n",
    "* Model performs at 78.7% accuracy on train and 79.3% accuracy on validate\n",
    "\n"
   ],
   "metadata": {
    "collapsed": false
   }
  },
  {
   "cell_type": "markdown",
   "source": [
    "# Logistic Regression"
   ],
   "metadata": {
    "collapsed": false
   }
  },
  {
   "cell_type": "code",
   "execution_count": 10,
   "outputs": [
    {
     "data": {
      "text/plain": "LogisticRegression()",
      "text/html": "<style>#sk-container-id-2 {color: black;background-color: white;}#sk-container-id-2 pre{padding: 0;}#sk-container-id-2 div.sk-toggleable {background-color: white;}#sk-container-id-2 label.sk-toggleable__label {cursor: pointer;display: block;width: 100%;margin-bottom: 0;padding: 0.3em;box-sizing: border-box;text-align: center;}#sk-container-id-2 label.sk-toggleable__label-arrow:before {content: \"▸\";float: left;margin-right: 0.25em;color: #696969;}#sk-container-id-2 label.sk-toggleable__label-arrow:hover:before {color: black;}#sk-container-id-2 div.sk-estimator:hover label.sk-toggleable__label-arrow:before {color: black;}#sk-container-id-2 div.sk-toggleable__content {max-height: 0;max-width: 0;overflow: hidden;text-align: left;background-color: #f0f8ff;}#sk-container-id-2 div.sk-toggleable__content pre {margin: 0.2em;color: black;border-radius: 0.25em;background-color: #f0f8ff;}#sk-container-id-2 input.sk-toggleable__control:checked~div.sk-toggleable__content {max-height: 200px;max-width: 100%;overflow: auto;}#sk-container-id-2 input.sk-toggleable__control:checked~label.sk-toggleable__label-arrow:before {content: \"▾\";}#sk-container-id-2 div.sk-estimator input.sk-toggleable__control:checked~label.sk-toggleable__label {background-color: #d4ebff;}#sk-container-id-2 div.sk-label input.sk-toggleable__control:checked~label.sk-toggleable__label {background-color: #d4ebff;}#sk-container-id-2 input.sk-hidden--visually {border: 0;clip: rect(1px 1px 1px 1px);clip: rect(1px, 1px, 1px, 1px);height: 1px;margin: -1px;overflow: hidden;padding: 0;position: absolute;width: 1px;}#sk-container-id-2 div.sk-estimator {font-family: monospace;background-color: #f0f8ff;border: 1px dotted black;border-radius: 0.25em;box-sizing: border-box;margin-bottom: 0.5em;}#sk-container-id-2 div.sk-estimator:hover {background-color: #d4ebff;}#sk-container-id-2 div.sk-parallel-item::after {content: \"\";width: 100%;border-bottom: 1px solid gray;flex-grow: 1;}#sk-container-id-2 div.sk-label:hover label.sk-toggleable__label {background-color: #d4ebff;}#sk-container-id-2 div.sk-serial::before {content: \"\";position: absolute;border-left: 1px solid gray;box-sizing: border-box;top: 0;bottom: 0;left: 50%;z-index: 0;}#sk-container-id-2 div.sk-serial {display: flex;flex-direction: column;align-items: center;background-color: white;padding-right: 0.2em;padding-left: 0.2em;position: relative;}#sk-container-id-2 div.sk-item {position: relative;z-index: 1;}#sk-container-id-2 div.sk-parallel {display: flex;align-items: stretch;justify-content: center;background-color: white;position: relative;}#sk-container-id-2 div.sk-item::before, #sk-container-id-2 div.sk-parallel-item::before {content: \"\";position: absolute;border-left: 1px solid gray;box-sizing: border-box;top: 0;bottom: 0;left: 50%;z-index: -1;}#sk-container-id-2 div.sk-parallel-item {display: flex;flex-direction: column;z-index: 1;position: relative;background-color: white;}#sk-container-id-2 div.sk-parallel-item:first-child::after {align-self: flex-end;width: 50%;}#sk-container-id-2 div.sk-parallel-item:last-child::after {align-self: flex-start;width: 50%;}#sk-container-id-2 div.sk-parallel-item:only-child::after {width: 0;}#sk-container-id-2 div.sk-dashed-wrapped {border: 1px dashed gray;margin: 0 0.4em 0.5em 0.4em;box-sizing: border-box;padding-bottom: 0.4em;background-color: white;}#sk-container-id-2 div.sk-label label {font-family: monospace;font-weight: bold;display: inline-block;line-height: 1.2em;}#sk-container-id-2 div.sk-label-container {text-align: center;}#sk-container-id-2 div.sk-container {/* jupyter's `normalize.less` sets `[hidden] { display: none; }` but bootstrap.min.css set `[hidden] { display: none !important; }` so we also need the `!important` here to be able to override the default hidden behavior on the sphinx rendered scikit-learn.org. See: https://github.com/scikit-learn/scikit-learn/issues/21755 */display: inline-block !important;position: relative;}#sk-container-id-2 div.sk-text-repr-fallback {display: none;}</style><div id=\"sk-container-id-2\" class=\"sk-top-container\"><div class=\"sk-text-repr-fallback\"><pre>LogisticRegression()</pre><b>In a Jupyter environment, please rerun this cell to show the HTML representation or trust the notebook. <br />On GitHub, the HTML representation is unable to render, please try loading this page with nbviewer.org.</b></div><div class=\"sk-container\" hidden><div class=\"sk-item\"><div class=\"sk-estimator sk-toggleable\"><input class=\"sk-toggleable__control sk-hidden--visually\" id=\"sk-estimator-id-2\" type=\"checkbox\" checked><label for=\"sk-estimator-id-2\" class=\"sk-toggleable__label sk-toggleable__label-arrow\">LogisticRegression</label><div class=\"sk-toggleable__content\"><pre>LogisticRegression()</pre></div></div></div></div></div>"
     },
     "execution_count": 10,
     "metadata": {},
     "output_type": "execute_result"
    }
   ],
   "source": [
    "# fit the model\n",
    "logit = LogisticRegression()\n",
    "logit.fit(x_train, y_train)"
   ],
   "metadata": {
    "collapsed": false,
    "ExecuteTime": {
     "start_time": "2023-04-27T12:01:53.010816Z",
     "end_time": "2023-04-27T12:01:53.160340Z"
    }
   }
  },
  {
   "cell_type": "code",
   "execution_count": 11,
   "outputs": [
    {
     "name": "stdout",
     "output_type": "stream",
     "text": [
      "------------------------------------\n",
      "Model: LogisticRegression()\n",
      "Accuracy of model on training set: 0.797\n",
      "[[2764  340]\n",
      " [ 519  602]]\n",
      "              precision    recall  f1-score   support\n",
      "\n",
      "           0       0.84      0.89      0.87      3104\n",
      "           1       0.64      0.54      0.58      1121\n",
      "\n",
      "    accuracy                           0.80      4225\n",
      "   macro avg       0.74      0.71      0.72      4225\n",
      "weighted avg       0.79      0.80      0.79      4225\n",
      "\n",
      "------------------------------------\n",
      "Model: LogisticRegression()\n",
      "Accuracy of model on validate set: 0.813\n",
      "[[932 103]\n",
      " [161 213]]\n",
      "              precision    recall  f1-score   support\n",
      "\n",
      "           0       0.85      0.90      0.88      1035\n",
      "           1       0.67      0.57      0.62       374\n",
      "\n",
      "    accuracy                           0.81      1409\n",
      "   macro avg       0.76      0.74      0.75      1409\n",
      "weighted avg       0.81      0.81      0.81      1409\n",
      "\n"
     ]
    }
   ],
   "source": [
    "# evaluate the model\n",
    "m.validate_model_test(logit, x_train, y_train, x_validate, y_validate)"
   ],
   "metadata": {
    "collapsed": false,
    "ExecuteTime": {
     "start_time": "2023-04-27T12:01:53.171055Z",
     "end_time": "2023-04-27T12:01:53.287699Z"
    }
   }
  },
  {
   "cell_type": "markdown",
   "source": [
    "## Takeaways\n",
    "* The model performs better than the baseline\n",
    "* Model performs at 79.7% accuracy on train and 81.3% accuracy on validate\n"
   ],
   "metadata": {
    "collapsed": false
   }
  },
  {
   "cell_type": "markdown",
   "source": [
    "# Random Forest"
   ],
   "metadata": {
    "collapsed": false
   }
  },
  {
   "cell_type": "code",
   "execution_count": 12,
   "outputs": [],
   "source": [
    "# fit the model\n",
    "rf = RandomForestClassifier(bootstrap=True,\n",
    "                            class_weight=None,\n",
    "                            criterion='gini',\n",
    "                            min_samples_leaf=3,\n",
    "                            n_estimators=100,\n",
    "                            max_depth=5,\n",
    "                            random_state=123)"
   ],
   "metadata": {
    "collapsed": false,
    "ExecuteTime": {
     "start_time": "2023-04-27T12:01:53.247589Z",
     "end_time": "2023-04-27T12:01:53.304420Z"
    }
   }
  },
  {
   "cell_type": "code",
   "execution_count": 13,
   "outputs": [
    {
     "name": "stdout",
     "output_type": "stream",
     "text": [
      "------------------------------------\n",
      "Model: RandomForestClassifier(max_depth=5, min_samples_leaf=3, random_state=123)\n",
      "Accuracy of model on training set: 0.797\n",
      "[[2893  211]\n",
      " [ 647  474]]\n",
      "              precision    recall  f1-score   support\n",
      "\n",
      "           0       0.82      0.93      0.87      3104\n",
      "           1       0.69      0.42      0.52      1121\n",
      "\n",
      "    accuracy                           0.80      4225\n",
      "   macro avg       0.75      0.68      0.70      4225\n",
      "weighted avg       0.78      0.80      0.78      4225\n",
      "\n",
      "------------------------------------\n",
      "Model: RandomForestClassifier(max_depth=5, min_samples_leaf=3, random_state=123)\n",
      "Accuracy of model on validate set: 0.810\n",
      "[[969  66]\n",
      " [202 172]]\n",
      "              precision    recall  f1-score   support\n",
      "\n",
      "           0       0.83      0.94      0.88      1035\n",
      "           1       0.72      0.46      0.56       374\n",
      "\n",
      "    accuracy                           0.81      1409\n",
      "   macro avg       0.78      0.70      0.72      1409\n",
      "weighted avg       0.80      0.81      0.79      1409\n",
      "\n"
     ]
    }
   ],
   "source": [
    "# evaluate the model\n",
    "m.validate_model_test(rf, x_train, y_train, x_validate, y_validate)"
   ],
   "metadata": {
    "collapsed": false,
    "ExecuteTime": {
     "start_time": "2023-04-27T12:01:53.255437Z",
     "end_time": "2023-04-27T12:01:53.524667Z"
    }
   }
  },
  {
   "cell_type": "markdown",
   "source": [
    "## Takeaways\n",
    "* The model performs better than the baseline\n",
    "* Model performs at 79.7% accuracy on train and 81% accuracy on validate\n"
   ],
   "metadata": {
    "collapsed": false
   }
  },
  {
   "cell_type": "markdown",
   "source": [
    "# KNN"
   ],
   "metadata": {
    "collapsed": false
   }
  },
  {
   "cell_type": "code",
   "execution_count": 14,
   "outputs": [],
   "source": [
    "# fit the model\n",
    "knn = KNeighborsClassifier(n_neighbors=10)\n"
   ],
   "metadata": {
    "collapsed": false,
    "ExecuteTime": {
     "start_time": "2023-04-27T12:01:53.516035Z",
     "end_time": "2023-04-27T12:01:53.524755Z"
    }
   }
  },
  {
   "cell_type": "code",
   "execution_count": 15,
   "outputs": [
    {
     "name": "stdout",
     "output_type": "stream",
     "text": [
      "------------------------------------\n",
      "Model: KNeighborsClassifier(n_neighbors=10)\n",
      "Accuracy of model on training set: 0.808\n",
      "[[2940  164]\n",
      " [ 649  472]]\n",
      "              precision    recall  f1-score   support\n",
      "\n",
      "           0       0.82      0.95      0.88      3104\n",
      "           1       0.74      0.42      0.54      1121\n",
      "\n",
      "    accuracy                           0.81      4225\n",
      "   macro avg       0.78      0.68      0.71      4225\n",
      "weighted avg       0.80      0.81      0.79      4225\n",
      "\n",
      "------------------------------------\n",
      "Model: KNeighborsClassifier(n_neighbors=10)\n",
      "Accuracy of model on validate set: 0.779\n",
      "[[960  75]\n",
      " [236 138]]\n",
      "              precision    recall  f1-score   support\n",
      "\n",
      "           0       0.80      0.93      0.86      1035\n",
      "           1       0.65      0.37      0.47       374\n",
      "\n",
      "    accuracy                           0.78      1409\n",
      "   macro avg       0.73      0.65      0.67      1409\n",
      "weighted avg       0.76      0.78      0.76      1409\n",
      "\n"
     ]
    }
   ],
   "source": [
    "# evaluate the model\n",
    "m.validate_model_test(knn, x_train, y_train, x_validate, y_validate)"
   ],
   "metadata": {
    "collapsed": false,
    "ExecuteTime": {
     "start_time": "2023-04-27T12:01:53.518593Z",
     "end_time": "2023-04-27T12:01:53.693645Z"
    }
   }
  },
  {
   "cell_type": "markdown",
   "source": [
    "## Takeaways\n",
    "* The model performs better than the baseline\n",
    "* Model performs at 80.8% accuracy on train and 77.9% accuracy on validate\n",
    "* Model seems to be overfitting\n"
   ],
   "metadata": {
    "collapsed": false
   }
  },
  {
   "cell_type": "markdown",
   "source": [
    "# Modeling Takeaways\n",
    "* Logistic Regression is the best performing model\n",
    "* All models perform better than the baseline\n"
   ],
   "metadata": {
    "collapsed": false
   }
  },
  {
   "cell_type": "markdown",
   "source": [
    "# Fine Tuning Logistic Regression Model\n"
   ],
   "metadata": {
    "collapsed": false
   }
  },
  {
   "cell_type": "code",
   "execution_count": 16,
   "outputs": [],
   "source": [
    "# fit the model\n",
    "logit = LogisticRegression(penalty='l1', random_state=123, solver='liblinear')"
   ],
   "metadata": {
    "collapsed": false,
    "ExecuteTime": {
     "start_time": "2023-04-27T12:01:53.694238Z",
     "end_time": "2023-04-27T12:01:53.696288Z"
    }
   }
  },
  {
   "cell_type": "code",
   "execution_count": 17,
   "outputs": [
    {
     "name": "stdout",
     "output_type": "stream",
     "text": [
      "------------------------------------\n",
      "Model: LogisticRegression(penalty='l1', random_state=123, solver='liblinear')\n",
      "Accuracy of model on training set: 0.800\n",
      "[[2778  326]\n",
      " [ 518  603]]\n",
      "              precision    recall  f1-score   support\n",
      "\n",
      "           0       0.84      0.89      0.87      3104\n",
      "           1       0.65      0.54      0.59      1121\n",
      "\n",
      "    accuracy                           0.80      4225\n",
      "   macro avg       0.75      0.72      0.73      4225\n",
      "weighted avg       0.79      0.80      0.79      4225\n",
      "\n",
      "------------------------------------\n",
      "Model: LogisticRegression(penalty='l1', random_state=123, solver='liblinear')\n",
      "Accuracy of model on validate set: 0.815\n",
      "[[933 102]\n",
      " [159 215]]\n",
      "              precision    recall  f1-score   support\n",
      "\n",
      "           0       0.85      0.90      0.88      1035\n",
      "           1       0.68      0.57      0.62       374\n",
      "\n",
      "    accuracy                           0.81      1409\n",
      "   macro avg       0.77      0.74      0.75      1409\n",
      "weighted avg       0.81      0.81      0.81      1409\n",
      "\n"
     ]
    }
   ],
   "source": [
    "# evaluate the model\n",
    "m.validate_model_test(logit, x_train, y_train, x_validate, y_validate)"
   ],
   "metadata": {
    "collapsed": false,
    "ExecuteTime": {
     "start_time": "2023-04-27T12:01:53.697564Z",
     "end_time": "2023-04-27T12:01:53.778716Z"
    }
   }
  },
  {
   "cell_type": "code",
   "execution_count": 17,
   "outputs": [],
   "source": [],
   "metadata": {
    "collapsed": false,
    "ExecuteTime": {
     "start_time": "2023-04-27T12:01:53.784519Z",
     "end_time": "2023-04-27T12:01:53.831473Z"
    }
   }
  },
  {
   "cell_type": "markdown",
   "source": [
    "# Test the model on the test data"
   ],
   "metadata": {
    "collapsed": false
   }
  },
  {
   "cell_type": "code",
   "execution_count": 18,
   "outputs": [],
   "source": [
    "# fit the model\n",
    "logit = LogisticRegression(penalty='l1', random_state=123, solver='liblinear')"
   ],
   "metadata": {
    "collapsed": false,
    "ExecuteTime": {
     "start_time": "2023-04-27T12:01:53.816002Z",
     "end_time": "2023-04-27T12:01:53.849954Z"
    }
   }
  },
  {
   "cell_type": "code",
   "execution_count": 19,
   "outputs": [
    {
     "name": "stdout",
     "output_type": "stream",
     "text": [
      "------------------------------------\n",
      "Model: LogisticRegression(penalty='l1', random_state=123, solver='liblinear')\n",
      "Accuracy of model on training set: 0.800\n",
      "[[2778  326]\n",
      " [ 518  603]]\n",
      "              precision    recall  f1-score   support\n",
      "\n",
      "           0       0.84      0.89      0.87      3104\n",
      "           1       0.65      0.54      0.59      1121\n",
      "\n",
      "    accuracy                           0.80      4225\n",
      "   macro avg       0.75      0.72      0.73      4225\n",
      "weighted avg       0.79      0.80      0.79      4225\n",
      "\n",
      "------------------------------------\n",
      "Model: LogisticRegression(penalty='l1', random_state=123, solver='liblinear')\n",
      "Accuracy of model on test set: 0.818\n",
      "[[932 103]\n",
      " [154 220]]\n",
      "              precision    recall  f1-score   support\n",
      "\n",
      "           0       0.86      0.90      0.88      1035\n",
      "           1       0.68      0.59      0.63       374\n",
      "\n",
      "    accuracy                           0.82      1409\n",
      "   macro avg       0.77      0.74      0.76      1409\n",
      "weighted avg       0.81      0.82      0.81      1409\n",
      "\n"
     ]
    }
   ],
   "source": [
    "m.test_model_test(logit, x_train, y_train, x_test, y_test)"
   ],
   "metadata": {
    "collapsed": false,
    "ExecuteTime": {
     "start_time": "2023-04-27T12:01:53.832194Z",
     "end_time": "2023-04-27T12:01:53.892392Z"
    }
   }
  },
  {
   "cell_type": "markdown",
   "source": [
    "## Takeaways\n",
    "* The model performed better on test than valadate and test\n",
    "* Model performs at 80% accuracy on train and 81.5% accuracy on validate\n",
    "* Model performed at an accuracy of 81.8% on test"
   ],
   "metadata": {
    "collapsed": false
   }
  },
  {
   "cell_type": "markdown",
   "source": [
    "# Export Predictions in csv file"
   ],
   "metadata": {
    "collapsed": false
   }
  },
  {
   "cell_type": "code",
   "execution_count": 20,
   "outputs": [],
   "source": [
    "# fit the model\n",
    "logit = LogisticRegression(penalty='l1', random_state=123, solver='liblinear')"
   ],
   "metadata": {
    "collapsed": false,
    "ExecuteTime": {
     "start_time": "2023-04-27T12:01:53.892839Z",
     "end_time": "2023-04-27T12:01:53.895897Z"
    }
   }
  },
  {
   "cell_type": "code",
   "execution_count": 21,
   "outputs": [
    {
     "data": {
      "text/plain": "LogisticRegression(penalty='l1', random_state=123, solver='liblinear')",
      "text/html": "<style>#sk-container-id-3 {color: black;background-color: white;}#sk-container-id-3 pre{padding: 0;}#sk-container-id-3 div.sk-toggleable {background-color: white;}#sk-container-id-3 label.sk-toggleable__label {cursor: pointer;display: block;width: 100%;margin-bottom: 0;padding: 0.3em;box-sizing: border-box;text-align: center;}#sk-container-id-3 label.sk-toggleable__label-arrow:before {content: \"▸\";float: left;margin-right: 0.25em;color: #696969;}#sk-container-id-3 label.sk-toggleable__label-arrow:hover:before {color: black;}#sk-container-id-3 div.sk-estimator:hover label.sk-toggleable__label-arrow:before {color: black;}#sk-container-id-3 div.sk-toggleable__content {max-height: 0;max-width: 0;overflow: hidden;text-align: left;background-color: #f0f8ff;}#sk-container-id-3 div.sk-toggleable__content pre {margin: 0.2em;color: black;border-radius: 0.25em;background-color: #f0f8ff;}#sk-container-id-3 input.sk-toggleable__control:checked~div.sk-toggleable__content {max-height: 200px;max-width: 100%;overflow: auto;}#sk-container-id-3 input.sk-toggleable__control:checked~label.sk-toggleable__label-arrow:before {content: \"▾\";}#sk-container-id-3 div.sk-estimator input.sk-toggleable__control:checked~label.sk-toggleable__label {background-color: #d4ebff;}#sk-container-id-3 div.sk-label input.sk-toggleable__control:checked~label.sk-toggleable__label {background-color: #d4ebff;}#sk-container-id-3 input.sk-hidden--visually {border: 0;clip: rect(1px 1px 1px 1px);clip: rect(1px, 1px, 1px, 1px);height: 1px;margin: -1px;overflow: hidden;padding: 0;position: absolute;width: 1px;}#sk-container-id-3 div.sk-estimator {font-family: monospace;background-color: #f0f8ff;border: 1px dotted black;border-radius: 0.25em;box-sizing: border-box;margin-bottom: 0.5em;}#sk-container-id-3 div.sk-estimator:hover {background-color: #d4ebff;}#sk-container-id-3 div.sk-parallel-item::after {content: \"\";width: 100%;border-bottom: 1px solid gray;flex-grow: 1;}#sk-container-id-3 div.sk-label:hover label.sk-toggleable__label {background-color: #d4ebff;}#sk-container-id-3 div.sk-serial::before {content: \"\";position: absolute;border-left: 1px solid gray;box-sizing: border-box;top: 0;bottom: 0;left: 50%;z-index: 0;}#sk-container-id-3 div.sk-serial {display: flex;flex-direction: column;align-items: center;background-color: white;padding-right: 0.2em;padding-left: 0.2em;position: relative;}#sk-container-id-3 div.sk-item {position: relative;z-index: 1;}#sk-container-id-3 div.sk-parallel {display: flex;align-items: stretch;justify-content: center;background-color: white;position: relative;}#sk-container-id-3 div.sk-item::before, #sk-container-id-3 div.sk-parallel-item::before {content: \"\";position: absolute;border-left: 1px solid gray;box-sizing: border-box;top: 0;bottom: 0;left: 50%;z-index: -1;}#sk-container-id-3 div.sk-parallel-item {display: flex;flex-direction: column;z-index: 1;position: relative;background-color: white;}#sk-container-id-3 div.sk-parallel-item:first-child::after {align-self: flex-end;width: 50%;}#sk-container-id-3 div.sk-parallel-item:last-child::after {align-self: flex-start;width: 50%;}#sk-container-id-3 div.sk-parallel-item:only-child::after {width: 0;}#sk-container-id-3 div.sk-dashed-wrapped {border: 1px dashed gray;margin: 0 0.4em 0.5em 0.4em;box-sizing: border-box;padding-bottom: 0.4em;background-color: white;}#sk-container-id-3 div.sk-label label {font-family: monospace;font-weight: bold;display: inline-block;line-height: 1.2em;}#sk-container-id-3 div.sk-label-container {text-align: center;}#sk-container-id-3 div.sk-container {/* jupyter's `normalize.less` sets `[hidden] { display: none; }` but bootstrap.min.css set `[hidden] { display: none !important; }` so we also need the `!important` here to be able to override the default hidden behavior on the sphinx rendered scikit-learn.org. See: https://github.com/scikit-learn/scikit-learn/issues/21755 */display: inline-block !important;position: relative;}#sk-container-id-3 div.sk-text-repr-fallback {display: none;}</style><div id=\"sk-container-id-3\" class=\"sk-top-container\"><div class=\"sk-text-repr-fallback\"><pre>LogisticRegression(penalty=&#x27;l1&#x27;, random_state=123, solver=&#x27;liblinear&#x27;)</pre><b>In a Jupyter environment, please rerun this cell to show the HTML representation or trust the notebook. <br />On GitHub, the HTML representation is unable to render, please try loading this page with nbviewer.org.</b></div><div class=\"sk-container\" hidden><div class=\"sk-item\"><div class=\"sk-estimator sk-toggleable\"><input class=\"sk-toggleable__control sk-hidden--visually\" id=\"sk-estimator-id-3\" type=\"checkbox\" checked><label for=\"sk-estimator-id-3\" class=\"sk-toggleable__label sk-toggleable__label-arrow\">LogisticRegression</label><div class=\"sk-toggleable__content\"><pre>LogisticRegression(penalty=&#x27;l1&#x27;, random_state=123, solver=&#x27;liblinear&#x27;)</pre></div></div></div></div></div>"
     },
     "execution_count": 21,
     "metadata": {},
     "output_type": "execute_result"
    }
   ],
   "source": [
    "logit.fit(x_train, y_train)"
   ],
   "metadata": {
    "collapsed": false,
    "ExecuteTime": {
     "start_time": "2023-04-27T12:01:53.898037Z",
     "end_time": "2023-04-27T12:01:53.951057Z"
    }
   }
  },
  {
   "cell_type": "markdown",
   "source": [
    "# Visualize the model"
   ],
   "metadata": {
    "collapsed": false
   }
  },
  {
   "cell_type": "code",
   "execution_count": 37,
   "outputs": [
    {
     "data": {
      "text/plain": "<Figure size 1300x700 with 1 Axes>",
      "image/png": "[encoded data removed]"
     },
     "metadata": {},
     "output_type": "display_data"
    }
   ],
   "source": [
    "# visualize the model\n",
    "\n",
    "def visualize_model():\n",
    "\n",
    "    cvalue = [.0001, .001, .01, .1, 1, 10, 100, 1000, 10000]\n",
    "    train_accuracy = []\n",
    "    validate_accuracy = []\n",
    "    for c in cvalue:\n",
    "        logit = LogisticRegression(penalty='l1', C=c, random_state=123, solver='liblinear')\n",
    "        logit.fit(x_train, y_train)\n",
    "        train_accuracy.append(logit.score(x_train, y_train))\n",
    "        validate_accuracy.append(logit.score(x_validate, y_validate))\n",
    "    plt.figure(figsize=(13, 7))\n",
    "    plt.plot(cvalue, train_accuracy, label='Train', marker='o')\n",
    "    plt.plot(cvalue, validate_accuracy, label='Validate', marker='o')\n",
    "    plt.xticks(cvalue)\n",
    "    plt.xscale('log')\n",
    "    plt.ylabel('Accuracy')\n",
    "    plt.xlabel('C')\n",
    "    plt.title('Accuracy vs C')\n",
    "    plt.legend()\n",
    "\n",
    "visualize_model()\n",
    "\n"
   ],
   "metadata": {
    "collapsed": false,
    "ExecuteTime": {
     "start_time": "2023-04-27T12:11:13.903423Z",
     "end_time": "2023-04-27T12:11:14.450327Z"
    }
   }
  },
  {
   "cell_type": "code",
   "execution_count": null,
   "outputs": [],
   "source": [
    "\n",
    "\n"
   ],
   "metadata": {
    "collapsed": false,
    "ExecuteTime": {
     "start_time": "2023-04-27T10:16:57.211503Z",
     "end_time": "2023-04-27T10:16:57.215286Z"
    }
   }
  },
  {
   "cell_type": "code",
   "execution_count": 40,
   "outputs": [
    {
     "data": {
      "text/plain": "     customer_id  probability_of_churn  prediction_of_churn\n3160  4531-AUZNK              0.122469                    0\n1577  2296-DKZFP              0.007984                    0\n6823  9692-TUSXH              0.595138                    1\n3615  5129-JLPIS              0.500050                    1\n882   1273-MTETI              0.781627                    1\n...          ...                   ...                  ...\n1097  1597-FZREH              0.443790                    0\n6441  9117-SHLZX              0.453097                    0\n5985  8441-SHIPE              0.004155                    0\n2452  3511-BFTJW              0.004152                    0\n983   1428-GTBJJ              0.578255                    1\n\n[1409 rows x 3 columns]",
      "text/html": "<div>\n<style scoped>\n    .dataframe tbody tr th:only-of-type {\n        vertical-align: middle;\n    }\n\n    .dataframe tbody tr th {\n        vertical-align: top;\n    }\n\n    .dataframe thead th {\n        text-align: right;\n    }\n</style>\n<table border=\"1\" class=\"dataframe\">\n  <thead>\n    <tr style=\"text-align: right;\">\n      <th></th>\n      <th>customer_id</th>\n      <th>probability_of_churn</th>\n      <th>prediction_of_churn</th>\n    </tr>\n  </thead>\n  <tbody>\n    <tr>\n      <th>3160</th>\n      <td>4531-AUZNK</td>\n      <td>0.122469</td>\n      <td>0</td>\n    </tr>\n    <tr>\n      <th>1577</th>\n      <td>2296-DKZFP</td>\n      <td>0.007984</td>\n      <td>0</td>\n    </tr>\n    <tr>\n      <th>6823</th>\n      <td>9692-TUSXH</td>\n      <td>0.595138</td>\n      <td>1</td>\n    </tr>\n    <tr>\n      <th>3615</th>\n      <td>5129-JLPIS</td>\n      <td>0.500050</td>\n      <td>1</td>\n    </tr>\n    <tr>\n      <th>882</th>\n      <td>1273-MTETI</td>\n      <td>0.781627</td>\n      <td>1</td>\n    </tr>\n    <tr>\n      <th>...</th>\n      <td>...</td>\n      <td>...</td>\n      <td>...</td>\n    </tr>\n    <tr>\n      <th>1097</th>\n      <td>1597-FZREH</td>\n      <td>0.443790</td>\n      <td>0</td>\n    </tr>\n    <tr>\n      <th>6441</th>\n      <td>9117-SHLZX</td>\n      <td>0.453097</td>\n      <td>0</td>\n    </tr>\n    <tr>\n      <th>5985</th>\n      <td>8441-SHIPE</td>\n      <td>0.004155</td>\n      <td>0</td>\n    </tr>\n    <tr>\n      <th>2452</th>\n      <td>3511-BFTJW</td>\n      <td>0.004152</td>\n      <td>0</td>\n    </tr>\n    <tr>\n      <th>983</th>\n      <td>1428-GTBJJ</td>\n      <td>0.578255</td>\n      <td>1</td>\n    </tr>\n  </tbody>\n</table>\n<p>1409 rows × 3 columns</p>\n</div>"
     },
     "execution_count": 40,
     "metadata": {},
     "output_type": "execute_result"
    }
   ],
   "source": [
    "# create a dataframe with customer_id , probability of churn, and prediction\n",
    "prediction_df = pd.DataFrame({'customer_id': test.customer_id,\n",
    "                              'probability_of_churn': logit.predict_proba(x_test)[:,1],\n",
    "                              'prediction_of_churn': logit.predict(x_test)})\n",
    "prediction_df"
   ],
   "metadata": {
    "collapsed": false,
    "ExecuteTime": {
     "start_time": "2023-04-27T12:15:14.070314Z",
     "end_time": "2023-04-27T12:15:14.095234Z"
    }
   }
  },
  {
   "cell_type": "code",
   "execution_count": 41,
   "outputs": [],
   "source": [
    "# export the dataframe to csv\n",
    "prediction_df.to_csv('predictions.csv')"
   ],
   "metadata": {
    "collapsed": false,
    "ExecuteTime": {
     "start_time": "2023-04-27T12:16:13.628056Z",
     "end_time": "2023-04-27T12:16:13.638324Z"
    }
   }
  },
  {
   "cell_type": "code",
   "execution_count": null,
   "outputs": [],
   "source": [],
   "metadata": {
    "collapsed": false,
    "ExecuteTime": {
     "start_time": "2023-04-27T10:16:57.246063Z",
     "end_time": "2023-04-27T10:16:57.288778Z"
    }
   }
  }
 ],
 "metadata": {
  "kernelspec": {
   "display_name": "Python 3",
   "language": "python",
   "name": "python3"
  },
  "language_info": {
   "codemirror_mode": {
    "name": "ipython",
    "version": 2
   },
   "file_extension": ".py",
   "mimetype": "text/x-python",
   "name": "python",
   "nbconvert_exporter": "python",
   "pygments_lexer": "ipython2",
   "version": "2.7.6"
  }
 },
 "nbformat": 4,
 "nbformat_minor": 0
}
